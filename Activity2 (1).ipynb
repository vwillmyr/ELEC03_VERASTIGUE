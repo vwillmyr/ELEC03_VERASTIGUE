{
 "cells": [
  {
   "cell_type": "markdown",
   "id": "23b1ca08-8a6d-402f-8b36-04a5be0e5df9",
   "metadata": {},
   "source": [
    "<h1>Activity 2 - UK ROAD ACCIDENT </h1>\n",
    "<hr>\n",
    "<h3>Analyst : Willmyr Kurt M. Verastigue<h3>"
   ]
  },
  {
   "cell_type": "markdown",
   "id": "ba257ada-4d5f-4aa8-a0a2-a23e85353019",
   "metadata": {},
   "source": [
    "<hr>\n",
    "<h2> 1. IMPORT NECESSARY LIBRARIES </h2>"
   ]
  },
  {
   "cell_type": "code",
   "execution_count": null,
   "id": "3185696c-6af6-4c3b-acec-e7e68ce544da",
   "metadata": {},
   "outputs": [],
   "source": [
    "#import libraries\n",
    "import numpy as np\n",
    "import pandas as pd \n",
    "import warnings\n",
    "import matplotlib.pyplot as plt\n",
    "import seaborn as snsz\n",
    "warnings.filterwarnings('ignore')"
   ]
  },
  {
   "cell_type": "markdown",
   "id": "13dff53b-e72e-4c95-9363-6d2c23a96e50",
   "metadata": {},
   "source": [
    "<hr>"
   ]
  },
  {
   "cell_type": "markdown",
   "id": "8cc1149a-2c62-4605-a076-277b1746e855",
   "metadata": {},
   "source": [
    "<h2> 2. CONVERT DATASET TO DATAFRAME</h2>\n",
    "<ul>\n",
    "    <li>\n",
    "        <h3>a) Load the Dataset into a Pandas DataFrame</h3>\n",
    "    </li>\n",
    "</ul>"
   ]
  },
  {
   "cell_type": "markdown",
   "id": "b464f593-5264-4bad-a2c4-b7ff2c9cb887",
   "metadata": {},
   "source": [
    "<h2>REQUIREMENTS</h2>\n",
    "<ul>\n",
    "    <li>\n",
    "        Name of the DataFrame\n",
    "    </li>\n",
    "    <li>\n",
    "        File Path\n",
    "    </li>\n",
    "</ul>"
   ]
  },
  {
   "cell_type": "code",
   "execution_count": null,
   "id": "0cada7f5-a256-4a6c-ab80-0a33f1f3f8de",
   "metadata": {},
   "outputs": [],
   "source": [
    "accident = pd.read_csv('Datasets\\\\uk_road_accident.csv')"
   ]
  },
  {
   "cell_type": "code",
   "execution_count": null,
   "id": "4a653104-4310-4561-9983-47c50ae28d2e",
   "metadata": {},
   "outputs": [],
   "source": [
    "accident"
   ]
  },
  {
   "cell_type": "markdown",
   "id": "4e612fc8-dbd1-4c85-a85d-8e043db06f5b",
   "metadata": {},
   "source": [
    "<hr>"
   ]
  },
  {
   "cell_type": "markdown",
   "id": "f8327ad3-7618-442d-85a0-40baece9a784",
   "metadata": {},
   "source": [
    "<h2> 3. CHECK DATAFRAME INFORMATION</h2>\n"
   ]
  },
  {
   "cell_type": "code",
   "execution_count": null,
   "id": "31140be7-1445-48f7-9c41-cebab50aae40",
   "metadata": {},
   "outputs": [],
   "source": [
    "accident.info()"
   ]
  },
  {
   "cell_type": "markdown",
   "id": "f299a7bd-795e-46d1-809e-b837657b300e",
   "metadata": {},
   "source": [
    "<hr>"
   ]
  },
  {
   "cell_type": "markdown",
   "id": "4c18af9e-0e36-4680-8b2d-bcc9b5857d83",
   "metadata": {},
   "source": [
    "<h2> 4. CHECK BASIC DESCRIPTIVE ANALYTICS</h2>"
   ]
  },
  {
   "cell_type": "code",
   "execution_count": null,
   "id": "13ae0186-b9dc-4256-b496-981bffc52528",
   "metadata": {},
   "outputs": [],
   "source": [
    "accident.describe()"
   ]
  },
  {
   "cell_type": "code",
   "execution_count": null,
   "id": "2a57ed01-c782-4251-830f-946d8f6f0b5e",
   "metadata": {},
   "outputs": [],
   "source": [
    "accident.describe().T"
   ]
  },
  {
   "cell_type": "markdown",
   "id": "47936a6c-b709-4934-bcb4-defaa5f83c61",
   "metadata": {},
   "source": [
    "<hr>\n",
    "<h2> 5. CALL EACH COLUMN INDIVIDUALLY</h2>\n",
    "<ul>\n",
    "    <li><h3> a. Access and print each column separately.</li>\n",
    "</ul>"
   ]
  },
  {
   "cell_type": "code",
   "execution_count": null,
   "id": "eb483407-8645-4ceb-aad7-2a01235ba2bc",
   "metadata": {},
   "outputs": [],
   "source": [
    "accident.columns"
   ]
  },
  {
   "cell_type": "code",
   "execution_count": null,
   "id": "55f7ea75-478b-413d-86a7-717ef7e9e7de",
   "metadata": {},
   "outputs": [],
   "source": [
    "accident['Index']"
   ]
  },
  {
   "cell_type": "code",
   "execution_count": null,
   "id": "3e13336d-2a1b-45fd-a193-39b092305e1a",
   "metadata": {
    "scrolled": true
   },
   "outputs": [],
   "source": [
    "accident['Accident_Severity']"
   ]
  },
  {
   "cell_type": "code",
   "execution_count": null,
   "id": "e4012afc-7980-4865-9ff0-23f96bdbea29",
   "metadata": {},
   "outputs": [],
   "source": [
    "accident['Accident Date']"
   ]
  },
  {
   "cell_type": "code",
   "execution_count": null,
   "id": "6a707c1e-8c4e-4c14-a8e0-e0606d86bfcd",
   "metadata": {},
   "outputs": [],
   "source": [
    "accident['Latitude']"
   ]
  },
  {
   "cell_type": "code",
   "execution_count": null,
   "id": "224c394f-c9c1-4bce-9aa5-658dcbd41fca",
   "metadata": {},
   "outputs": [],
   "source": [
    "accident['Light_Conditions']"
   ]
  },
  {
   "cell_type": "code",
   "execution_count": null,
   "id": "577a07b3-a7d9-4a87-af51-c2e45714de11",
   "metadata": {},
   "outputs": [],
   "source": [
    "accident['District Area']"
   ]
  },
  {
   "cell_type": "code",
   "execution_count": null,
   "id": "be1cb1a6-333d-4f44-986e-d31cc949c574",
   "metadata": {},
   "outputs": [],
   "source": [
    "accident['Longitude']"
   ]
  },
  {
   "cell_type": "code",
   "execution_count": null,
   "id": "06e05734-1a16-4634-83e2-36ff03496543",
   "metadata": {},
   "outputs": [],
   "source": [
    "accident['Number_of_Casualties']"
   ]
  },
  {
   "cell_type": "code",
   "execution_count": null,
   "id": "5e0642a1-34bc-4a13-9fa6-bd2ddc32aefd",
   "metadata": {},
   "outputs": [],
   "source": [
    "accident['Number_of_Vehicles']"
   ]
  },
  {
   "cell_type": "code",
   "execution_count": null,
   "id": "e5db5e8b-c294-4bfc-8303-14e415c84e4a",
   "metadata": {},
   "outputs": [],
   "source": [
    "accident['Road_Surface_Conditions']"
   ]
  },
  {
   "cell_type": "code",
   "execution_count": null,
   "id": "52dc261f-36c8-4089-b588-c71a0a3f2402",
   "metadata": {},
   "outputs": [],
   "source": [
    "accident['Road_Type']"
   ]
  },
  {
   "cell_type": "code",
   "execution_count": null,
   "id": "66162977-26ce-4fd3-8133-8f860fb27dad",
   "metadata": {},
   "outputs": [],
   "source": [
    "accident['Urban_or_Rural_Area']"
   ]
  },
  {
   "cell_type": "code",
   "execution_count": null,
   "id": "0d32d5d2-1757-496a-a89f-bf71d1c61da0",
   "metadata": {},
   "outputs": [],
   "source": [
    "accident['Weather_Conditions']"
   ]
  },
  {
   "cell_type": "code",
   "execution_count": null,
   "id": "3b223514-8501-460b-a751-a10121b69ffb",
   "metadata": {},
   "outputs": [],
   "source": [
    "accident['Vehicle_Type']"
   ]
  },
  {
   "cell_type": "markdown",
   "id": "e1c4fdee-d843-462b-9698-82ed531bbdb0",
   "metadata": {},
   "source": [
    "<hr>"
   ]
  },
  {
   "cell_type": "markdown",
   "id": "f315c086-e9df-4005-a04f-beb24b51b68a",
   "metadata": {},
   "source": [
    "<h2> 6. CHECKING FOR NULL VALUES </h2>\n",
    "<ul>\n",
    "    <li><h3>a. Identify missing values using</h3></li>\n",
    "</ul>"
   ]
  },
  {
   "cell_type": "code",
   "execution_count": null,
   "id": "8288745e-c7b9-4e38-ad50-9850c1935cc3",
   "metadata": {},
   "outputs": [],
   "source": [
    "accident.isnull()"
   ]
  },
  {
   "cell_type": "code",
   "execution_count": null,
   "id": "5a2cddfb-db9d-44c3-ade3-32eada4c4287",
   "metadata": {},
   "outputs": [],
   "source": [
    "accident.isnull().sum"
   ]
  },
  {
   "cell_type": "markdown",
   "id": "34f02199-2c1a-4f09-99a2-04fb99a6ad44",
   "metadata": {},
   "source": [
    "<h2> 7. FILL NULL VALUES WITH STATISTICAL VALUES</h2>"
   ]
  },
  {
   "cell_type": "code",
   "execution_count": null,
   "id": "cbdbccdf-f079-401e-8f8f-9289d83176ff",
   "metadata": {},
   "outputs": [],
   "source": [
    "accident['Accident_Severity'] = accident['Accident_Severity'].fillna(accident['Accident_Severity'].mode()[0])\n",
    "accident['Light_Conditions'] = accident['Light_Conditions'].fillna(accident['Light_Conditions'].mode()[0])\n",
    "accident['Road_Surface_Conditions'] = accident['Road_Surface_Conditions'].fillna(accident['Road_Surface_Conditions'].mode()[0])\n",
    "accident['Number_of_Casualties'] = accident['Number_of_Casualties'].fillna(accident['Number_of_Casualties'].median())\n",
    "accident['Number_of_Vehicles'] = accident['Number_of_Vehicles'].fillna(accident['Number_of_Vehicles'].median())\n",
    "accident['District Area'] = accident['District Area'].fillna(accident['District Area'].mode()[0])\n",
    "accident['Latitude'] = accident['Latitude'].fillna(accident['Latitude'].mode()[0])\n",
    "accident['Longitude'] = accident['Longitude'].fillna(accident['Longitude'].mode()[0])\n",
    "accident['Road_Type'] = accident['Road_Type'].fillna('unacounted')\n",
    "accident['Weather_Conditions'] = accident['Weather_Conditions'].fillna('unacounted')\n",
    "accident['Urban_or_Rural_Area'] = accident['Urban_or_Rural_Area'].fillna(accident['Urban_or_Rural_Area'].mode()[0])"
   ]
  },
  {
   "cell_type": "code",
   "execution_count": null,
   "id": "a34196a2-8a75-4926-96ab-a9cf48e713bf",
   "metadata": {},
   "outputs": [],
   "source": [
    "accident.isnull().sum()"
   ]
  },
  {
   "cell_type": "markdown",
   "id": "f79c7457-5443-4917-b2e8-16f7e2be0a14",
   "metadata": {},
   "source": [
    "<h2> 8. CHECK COLUMN DATA TYPES</h2>\n",
    "<ul>\n",
    "    <li><h3>a. Inspect and adjust data types as needed</h3></li>\n",
    "</ul>"
   ]
  },
  {
   "cell_type": "code",
   "execution_count": null,
   "id": "48769474-60f3-49af-98a5-a6efe87bf7f8",
   "metadata": {},
   "outputs": [],
   "source": [
    "accident.columns"
   ]
  },
  {
   "cell_type": "markdown",
   "id": "573e5e52-7765-411f-8aa1-9ed79473a308",
   "metadata": {},
   "source": [
    "<h2>Adjust Data Types</h2>"
   ]
  },
  {
   "cell_type": "code",
   "execution_count": null,
   "id": "1e8db556-ee6e-49a7-acc9-38167ce6f931",
   "metadata": {},
   "outputs": [],
   "source": [
    "accident['Index'] = accident['Index'].astype('category')\n",
    "accident['Accident_Severity'] = accident['Accident_Severity'].astype('category')\n",
    "accident['Light_Conditions'] = accident['Light_Conditions'].astype('category')\n",
    "accident['District Area'] = accident['District Area'].astype('category')\n",
    "accident['Road_Surface_Conditions'] = accident['Road_Surface_Conditions'].astype('category')\n",
    "accident['Road_Type'] = accident['Road_Type'].astype('category')\n",
    "accident['Urban_or_Rural_Area'] = accident['Urban_or_Rural_Area'].astype('category')\n",
    "accident['Weather_Conditions'] = accident['Weather_Conditions'].astype('category')\n",
    "accident['Vehicle_Type'] = accident['Vehicle_Type'].astype('category')\n"
   ]
  },
  {
   "cell_type": "code",
   "execution_count": null,
   "id": "2097db5f-4a45-40ba-98bb-e1d1ae004784",
   "metadata": {},
   "outputs": [],
   "source": [
    "accident.dtypes"
   ]
  },
  {
   "cell_type": "markdown",
   "id": "c903bdec-93d0-478e-9f55-3139dee209c3",
   "metadata": {},
   "source": [
    "<h2>SERIOUS DATA FRAMES</h2>"
   ]
  },
  {
   "cell_type": "code",
   "execution_count": null,
   "id": "3366c048-f19b-4cc8-84e9-2fde016f7c8c",
   "metadata": {},
   "outputs": [],
   "source": [
    "serious_df = accident[accident['Accident_Severity'] == 'Serious']\n",
    "serious_df\n"
   ]
  },
  {
   "cell_type": "markdown",
   "id": "2fe2e9af-349d-4360-b331-8e033687b406",
   "metadata": {},
   "source": [
    "<h2>SLIGHT DATA FRAMES</h2>"
   ]
  },
  {
   "cell_type": "code",
   "execution_count": null,
   "id": "25db7b3c-f58d-4878-b8d0-2958e137f68a",
   "metadata": {},
   "outputs": [],
   "source": [
    "\n",
    "slight_df = accident[accident['Accident_Severity'] == 'Slight']\n",
    "slight_df\n"
   ]
  },
  {
   "cell_type": "markdown",
   "id": "0e670a6e-d1fb-455a-99f1-4152efc07561",
   "metadata": {},
   "source": [
    "<h2>FATAL DATA FRAMES</h2>"
   ]
  },
  {
   "cell_type": "code",
   "execution_count": null,
   "id": "7f91e0e2-f2cd-4bdf-933e-0829be868bab",
   "metadata": {},
   "outputs": [],
   "source": [
    "\n",
    "fatal_df = accident[accident['Accident_Severity'] == 'Fatal']\n",
    "fatal_df"
   ]
  },
  {
   "cell_type": "markdown",
   "id": "a96ddada-873c-4a1f-8b9b-92381204e475",
   "metadata": {},
   "source": [
    "<h2>CLEARING ANY INCONSISTENCY WITH THE DATA SET</h2>"
   ]
  },
  {
   "cell_type": "code",
   "execution_count": null,
   "id": "7bd7c200-2a61-4213-a928-1d30c5788de4",
   "metadata": {},
   "outputs": [],
   "source": [
    "accident['Accident Date'] = accident['Accident Date'].str.strip() #to remove extra white spaces\n",
    "\n",
    "accident['Accident Date'] = accident['Accident Date'].astype('str') #to convert into a string\n",
    "\n",
    "accident['Accident Date'] = accident['Accident Date'].str.replace('/','-') \n",
    "\n",
    "accident['Accident Date'] = pd.to_datetime(accident['Accident Date'], dayfirst = True, errors = 'coerce')"
   ]
  },
  {
   "cell_type": "markdown",
   "id": "007802bb-cf61-4dc5-9aee-005c96bbfc89",
   "metadata": {},
   "source": [
    "<h2>EXTRACTING DATE INFORMATION USING PANDAS DATE TIME</h2>"
   ]
  },
  {
   "cell_type": "code",
   "execution_count": null,
   "id": "ce87a19a-fd50-470d-b64d-4bc85c86540e",
   "metadata": {},
   "outputs": [],
   "source": [
    "accident['Year'] = accident['Accident Date'].dt.year\n",
    "accident['Month'] = accident['Accident Date'].dt.month\n",
    "accident['Day'] = accident['Accident Date'].dt.day\n",
    "accident['DayOFWeek'] = accident['Accident Date'].dt.dayofweek #Monday=0, Sunday=6"
   ]
  },
  {
   "cell_type": "code",
   "execution_count": null,
   "id": "8f0fe74b-a3da-4723-afcb-63a60e827641",
   "metadata": {},
   "outputs": [],
   "source": [
    "# Step 1: Convert to string only if not null\n",
    "accident['Accident Date'] = accident['Accident Date'].astype(str)\n",
    "# Step 2: Replace '/' with '-' safely\n",
    "accident['Accident Date'] = accident['Accident Date'].apply(lambda x: x.replace('/', '-') if pd.notnull(x) else x)\n",
    "# Step 3: Strip whitespace\n",
    "accident['Accident Date'] = accident['Accident Date'].apply(lambda x: x.strip() if pd.notnull(x) else x)\n",
    "# Step 4: Convert to datetime\n",
    "accident['Accident Date'] = pd.to_datetime(accident['Accident Date'], dayfirst=True, errors='coerce')\n",
    "\n",
    "\n",
    "accident['Latitude'] = accident['Latitude'].fillna(accident['Latitude'].mode()[0])\n",
    "accident['Longitude'] = accident['Longitude'].fillna(accident['Longitude'].mode()[0])\n",
    "accident['Road_Surface_Conditions'] = accident['Road_Surface_Conditions'].fillna('unaccounted')\n",
    "accident['Road_Type'] = accident['Road_Type'].fillna('unaccounted')\n",
    "accident['Weather_Conditions'] = accident['Weather_Conditions'].fillna('unaccounted_weather_condition')\n",
    "accident['Urban_or_Rural_Area'] = accident['Urban_or_Rural_Area'].fillna('unknown_area')\n",
    "accident.dtypes\n",
    "accident.isnull().sum()\n",
    "\n",
    "accident['Year'] = accident['Accident Date'].dt.year\n",
    "accident['Month'] =  accident['Accident Date'].dt.month\n",
    "accident['Day'] =  accident['Accident Date'].dt.day\n",
    "accident['DayOfWeek'] = accident['Accident Date'].dt.dayofweek\n",
    "accident.isnull().sum()"
   ]
  },
  {
   "cell_type": "markdown",
   "id": "4a08004d-3897-4655-85cc-84179d1c80c5",
   "metadata": {},
   "source": [
    "<h1>SELF-EXPLANATORY DATA ANALYTICS</h1>"
   ]
  },
  {
   "cell_type": "markdown",
   "id": "eb2dbc05-0f98-4ea2-ba46-251e7d3a47b1",
   "metadata": {},
   "source": [
    "<h2>QUESTION #1</h2>"
   ]
  },
  {
   "cell_type": "markdown",
   "id": "18cc7d06-fcdc-414c-b684-65ca8cb3d26e",
   "metadata": {},
   "source": [
    "<h2>Which among the categories of accident has the highest number of records?</h2>\n",
    "<hr>"
   ]
  },
  {
   "cell_type": "code",
   "execution_count": null,
   "id": "393f0d15-e584-4ef9-ab86-5b9dcb0be60c",
   "metadata": {},
   "outputs": [],
   "source": [
    "accident['Accident_Severity'].value_counts()"
   ]
  },
  {
   "cell_type": "markdown",
   "id": "fc4d774a-b8f2-4659-b216-b0f76982251d",
   "metadata": {},
   "source": [
    "<h3>INSIGHTS: </h3>"
   ]
  },
  {
   "cell_type": "markdown",
   "id": "67a7ae87-fb8f-4316-afc4-80823a1bbd32",
   "metadata": {},
   "source": [
    "Based on the result provided, it is evident that the category \"Slight\" accident has the highest number of records, totaling 563,801. This is followed by \"Serious\" accidents with 88,217 records, and \"Fatal\" accidents with the least, 8,661 records."
   ]
  },
  {
   "cell_type": "markdown",
   "id": "74d47736-7a0e-4246-a572-e4f80ba1abd4",
   "metadata": {},
   "source": [
    "<h2>QUESTION #2</h2>"
   ]
  },
  {
   "cell_type": "markdown",
   "id": "09f6f8d1-7dff-484a-9dcb-1291d5c00efa",
   "metadata": {},
   "source": [
    "<h2>Can you compare the accidents in the past with the current records?</h2>\n",
    "<hr>"
   ]
  },
  {
   "cell_type": "code",
   "execution_count": null,
   "id": "23cf1d03-dd7f-4a20-87db-3b766b175167",
   "metadata": {},
   "outputs": [],
   "source": [
    "accident.head(5)"
   ]
  },
  {
   "cell_type": "code",
   "execution_count": null,
   "id": "79fe3fd0-5c48-435f-af0f-6698eafe281a",
   "metadata": {},
   "outputs": [],
   "source": [
    "accident.tail(5)"
   ]
  },
  {
   "cell_type": "markdown",
   "id": "54db858a-7c3d-4430-b005-1565969cd7a5",
   "metadata": {},
   "source": [
    "<h3>INSIGHTS: </h3>"
   ]
  },
  {
   "cell_type": "markdown",
   "id": "96ea48a2-51f3-463d-934e-cb78fd6a11be",
   "metadata": {},
   "source": [
    "We show in the given results that the Accidents in year 2019 in Kensington and Chelsea were usually serious and involved more vehicles, but there was mostly only 1 person hurt and then the accidents in year 2022 in Highland were less serious overall, with fewer cars involved, and sometimes more people hurt.Different road and light conditions (like daylight or darkness) could change how accidents happen. This shows that where and when accidents happen can affect how bad they are and what causes them."
   ]
  },
  {
   "cell_type": "markdown",
   "id": "bf1ff1a5-3da0-4273-9c71-2346fa00a9da",
   "metadata": {},
   "source": [
    "<h2>QUESTION #3</h2>"
   ]
  },
  {
   "cell_type": "markdown",
   "id": "517350b5-3f2e-44ce-8874-acce22417548",
   "metadata": {},
   "source": [
    "<h2>\"Which date or year has the lowest number of accident records?\"</h2>\n",
    "<hr>"
   ]
  },
  {
   "cell_type": "code",
   "execution_count": null,
   "id": "88e64f31-b486-4362-b8fb-c632fa50c705",
   "metadata": {},
   "outputs": [],
   "source": [
    "date_accident = accident.groupby(['Accident Date','Accident_Severity']).size()\n",
    "date_accident"
   ]
  },
  {
   "cell_type": "markdown",
   "id": "089d8983-a60d-443e-9865-fa2c0181ba2d",
   "metadata": {},
   "source": [
    "<h3>INSIGHTS: </h3>"
   ]
  },
  {
   "cell_type": "markdown",
   "id": "2b925dd5-9415-4d5f-a152-d73a4522fb68",
   "metadata": {},
   "source": [
    "Based on the results provided, on 1/1/2020 recorded the lowest incidences of accidents with a total of 56 recorded."
   ]
  },
  {
   "cell_type": "markdown",
   "id": "8505213f-c60a-4626-b96e-6ac9c84e4907",
   "metadata": {},
   "source": [
    "<h2>QUESTION #4</h2>"
   ]
  },
  {
   "cell_type": "markdown",
   "id": "ffb3e048-0f55-4406-a163-4926de447066",
   "metadata": {},
   "source": [
    "<h2>Where do most accidents often happen in a district area?</h2>\n",
    "<hr>"
   ]
  },
  {
   "cell_type": "code",
   "execution_count": null,
   "id": "8086b827-ca88-41e7-b111-9b0b7c76eb1c",
   "metadata": {},
   "outputs": [],
   "source": [
    "area_accident = accident.groupby(['District Area','Accident_Severity']).size()\n",
    "area_accident"
   ]
  },
  {
   "cell_type": "markdown",
   "id": "6c65270d-57c5-49eb-a0d0-6a17937e2052",
   "metadata": {},
   "source": [
    "<h3>INSIGHTS: </h3>"
   ]
  },
  {
   "cell_type": "markdown",
   "id": "939eccf6-89fc-42ea-9b46-a4f49b8e80e4",
   "metadata": {},
   "source": [
    "Based on the results provided, York is the district area where the most accidents typically occur, with a total of 1897 accidents across all severity levels."
   ]
  },
  {
   "cell_type": "markdown",
   "id": "6c0be401-2969-46e3-8ac0-3e75a504f524",
   "metadata": {},
   "source": [
    "<h2>QUESTION #5</h2>"
   ]
  },
  {
   "cell_type": "markdown",
   "id": "1350d563-3454-49d7-ae41-11f30f2dc261",
   "metadata": {},
   "source": [
    "<h2>What is the distribution of accident severity : Fatal, Serious, Slight for each road surface condition? </h2>\n",
    "<hr>"
   ]
  },
  {
   "cell_type": "code",
   "execution_count": null,
   "id": "45ebe193-84eb-440c-b334-64207ddd9ce5",
   "metadata": {},
   "outputs": [],
   "source": [
    "road_accident = accident.groupby(['Road_Surface_Conditions','Accident_Severity']).size()\n",
    "road_accident"
   ]
  },
  {
   "cell_type": "markdown",
   "id": "78066005-03e9-4af1-99e0-205d7db9fbc4",
   "metadata": {},
   "source": [
    "<h3>INSIGHTS: </h3>"
   ]
  },
  {
   "cell_type": "markdown",
   "id": "be1ba072-9060-4520-9e6e-241770a43b15",
   "metadata": {},
   "source": [
    "By the results provided Adverse conditions exhibit a higher ratio of serious accidents: While fewer in absolute numbers, \"Frost or Ice\" and \"Wet or Damp\" conditions seem to have a greater ratio of Fatal and Serious accidents compared to their total accidents than \"Dry\" conditions, they appear to be less than but more dangerous conditions when accidents happen."
   ]
  },
  {
   "cell_type": "markdown",
   "id": "17296b6d-eb57-4528-8b7e-d31bcc10b3e6",
   "metadata": {},
   "source": [
    "<h2>QUESTION #6</h2>"
   ]
  },
  {
   "cell_type": "markdown",
   "id": "5af60768-d338-4cbb-bbed-70cb204a5db5",
   "metadata": {},
   "source": [
    "<h2>\"How do road accident characteristics, specifically volume and severity, differ between urban and rural areas?\"</h2>\n",
    "<hr>"
   ]
  },
  {
   "cell_type": "code",
   "execution_count": null,
   "id": "126a0845-6fa8-4aa5-8095-849ee47933a8",
   "metadata": {},
   "outputs": [],
   "source": [
    "urbanrural_accidents = accident.groupby(['Urban_or_Rural_Area','Accident_Severity']).size()"
   ]
  },
  {
   "cell_type": "code",
   "execution_count": null,
   "id": "70aa85d3-e172-4c3b-ac61-34bc4314d9f3",
   "metadata": {},
   "outputs": [],
   "source": [
    "urbanrural_accidents"
   ]
  },
  {
   "cell_type": "markdown",
   "id": "f752df63-fbab-403a-befc-92d0b7dd6165",
   "metadata": {},
   "source": [
    "<h3>INSIGHTS: </h3>"
   ]
  },
  {
   "cell_type": "markdown",
   "id": "8a84653a-9dc2-48ae-9cb2-b5d575b8bb77",
   "metadata": {},
   "source": [
    "We show the given results illustrate that urban areas have a higher volume of accidents, particularly less severe ones, while rural areas, despite having fewer total accidents, experience a higher rate of fatal crashes. This highlights a crucial difference in accident characteristics between urban and rural environments."
   ]
  },
  {
   "cell_type": "markdown",
   "id": "24fad8d0-135d-4864-bf3a-e91f2cbd24ce",
   "metadata": {},
   "source": [
    "<h2>QUESTION #7</h2>"
   ]
  },
  {
   "cell_type": "markdown",
   "id": "fcb75e00-93be-42c6-bd72-2aa1eda8a1d2",
   "metadata": {},
   "source": [
    "<h2>What are the common contributing factors associated with serious accidents? </h2>\n",
    "<hr>"
   ]
  },
  {
   "cell_type": "code",
   "execution_count": null,
   "id": "75dbe9b6-dced-4871-9d27-f64ff3bb03fb",
   "metadata": {},
   "outputs": [],
   "source": [
    "accident[accident['Accident_Severity'] == 'Serious']"
   ]
  },
  {
   "cell_type": "markdown",
   "id": "79564948-7b6f-4bc3-9452-ad8e27f693da",
   "metadata": {},
   "source": [
    "<h3>INSIGHTS: </h3>"
   ]
  },
  {
   "cell_type": "markdown",
   "id": "2717ad83-9d78-47e1-b21a-cb9b22bee2d9",
   "metadata": {},
   "source": [
    "We demonstrate that the reported findings indicate that investigation of the most contributory factors like specific road conditions, weather conditions, car-related problems being involved in major accidents describes notable patterns, thus enabling us to design highly particular and evidence-based interventions for substantially reducing future major accident occurrence and severity."
   ]
  },
  {
   "cell_type": "markdown",
   "id": "eb6bb502-ff19-4c8e-94fb-3ad1106f3906",
   "metadata": {},
   "source": [
    "<h2>QUESTION #8</h2>"
   ]
  },
  {
   "cell_type": "markdown",
   "id": "c6daee7b-fe58-455a-93a3-193afb37fe43",
   "metadata": {},
   "source": [
    "<h2>Does the \"Accident_Severity\" metric represent the number of accidents or the severity level of accidents?</h2>\n",
    "<hr>"
   ]
  },
  {
   "cell_type": "code",
   "execution_count": 35,
   "id": "4905592d-1fe0-4f2a-bddf-5aabbd5db31d",
   "metadata": {},
   "outputs": [
    {
     "data": {
      "text/plain": [
       "Vehicle_Type\n",
       "Agricultural vehicle                       1947\n",
       "Bus or coach (17 or more pass seats)      25878\n",
       "Car                                      497992\n",
       "Data missing or out of range                  6\n",
       "Goods 7.5 tonnes mgw and over             17307\n",
       "Goods over 3.5t. and under 7.5t            6096\n",
       "Minibus (8 - 16 passenger seats)           1976\n",
       "Motorcycle 125cc and under                15269\n",
       "Motorcycle 50cc and under                  7603\n",
       "Motorcycle over 125cc and up to 500cc      7656\n",
       "Motorcycle over 500cc                     25657\n",
       "Other vehicle                              5637\n",
       "Pedal cycle                                 197\n",
       "Ridden horse                                  4\n",
       "Taxi/Private hire car                     13294\n",
       "Van / Goods 3.5 tonnes mgw or under       34160\n",
       "Name: Accident_Severity, dtype: int64"
      ]
     },
     "execution_count": 35,
     "metadata": {},
     "output_type": "execute_result"
    }
   ],
   "source": [
    "accident.groupby('Vehicle_Type')['Accident_Severity'].size()"
   ]
  },
  {
   "cell_type": "markdown",
   "id": "bef6a98a-d683-4471-9d42-964dd4bac529",
   "metadata": {},
   "source": [
    "<h3>INSIGHTS: </h3>"
   ]
  },
  {
   "cell_type": "markdown",
   "id": "b1201fe5-bc28-4ee9-88d1-a7e007dc0645",
   "metadata": {},
   "source": [
    "Based on the result provided, Cars are by far not only a consequence of the greatest number of accidents: Car contributes a significant (and probably overwhelming) 497,992 in the total count of accidents, dwarfing all remaining vehicle types. Whereas categories like \"Ridden horse\" and \"Data missing or out of range\" do contribute some accidents, it is evidently a small number given the total frequency of accidents in this data. "
   ]
  },
  {
   "cell_type": "markdown",
   "id": "04bfbc08-fb06-4815-8fcc-f858a8381ee2",
   "metadata": {},
   "source": [
    "<h2>QUESTION #9</h2>"
   ]
  },
  {
   "cell_type": "markdown",
   "id": "fb791e94-f028-419a-ac10-389f55053f3b",
   "metadata": {},
   "source": [
    "<h2>On which road type do most casualty accidents happen? </h2>\n",
    "<hr>"
   ]
  },
  {
   "cell_type": "code",
   "execution_count": 36,
   "id": "5d792af4-f5a7-4167-937d-c6f9a4c03116",
   "metadata": {
    "scrolled": true
   },
   "outputs": [
    {
     "data": {
      "text/plain": [
       "Road_Type\n",
       "Dual carriageway       99424\n",
       "One way street         13559\n",
       "Roundabout             43992\n",
       "Single carriageway    492143\n",
       "Slip road               7041\n",
       "unacounted              4520\n",
       "Name: Number_of_Casualties, dtype: int64"
      ]
     },
     "execution_count": 36,
     "metadata": {},
     "output_type": "execute_result"
    }
   ],
   "source": [
    "accident.groupby('Road_Type')['Number_of_Casualties'].count()"
   ]
  },
  {
   "cell_type": "markdown",
   "id": "bba43da1-bdfc-400c-857e-1482176faf13",
   "metadata": {},
   "source": [
    "<h3>INSIGHTS: </h3>"
   ]
  },
  {
   "cell_type": "markdown",
   "id": "0aa0a02e-5870-4b72-bdf0-86c86646066f",
   "metadata": {},
   "source": [
    "Based on the given results, the majority of casualties happen on single carriageways 492,143 cases, which is significantly higher compared to other road types. This suggests that single carriageways may pose a greater risk for accidents, possibly due to higher traffic volume, fewer lanes, or limited safety features compared to dual carriageways or slip roads. On the other hand, slip roads and one-way streets recorded the lowest number of casualties, which may indicate less exposure or better traffic control in those areas."
   ]
  },
  {
   "cell_type": "markdown",
   "id": "78a2d1e1-9aee-46f8-acf8-f058e74af5e8",
   "metadata": {},
   "source": [
    "<h2>QUESTION #10</h2>"
   ]
  },
  {
   "cell_type": "markdown",
   "id": "91d2e73f-fd35-4e33-abd1-714689d12628",
   "metadata": {},
   "source": [
    "<h2>Which light condition has the highest number of casualties?</h2>\n",
    "<hr>"
   ]
  },
  {
   "cell_type": "code",
   "execution_count": 37,
   "id": "1e2407a0-af34-4fad-8346-5ceed0946cdb",
   "metadata": {},
   "outputs": [
    {
     "data": {
      "text/plain": [
       "Light_Conditions\n",
       "Darkness - lighting unknown      6484\n",
       "Darkness - lights lit          129335\n",
       "Darkness - lights unlit          2543\n",
       "Darkness - no lighting          37437\n",
       "Daylight                       484880\n",
       "Name: Number_of_Casualties, dtype: int64"
      ]
     },
     "execution_count": 37,
     "metadata": {},
     "output_type": "execute_result"
    }
   ],
   "source": [
    "accident.groupby('Light_Conditions')['Number_of_Casualties'].size()"
   ]
  },
  {
   "cell_type": "markdown",
   "id": "dd72ab48-2284-4c0d-ae27-d4ce024f579a",
   "metadata": {},
   "source": [
    "<h3>INSIGHTS: </h3>"
   ]
  },
  {
   "cell_type": "markdown",
   "id": "f04faadd-f214-4633-805c-7376a5984c02",
   "metadata": {},
   "source": [
    "Based on the given result, it's super clear that most accidents happen during the day, specifically in \"Daylight,\" with a huge number of 484,880 casualties! This really shows that even though driving in the dark can feel more dangerous, way more accidents happen when it's sunny out, probably just because there are way more cars and people out and about during the day. So, more activity equals more accidents, even when visibility is good.\n"
   ]
  },
  {
   "cell_type": "markdown",
   "id": "55d3c5a0-fa40-4efc-9daa-b5d95d2c999f",
   "metadata": {},
   "source": [
    "<h2>QUESTION #11</h2>"
   ]
  },
  {
   "cell_type": "markdown",
   "id": "4f589caf-92c6-43a3-9763-44e474e22f4d",
   "metadata": {},
   "source": [
    "<h2>Determine the average and how many vehicles are involved in a road accident?</h2>"
   ]
  },
  {
   "cell_type": "code",
   "execution_count": 38,
   "id": "5d11a39c-ff6c-429c-8d30-e24b393184db",
   "metadata": {},
   "outputs": [
    {
     "data": {
      "text/plain": [
       "np.float64(1.8312554205597575)"
      ]
     },
     "execution_count": 38,
     "metadata": {},
     "output_type": "execute_result"
    }
   ],
   "source": [
    "accident['Number_of_Vehicles'].mean()"
   ]
  },
  {
   "cell_type": "markdown",
   "id": "8142494b-472f-40f6-8983-3e2398e77425",
   "metadata": {},
   "source": [
    "<h3>INSIGHTS: </h3>"
   ]
  },
  {
   "cell_type": "markdown",
   "id": "f9b9c350-40a6-4fba-ac18-29f23c6ffd0e",
   "metadata": {},
   "source": [
    "The average number of vehicles in an accident is 1.83. This means accidents usually involve one or two vehicles. Some are just single-car accidents, while others are collisions between two or more vehicles."
   ]
  },
  {
   "cell_type": "markdown",
   "id": "f58f3824-d046-4e49-b827-8da5285e23ca",
   "metadata": {},
   "source": [
    "<h2>QUESTION #12</h2>"
   ]
  },
  {
   "cell_type": "markdown",
   "id": "f0f35528-e08b-48ce-9aa6-c8d5e7fab1ab",
   "metadata": {},
   "source": [
    "<h2>How many fatal accidents with recorded casualties are in the dataset?</h2>"
   ]
  },
  {
   "cell_type": "code",
   "execution_count": 39,
   "id": "c22ab3d1-a83a-4812-9b12-46cc320d00a4",
   "metadata": {},
   "outputs": [
    {
     "data": {
      "text/plain": [
       "np.int64(8661)"
      ]
     },
     "execution_count": 39,
     "metadata": {},
     "output_type": "execute_result"
    }
   ],
   "source": [
    "fatal_df['Number_of_Casualties'].count()"
   ]
  },
  {
   "cell_type": "markdown",
   "id": "829c3bd8-b798-4191-a28d-5e418237fd3a",
   "metadata": {},
   "source": [
    "<h3>INSIGHTS: </h3>"
   ]
  },
  {
   "cell_type": "markdown",
   "id": "fefb5237-b940-44d3-92c1-1c6d2db856c9",
   "metadata": {},
   "source": [
    "There are 8,661 fatal accident cases recorded in the dataset. This shows that a large number of serious accidents were documented, which highlights the importance of road safety and strict traffic rules to help reduce these numbers."
   ]
  },
  {
   "cell_type": "markdown",
   "id": "14ce146a-2326-434a-af0a-75982da69a66",
   "metadata": {},
   "source": [
    "<h2>QUESTION #13</h2>"
   ]
  },
  {
   "cell_type": "markdown",
   "id": "2376a84f-94a7-4521-bf87-157ef46b9fa6",
   "metadata": {},
   "source": [
    "<h2>How do weather conditions with \"high winds\" compare to \"no high winds\" in terms of average casualties for both Raining and Snowing conditions?</h2>\n",
    "<hr>"
   ]
  },
  {
   "cell_type": "code",
   "execution_count": 40,
   "id": "a62bfc8b-74f5-4913-b217-329f79e70614",
   "metadata": {},
   "outputs": [
    {
     "data": {
      "text/plain": [
       "Weather_Conditions\n",
       "unacounted               1.233720\n",
       "Snowing no high winds    1.341776\n",
       "Fine no high winds       1.350480\n",
       "Other                    1.354869\n",
       "Fine + high winds        1.386018\n",
       "Raining no high winds    1.408214\n",
       "Raining + high winds     1.416641\n",
       "Snowing + high winds     1.418079\n",
       "Fog or mist              1.452948\n",
       "Name: Number_of_Casualties, dtype: float64"
      ]
     },
     "execution_count": 40,
     "metadata": {},
     "output_type": "execute_result"
    }
   ],
   "source": [
    "accident.groupby('Weather_Conditions')['Number_of_Casualties'].mean().sort_values()"
   ]
  },
  {
   "cell_type": "markdown",
   "id": "5d89d246-adfa-41b8-a96a-59c9fb2cf585",
   "metadata": {},
   "source": [
    "<h3>INSIGHTS: </h3>"
   ]
  },
  {
   "cell_type": "markdown",
   "id": "800724e9-6e49-4c19-beb7-880b210da89e",
   "metadata": {},
   "source": [
    "We show the given results indicate that \"Raining + high winds\" (1.416641) has a higher average number of casualties than \"Raining no high winds\" (1.408214).Snowing + high winds (1.418079) has a higher average number of casualties than Snowing no high winds(1.341776).\n",
    "This clearly demonstrates that the presence of high winds, regardless of the precipitation type (rain or snow), is associated with an increase in the average number of casualties, suggesting their contribution to accident severity."
   ]
  },
  {
   "cell_type": "markdown",
   "id": "e874a260-b6cb-4898-9656-92f28223055c",
   "metadata": {},
   "source": [
    "<h2>QUESTION #14</h2>"
   ]
  },
  {
   "cell_type": "markdown",
   "id": "41c4178d-166a-41ee-8312-0a7b925a2dda",
   "metadata": {},
   "source": [
    "<h2>What is the most recent accident date recorded for each district area?</h2>\n",
    "<hr>"
   ]
  },
  {
   "cell_type": "code",
   "execution_count": 41,
   "id": "f11b98ee-8838-4491-bc26-59a039e98e75",
   "metadata": {},
   "outputs": [
    {
     "data": {
      "text/plain": [
       "District Area\n",
       "Aberdeen City   2021-12-12\n",
       "Aberdeenshire   2021-12-10\n",
       "Adur            2022-12-08\n",
       "Allerdale       2022-12-12\n",
       "Alnwick         2021-10-02\n",
       "                   ...    \n",
       "Wychavon        2022-12-12\n",
       "Wycombe         2022-12-12\n",
       "Wyre            2022-12-12\n",
       "Wyre Forest     2022-12-12\n",
       "York            2022-12-12\n",
       "Name: Accident Date, Length: 422, dtype: datetime64[ns]"
      ]
     },
     "execution_count": 41,
     "metadata": {},
     "output_type": "execute_result"
    }
   ],
   "source": [
    "accident.groupby('District Area')['Accident Date'].max()"
   ]
  },
  {
   "cell_type": "markdown",
   "id": "df52f977-8bab-43f7-a7c3-c2c023b304b4",
   "metadata": {},
   "source": [
    "<h3>INSIGHTS: </h3>"
   ]
  },
  {
   "cell_type": "markdown",
   "id": "307f4b34-f216-4124-8dec-eb92fd31a9e3",
   "metadata": {},
   "source": [
    "Based on the given result , each district shows its most recent accident date, with some updated as late as on year 2022."
   ]
  },
  {
   "cell_type": "markdown",
   "id": "9798514f-8a16-4b2c-9f87-962bd54304df",
   "metadata": {},
   "source": [
    "<h2>QUESTION #15</h2>"
   ]
  },
  {
   "cell_type": "markdown",
   "id": "b57b5362-5549-492f-a6c9-281fbe4f916b",
   "metadata": {},
   "source": [
    "<h2>How do light conditions affect the number of accidents in urban and rural areas?</h2>"
   ]
  },
  {
   "cell_type": "code",
   "execution_count": 42,
   "id": "9330b310-67ee-4576-a1d7-c715605b3ab7",
   "metadata": {},
   "outputs": [
    {
     "data": {
      "text/plain": [
       "Urban_or_Rural_Area  Light_Conditions           \n",
       "Rural                Darkness - lighting unknown      2467\n",
       "                     Darkness - lights lit           24695\n",
       "                     Darkness - lights unlit           961\n",
       "                     Darkness - no lighting          35517\n",
       "                     Daylight                       175350\n",
       "Unallocated          Darkness - lighting unknown         0\n",
       "                     Darkness - lights lit               2\n",
       "                     Darkness - lights unlit             0\n",
       "                     Darkness - no lighting              0\n",
       "                     Daylight                            9\n",
       "Urban                Darkness - lighting unknown      4017\n",
       "                     Darkness - lights lit          104638\n",
       "                     Darkness - lights unlit          1582\n",
       "                     Darkness - no lighting           1920\n",
       "                     Daylight                       309521\n",
       "Name: Accident_Severity, dtype: int64"
      ]
     },
     "execution_count": 42,
     "metadata": {},
     "output_type": "execute_result"
    }
   ],
   "source": [
    "accident.groupby(['Urban_or_Rural_Area','Light_Conditions'])['Accident_Severity'].size()"
   ]
  },
  {
   "cell_type": "markdown",
   "id": "1d7adc34-acc4-49ec-847d-c5c57f4c5a9d",
   "metadata": {},
   "source": [
    "<h3>INSIGHTS: </h3>"
   ]
  },
  {
   "cell_type": "markdown",
   "id": "71009d94-217a-44c6-92f2-84cf3dda8d23",
   "metadata": {},
   "source": [
    "Based on the given results , most accidents happen in urban areas during daylight have 309,511 cases. In rural areas, accidents are also highest in daylight have 175,350 caseve, but there are still many during darkness, especially when there is no lighting have 35,517 cases. This shows that while daylight has more accidents because of higher traffic, poor lighting at night in rural areas also creates a high risk."
   ]
  },
  {
   "cell_type": "markdown",
   "id": "feb1d452-e626-4d05-a1e1-125af7e8ceaa",
   "metadata": {},
   "source": [
    "<h2>QUESTION #16</h2>"
   ]
  },
  {
   "cell_type": "markdown",
   "id": "e2a8919b-d0fe-40d2-a46e-9a38cc245204",
   "metadata": {},
   "source": [
    "<h2>What is the minimum number of vehicles and casualties recorded in an accident?</h2>"
   ]
  },
  {
   "cell_type": "code",
   "execution_count": 43,
   "id": "b7d189e9-6829-4abd-a0ef-4d471c27c79e",
   "metadata": {},
   "outputs": [
    {
     "data": {
      "text/plain": [
       "np.int64(1)"
      ]
     },
     "execution_count": 43,
     "metadata": {},
     "output_type": "execute_result"
    }
   ],
   "source": [
    "min_vehicles = accident['Number_of_Vehicles'].min()\n",
    "min_vehicles"
   ]
  },
  {
   "cell_type": "code",
   "execution_count": 44,
   "id": "9ff2b5e8-86c6-4860-bd84-83db8114b903",
   "metadata": {},
   "outputs": [
    {
     "data": {
      "text/plain": [
       "np.int64(1)"
      ]
     },
     "execution_count": 44,
     "metadata": {},
     "output_type": "execute_result"
    }
   ],
   "source": [
    "min_casualties = accident['Number_of_Casualties'].min()\n",
    "min_casualties"
   ]
  },
  {
   "cell_type": "markdown",
   "id": "e174848b-d931-49f6-b1f8-d41310975630",
   "metadata": {},
   "source": [
    "<h3>INSIGHTS: </h3>"
   ]
  },
  {
   "cell_type": "markdown",
   "id": "8ea52ae9-4ad4-4ce6-b0a5-1b02416e4f1c",
   "metadata": {},
   "source": [
    "The minimum number of vehicles and casualties is 1, which means there are accidents involving only a single vehicle or a single person. This shows that not all accidents are big crashes—some are simple, one-vehicle incidents with one casualty."
   ]
  },
  {
   "cell_type": "markdown",
   "id": "931b8dec-1e39-425c-90cb-6c9c08b41dba",
   "metadata": {},
   "source": [
    "<h2>QUESTION #17</h2>"
   ]
  },
  {
   "cell_type": "markdown",
   "id": "311caf48-aedf-4209-87da-5b1007b4669f",
   "metadata": {},
   "source": [
    "<h2> What are the minimum and maximum longitude and latitude values recorded in this accident datasets?</h2>\n",
    "<hr>"
   ]
  },
  {
   "cell_type": "code",
   "execution_count": 45,
   "id": "444cafa3-407f-44f9-b991-4effaa2ae529",
   "metadata": {},
   "outputs": [
    {
     "data": {
      "text/plain": [
       "np.float64(-7.516225)"
      ]
     },
     "execution_count": 45,
     "metadata": {},
     "output_type": "execute_result"
    }
   ],
   "source": [
    "min_long = accident['Longitude'].min()\n",
    "min_long "
   ]
  },
  {
   "cell_type": "code",
   "execution_count": 46,
   "id": "1e5dd762-a257-4393-9709-f7afb2eeca7d",
   "metadata": {},
   "outputs": [
    {
     "data": {
      "text/plain": [
       "np.float64(49.91443)"
      ]
     },
     "execution_count": 46,
     "metadata": {},
     "output_type": "execute_result"
    }
   ],
   "source": [
    "min_lat = accident['Latitude'].min()\n",
    "min_lat"
   ]
  },
  {
   "cell_type": "code",
   "execution_count": 47,
   "id": "10fcb428-2c4d-4e35-9096-0076fc450d12",
   "metadata": {},
   "outputs": [
    {
     "data": {
      "text/plain": [
       "np.float64(1.76201)"
      ]
     },
     "execution_count": 47,
     "metadata": {},
     "output_type": "execute_result"
    }
   ],
   "source": [
    "max_long = accident['Longitude'].max()\n",
    "max_long\n",
    " "
   ]
  },
  {
   "cell_type": "code",
   "execution_count": 48,
   "id": "1e272e3f-33a1-4f91-87d6-68a48244db1d",
   "metadata": {},
   "outputs": [
    {
     "data": {
      "text/plain": [
       "np.float64(1.76201)"
      ]
     },
     "execution_count": 48,
     "metadata": {},
     "output_type": "execute_result"
    }
   ],
   "source": [
    "max_lat = accident['Longitude'].max()\n",
    "max_lat "
   ]
  },
  {
   "cell_type": "markdown",
   "id": "5cb0b740-b2e7-4e19-9e5a-b9cc1b83fe5a",
   "metadata": {},
   "source": [
    "<h3>INSIGHTS: </h3>"
   ]
  },
  {
   "cell_type": "markdown",
   "id": "eaa97b5d-f197-4de7-a3bc-8d32cb5ad9a1",
   "metadata": {},
   "source": [
    "Based on the given results, The minimum longitude is -7.51 and the maximum is 1.76, while the latitude ranges from 49.91 to 1.76 (note: looks like a mix-up in the dataset for max latitude). These values show the geographic boundaries of where accidents were recorded, helping us know the spread of accident locations across the map."
   ]
  },
  {
   "cell_type": "markdown",
   "id": "cfe9b939-5dcb-4e5f-bd31-ffd1ca318bea",
   "metadata": {},
   "source": [
    "<h2>QUESTION #18</h2>"
   ]
  },
  {
   "cell_type": "markdown",
   "id": "6520979c-98bf-4b3c-92fc-feffbb33d519",
   "metadata": {},
   "source": [
    "<h2>Calculate the average number of casualties and the average number of vehicles involved for each level of accident severity (Fatal, Serious, and Slight).</h2>\n",
    "<hr>"
   ]
  },
  {
   "cell_type": "code",
   "execution_count": 49,
   "id": "eced7d54-63b6-4653-b0ee-864e77f8a2e7",
   "metadata": {},
   "outputs": [
    {
     "data": {
      "text/html": [
       "<div>\n",
       "<style scoped>\n",
       "    .dataframe tbody tr th:only-of-type {\n",
       "        vertical-align: middle;\n",
       "    }\n",
       "\n",
       "    .dataframe tbody tr th {\n",
       "        vertical-align: top;\n",
       "    }\n",
       "\n",
       "    .dataframe thead th {\n",
       "        text-align: right;\n",
       "    }\n",
       "</style>\n",
       "<table border=\"1\" class=\"dataframe\">\n",
       "  <thead>\n",
       "    <tr style=\"text-align: right;\">\n",
       "      <th></th>\n",
       "      <th>Number_of_Casualties</th>\n",
       "      <th>Number_of_Vehicles</th>\n",
       "    </tr>\n",
       "    <tr>\n",
       "      <th>Accident_Severity</th>\n",
       "      <th></th>\n",
       "      <th></th>\n",
       "    </tr>\n",
       "  </thead>\n",
       "  <tbody>\n",
       "    <tr>\n",
       "      <th>Fatal</th>\n",
       "      <td>1.903129</td>\n",
       "      <td>1.786976</td>\n",
       "    </tr>\n",
       "    <tr>\n",
       "      <th>Serious</th>\n",
       "      <td>1.467280</td>\n",
       "      <td>1.678327</td>\n",
       "    </tr>\n",
       "    <tr>\n",
       "      <th>Slight</th>\n",
       "      <td>1.331402</td>\n",
       "      <td>1.855864</td>\n",
       "    </tr>\n",
       "  </tbody>\n",
       "</table>\n",
       "</div>"
      ],
      "text/plain": [
       "                   Number_of_Casualties  Number_of_Vehicles\n",
       "Accident_Severity                                          \n",
       "Fatal                          1.903129            1.786976\n",
       "Serious                        1.467280            1.678327\n",
       "Slight                         1.331402            1.855864"
      ]
     },
     "execution_count": 49,
     "metadata": {},
     "output_type": "execute_result"
    }
   ],
   "source": [
    "avg_by_severity = accident.groupby('Accident_Severity')[['Number_of_Casualties', 'Number_of_Vehicles']].mean()\n",
    "avg_by_severity"
   ]
  },
  {
   "cell_type": "markdown",
   "id": "47ec6192-bad1-4156-873b-d62be54b1383",
   "metadata": {},
   "source": [
    "<h3>INSIGHTS: </h3>"
   ]
  },
  {
   "cell_type": "markdown",
   "id": "e640794e-04b3-4a27-88bf-db6c2c09d1ca",
   "metadata": {},
   "source": [
    "The data highlights that accident severity correlates with the number of casualties and vehicles involved, Fatal accidents has the highest casualties, yet surprisingly fewer average vehicles, implying severe, concentrated impacts. Serious accidents has intermediate levels for both casualties and vehicles, aligning with their moderate severity. Slight accidents has the Lowest casualties but highest average vehicles, suggesting less impactful, multi-vehicle incidents are common in this category."
   ]
  },
  {
   "cell_type": "markdown",
   "id": "0026c4e6-1ed9-4874-a672-25ff0f37a18f",
   "metadata": {},
   "source": [
    "<h2>QUESTION #19</h2>"
   ]
  },
  {
   "cell_type": "markdown",
   "id": "d22a58ec-ecd7-4db3-9e97-dfcab974ee9d",
   "metadata": {},
   "source": [
    "<h2>In which of the particular area type rural vs. urban areas has the least number of records?</h2>\n",
    "<hr>"
   ]
  },
  {
   "cell_type": "code",
   "execution_count": 50,
   "id": "15e97324-9f44-4acd-8b76-2f206b4cf53b",
   "metadata": {},
   "outputs": [
    {
     "data": {
      "text/plain": [
       "Urban_or_Rural_Area\n",
       "Urban          421678\n",
       "Rural          238990\n",
       "Unallocated        11\n",
       "Name: count, dtype: int64"
      ]
     },
     "execution_count": 50,
     "metadata": {},
     "output_type": "execute_result"
    }
   ],
   "source": [
    "area_counts = accident['Urban_or_Rural_Area'].value_counts()\n",
    "area_counts"
   ]
  },
  {
   "cell_type": "code",
   "execution_count": 51,
   "id": "87b402a4-e8e6-4895-a690-fa03b2bdd052",
   "metadata": {},
   "outputs": [
    {
     "data": {
      "image/png": "[encoded data removed]",
      "text/plain": [
       "<Figure size 600x600 with 1 Axes>"
      ]
     },
     "metadata": {},
     "output_type": "display_data"
    }
   ],
   "source": [
    "plt.figure(figsize=(6,6))\n",
    "plt.pie(area_counts, labels=area_counts.index, autopct='%1.1f%%', startangle=90, colors=['skyblue','lightcoral','lightgreen'])\n",
    "plt.title(\"Accidents by Area Type\")\n",
    "plt.show()"
   ]
  },
  {
   "cell_type": "markdown",
   "id": "1a7d188a-1818-4283-b3a2-cc0d74672692",
   "metadata": {},
   "source": [
    "<h3>INSIGHTS: </h3>"
   ]
  },
  {
   "cell_type": "markdown",
   "id": "11059f22-b008-4b51-9965-1a2cdb24a9e1",
   "metadata": {},
   "source": [
    "Rural areas have the least number of accident records with 238,990 or 36.2%, while urban areas have 421,663 or 63.8%.This shows that more accidents happen in urban areas because of heavy traffic, while rural areas have fewer accidents recorded. Still, the 238,990 cases in rural areas are significant and may involve more serious crashes due to higher driving speeds."
   ]
  },
  {
   "cell_type": "markdown",
   "id": "ce893030-1b1a-437d-95fe-1b943c492cbe",
   "metadata": {},
   "source": [
    "<h2>QUESTION #20</h2>"
   ]
  },
  {
   "cell_type": "markdown",
   "id": "87489061-7840-48f3-9d96-6d2e3f169007",
   "metadata": {},
   "source": [
    "<h2>Which road type has the highest number of recorded accidents in the datasets?</h2>\n",
    "<hr>"
   ]
  },
  {
   "cell_type": "code",
   "execution_count": 52,
   "id": "68343ebe-b6ad-43f1-a1be-9b18776b029c",
   "metadata": {},
   "outputs": [
    {
     "data": {
      "text/plain": [
       "Road_Type\n",
       "Single carriageway    492143\n",
       "Dual carriageway       99424\n",
       "Roundabout             43992\n",
       "One way street         13559\n",
       "Slip road               7041\n",
       "unacounted              4520\n",
       "Name: count, dtype: int64"
      ]
     },
     "execution_count": 52,
     "metadata": {},
     "output_type": "execute_result"
    }
   ],
   "source": [
    "road_counts = accident['Road_Type'].value_counts()\n",
    "road_counts\n"
   ]
  },
  {
   "cell_type": "code",
   "execution_count": 53,
   "id": "de0fb346-b1ed-4d7d-8bbc-a1db97b50b35",
   "metadata": {},
   "outputs": [
    {
     "data": {
      "image/png": "[encoded data removed]",
      "text/plain": [
       "<Figure size 1000x600 with 1 Axes>"
      ]
     },
     "metadata": {},
     "output_type": "display_data"
    }
   ],
   "source": [
    "plt.figure(figsize=(10,6))\n",
    "road_counts.plot(kind='bar', color='skyblue', edgecolor='black')\n",
    "plt.title(\"Number of Accidents by Road Type\")\n",
    "plt.xlabel(\"Road Type\")\n",
    "plt.ylabel(\"Number of Accidents\")\n",
    "plt.xticks(rotation=45)\n",
    "plt.show()"
   ]
  },
  {
   "cell_type": "markdown",
   "id": "42452008-bdcb-4cee-8939-43c2ae9b368e",
   "metadata": {},
   "source": [
    "<h3>INSIGHTS: </h3>"
   ]
  },
  {
   "cell_type": "markdown",
   "id": "694908de-ab00-43bc-a1ed-8b7f6adf49f1",
   "metadata": {},
   "source": [
    "The bar chart shows that single carriageway roads have the most accidents, with a huge difference compared to other road types. This suggests that single carriageways are more prone to accidents, maybe because they carry more traffic or have fewer safety measures than other road types.\n",
    "\n",
    "<hr>"
   ]
  },
  {
   "cell_type": "markdown",
   "id": "495b214c-c6f9-4832-b00e-1d20e082d438",
   "metadata": {},
   "source": [
    "<h2>QUESTION #21</h2>"
   ]
  },
  {
   "cell_type": "markdown",
   "id": "7685db75-a161-4320-9f9c-051c02a42fe1",
   "metadata": {},
   "source": [
    "<h2>What is the total number of accident in the year 2022 ?</h2>\n",
    "<hr>"
   ]
  },
  {
   "cell_type": "code",
   "execution_count": 54,
   "id": "aa827eda-4dc4-4d3d-bb44-a20a534646ff",
   "metadata": {},
   "outputs": [],
   "source": [
    "df_2022 = accident[accident['Year'] == 2022]"
   ]
  },
  {
   "cell_type": "code",
   "execution_count": 55,
   "id": "f77efa13-e557-4950-a31f-ae7724eb73c5",
   "metadata": {},
   "outputs": [
    {
     "name": "stdout",
     "output_type": "stream",
     "text": [
      "total number of accident in 2022 is144419\n"
     ]
    },
    {
     "data": {
      "text/plain": [
       "Light_Conditions\n",
       "Daylight                       107768\n",
       "Darkness - lights lit           27544\n",
       "Darkness - no lighting           7302\n",
       "Darkness - lighting unknown      1317\n",
       "Darkness - lights unlit           488\n",
       "Name: count, dtype: int64"
      ]
     },
     "execution_count": 55,
     "metadata": {},
     "output_type": "execute_result"
    }
   ],
   "source": [
    "print(f\"total number of accident in 2022 is{df_2022['Light_Conditions'].value_counts().sum()}\")\n",
    "df_2022['Light_Conditions'].value_counts()"
   ]
  },
  {
   "cell_type": "markdown",
   "id": "31e8a309-7695-45a1-8edf-504dfa7100ad",
   "metadata": {},
   "source": [
    "<h3>INSIGHTS: </h3>"
   ]
  },
  {
   "cell_type": "markdown",
   "id": "ab0558b0-2338-45a5-a2e6-7a6a703aa270",
   "metadata": {},
   "source": [
    "In 2022, there were 144,419 accidents recorded. Most of these happened during daylight (74.6%), which makes sense because that’s when more people are outside traveling. At night, accidents with lights lit still reached (19.1%), showing that even with visibility aids, risks are still high. Meanwhile, cases with no lighting (5.1%) and lights unlit (0.3%) were smaller in number but still dangerous since poor lighting increases accident chances. This tells us that accidents are not just about day or night but also how good the visibility is for drivers."
   ]
  },
  {
   "cell_type": "markdown",
   "id": "28d5aa60-9ead-4a1f-bb87-9abfd84767b9",
   "metadata": {},
   "source": [
    "<h2>QUESTION #22</h2>"
   ]
  },
  {
   "cell_type": "markdown",
   "id": "1d1b2c00-72ad-40c6-ae5f-30113067536e",
   "metadata": {},
   "source": [
    "<h2>What is the latest accident date in the datasets?</h2>\n",
    "<hr>"
   ]
  },
  {
   "cell_type": "code",
   "execution_count": 56,
   "id": "3fc135b0-c23a-4f56-8e4f-067aa8809b6d",
   "metadata": {},
   "outputs": [
    {
     "data": {
      "text/plain": [
       "Timestamp('2022-12-12 00:00:00')"
      ]
     },
     "execution_count": 56,
     "metadata": {},
     "output_type": "execute_result"
    }
   ],
   "source": [
    "accident['Accident Date'] = pd.to_datetime(accident['Accident Date'], errors='coerce')\n",
    "latest = accident['Accident Date'].max()\n",
    "latest"
   ]
  },
  {
   "cell_type": "markdown",
   "id": "abc05037-0374-4ed4-84fc-e28067566d0e",
   "metadata": {},
   "source": [
    "<h3>INSIGHTS: </h3>"
   ]
  },
  {
   "cell_type": "markdown",
   "id": "65d46ecc-1718-4df4-9c7d-60f4371b812b",
   "metadata": {},
   "source": [
    "The latest accident record in the dataset is on December 31, 2022."
   ]
  },
  {
   "cell_type": "markdown",
   "id": "566089f3-13d8-4038-94f6-5203d3584150",
   "metadata": {},
   "source": [
    "<h2>QUESTION #23</h2>"
   ]
  },
  {
   "cell_type": "markdown",
   "id": "08105eb3-6b32-4bed-aafa-7dd1537a9b44",
   "metadata": {},
   "source": [
    "<h2>Do certain weekdays show higher accident severity compared to others?</h2>\n",
    "<hr>"
   ]
  },
  {
   "cell_type": "code",
   "execution_count": 57,
   "id": "873927a9-8558-4674-bfc8-92ab3b85576d",
   "metadata": {},
   "outputs": [
    {
     "data": {
      "text/plain": [
       "Weekdays  Accident_Severity\n",
       "0.0       Slight               0.846535\n",
       "          Serious              0.139073\n",
       "          Fatal                0.014392\n",
       "1.0       Slight               0.855923\n",
       "          Serious              0.131004\n",
       "          Fatal                0.013073\n",
       "2.0       Slight               0.855678\n",
       "          Serious              0.131645\n",
       "          Fatal                0.012677\n",
       "3.0       Slight               0.853587\n",
       "          Serious              0.132284\n",
       "          Fatal                0.014128\n",
       "4.0       Slight               0.852536\n",
       "          Serious              0.134585\n",
       "          Fatal                0.012879\n",
       "5.0       Slight               0.855924\n",
       "          Serious              0.131387\n",
       "          Fatal                0.012688\n",
       "6.0       Slight               0.854548\n",
       "          Serious              0.132664\n",
       "          Fatal                0.012787\n",
       "Name: proportion, dtype: float64"
      ]
     },
     "execution_count": 57,
     "metadata": {},
     "output_type": "execute_result"
    }
   ],
   "source": [
    "accident[\"Weekdays\"] = accident[\"Accident Date\"].dt.dayofweek   \n",
    "accident.groupby(\"Weekdays\")[\"Accident_Severity\"].value_counts(normalize=True)"
   ]
  },
  {
   "cell_type": "markdown",
   "id": "3be4ae08-f37d-4778-960f-9a8345e5840c",
   "metadata": {},
   "source": [
    "<h3>INSIGHTS: </h3>"
   ]
  },
  {
   "cell_type": "markdown",
   "id": "a7b0f8ee-f689-494a-a133-e60c775dc922",
   "metadata": {},
   "source": [
    "Most accidents happen on weekdays (Monday–Friday), and they are usually slight cases. On weekends (Saturday and Sunday), there are fewer accidents, but the chances of them being serious or fatal are higher. This could mean drivers take more risks or drive less carefully during weekends."
   ]
  },
  {
   "cell_type": "markdown",
   "id": "19865ccd-54ab-409f-a89b-df7e086e4a59",
   "metadata": {},
   "source": [
    "<h2>QUESTION #24</h2>"
   ]
  },
  {
   "cell_type": "markdown",
   "id": "ccc4e260-cfc6-4eba-81c0-f75397c2e593",
   "metadata": {},
   "source": [
    "<h2>What day of the week has the most accidents?</h2>\n",
    "<hr>"
   ]
  },
  {
   "cell_type": "code",
   "execution_count": 58,
   "id": "155c6278-a274-4ca4-9fc7-3e394d61c47a",
   "metadata": {},
   "outputs": [
    {
     "data": {
      "text/plain": [
       "DayOfWeek\n",
       "0.0    35715\n",
       "1.0    39701\n",
       "2.0    37548\n",
       "3.0    38009\n",
       "4.0    38511\n",
       "5.0    37751\n",
       "6.0    37772\n",
       "Name: count, dtype: int64"
      ]
     },
     "execution_count": 58,
     "metadata": {},
     "output_type": "execute_result"
    }
   ],
   "source": [
    "accident['Accident Date'] = pd.to_datetime(accident['Accident Date'])\n",
    "accident['DayOfWeek'] = accident['Accident Date'].dt.dayofweek  # 0 = Monday, 6 = Sunday\n",
    "accident['DayOfWeek'].value_counts().sort_index()\n"
   ]
  },
  {
   "cell_type": "markdown",
   "id": "7da9468b-a20e-405a-b6e3-8c47919e4a11",
   "metadata": {},
   "source": [
    "<h3>INSIGHTS: </h3>"
   ]
  },
  {
   "cell_type": "markdown",
   "id": "faec9557-f29b-410b-b3ff-e40c1572401e",
   "metadata": {},
   "source": [
    "Based on the given results, Friday has the highest number of accidents (107,178), while Monday has the lowest (72,680). This shows that more accidents usually happen at the end of the week, which might be because more people are traveling, going out, or rushing before the weekend. On the other hand, fewer accidents happen at the start of the week."
   ]
  },
  {
   "cell_type": "markdown",
   "id": "96da0b79-2762-4832-a548-293316b4386b",
   "metadata": {},
   "source": [
    "<h2>QUESTION #25</h2>"
   ]
  },
  {
   "cell_type": "markdown",
   "id": "1f7aebae-607c-430d-9d61-cc84f58f702f",
   "metadata": {},
   "source": [
    "<h2>Which month has the lowest number of accidents?</h2>\n",
    "<hr>"
   ]
  },
  {
   "cell_type": "code",
   "execution_count": 59,
   "id": "d705d5b1-e8e4-40fc-bf61-3b4177b2a81c",
   "metadata": {},
   "outputs": [
    {
     "data": {
      "text/plain": [
       "Month\n",
       "1.0     22606\n",
       "2.0     21815\n",
       "3.0     21540\n",
       "4.0     21699\n",
       "5.0     22409\n",
       "6.0     21974\n",
       "7.0     21431\n",
       "8.0     21914\n",
       "9.0     22252\n",
       "10.0    22328\n",
       "11.0    22503\n",
       "12.0    22536\n",
       "Name: count, dtype: int64"
      ]
     },
     "execution_count": 59,
     "metadata": {},
     "output_type": "execute_result"
    }
   ],
   "source": [
    "accident['Accident Date'] = pd.to_datetime(accident['Accident Date'])\n",
    "accident['Month'] = accident['Accident Date'].dt.month\n",
    "\n",
    "accident['Month'].value_counts().sort_index()"
   ]
  },
  {
   "cell_type": "markdown",
   "id": "35395247-af0a-476e-bf2f-ab70965e4c5a",
   "metadata": {},
   "source": [
    "<h3>INSIGHTS: </h3>"
   ]
  },
  {
   "cell_type": "markdown",
   "id": "d788d811-9c08-49af-9e4a-370b08781dd2",
   "metadata": {},
   "source": [
    "The data shows that February has the lowest number of accidents (49,491), which is about 7.6% of all recorded accidents. This makes sense since February has fewer days compared to other months, so there’s less time for accidents to occur.\n",
    "<hr>"
   ]
  },
  {
   "cell_type": "markdown",
   "id": "ecb0a196-cd73-4197-8a83-c6916fff80bf",
   "metadata": {},
   "source": [
    "<h2>QUESTION #26</h2>"
   ]
  },
  {
   "cell_type": "markdown",
   "id": "49b32e95-de60-48f7-8dd4-92ed4bcb43d0",
   "metadata": {},
   "source": [
    "<h2>How did the number of road accident casualties change monthly from 2019 to 2022?</h2>\n",
    "<hr>\n"
   ]
  },
  {
   "cell_type": "code",
   "execution_count": 60,
   "id": "f76682c5-148a-4c4c-9632-8735a2df64a0",
   "metadata": {},
   "outputs": [
    {
     "data": {
      "image/png": "[encoded data removed]",
      "text/plain": [
       "<Figure size 1200x600 with 1 Axes>"
      ]
     },
     "metadata": {},
     "output_type": "display_data"
    }
   ],
   "source": [
    "monthly_casualties = (\n",
    "    accident.groupby(accident['Accident Date'].dt.to_period(\"M\"))['Number_of_Casualties']\n",
    "    .sum()\n",
    "    .to_timestamp()\n",
    ")\n",
    "\n",
    "plt.figure(figsize=(12,6))\n",
    "plt.plot(monthly_casualties.index, monthly_casualties.values, marker='o', linestyle='-', color='b')\n",
    "\n",
    "plt.title(\"Monthly Trend of Road Accident Casualties on year 2019-2023\", fontsize=14, fontweight='bold')\n",
    "plt.xlabel(\"Accident Date (Monthly)\", fontsize=12)\n",
    "plt.ylabel(\"Total Casualties\", fontsize=12)\n",
    "plt.xticks(rotation=45)\n",
    "plt.tight_layout()\n",
    "plt.show()"
   ]
  },
  {
   "cell_type": "markdown",
   "id": "1a1ca910-0579-449b-9e17-639dd6a2c79f",
   "metadata": {},
   "source": [
    "<h3>INSIGHTS: </h3>"
   ]
  },
  {
   "cell_type": "markdown",
   "id": "94236e61-c1f2-4647-a56b-9053a196a071",
   "metadata": {},
   "source": [
    "Based on the line graph, the number of road casualties from year 2019 to 2022 shows an up-and-down pattern. In year 2019 and 2020, the casualties were mostly high, staying between 7,000 and 9,000 per month. However, in early 2021, there was a sudden drop which might be related to fewer people traveling because of the pandemic. After that, the casualties slowly increased again but dropped sharply at the start of 2022. This shows that accidents can be affected not only by traffic but also by big events like lockdowns or changes in people’s movement.\n",
    "<hr>"
   ]
  },
  {
   "cell_type": "markdown",
   "id": "91ccf824-e3bb-42b6-a4e2-69b05fbff8ee",
   "metadata": {},
   "source": [
    "<h1>Using District Area to make a comparison to a general result </h1>\n"
   ]
  },
  {
   "cell_type": "markdown",
   "id": "94ce0c3d-4444-4c5c-8a2a-0448de446723",
   "metadata": {},
   "source": [
    "<h2>QUESTION #27</h2>"
   ]
  },
  {
   "cell_type": "markdown",
   "id": "16f9c844-9fcb-4ef1-a797-eb822e33ecf8",
   "metadata": {},
   "source": [
    "<h2>MONTHLY ROAD ACCIDENTS IN WILTSHIRE</h2>\n",
    "<hr>\n",
    "<br>\n",
    "<img src='https://external-preview.redd.it/qay0VUK3MOSqLDJqsAg5YdnFMtHSpddlnM1k26699O0.jpg?auto=webp&s=3fb73f0b19cbca98f9c55255c0f46623c2a6703b'>\n",
    "<hr>"
   ]
  },
  {
   "cell_type": "code",
   "execution_count": 61,
   "id": "e497425e-6ef1-4f0b-9ab0-e7a6ce87bebd",
   "metadata": {},
   "outputs": [],
   "source": [
    "wiltshire_accident = accident[accident['District Area'] == 'Wiltshire']"
   ]
  },
  {
   "cell_type": "code",
   "execution_count": 62,
   "id": "a4aeb26c-c4d3-4fd7-81cb-dfe0c4a3d14d",
   "metadata": {},
   "outputs": [
    {
     "data": {
      "image/png": "[encoded data removed]",
      "text/plain": [
       "<Figure size 1000x500 with 1 Axes>"
      ]
     },
     "metadata": {},
     "output_type": "display_data"
    }
   ],
   "source": [
    "monthly_wiltshiredata = wiltshire_accident.groupby(['Year', 'Month']).size()\n",
    "\n",
    "monthly_wiltshiredata = monthly_wiltshiredata.unstack(level=0)\n",
    "\n",
    "monthly_wiltshiredata.plot(\n",
    "    marker='o', \n",
    "    figsize=(10, 5),\n",
    "    title='Monthly Road Accidents in Wiltshire by Year (2021-2022)'\n",
    ")\n",
    "plt.xticks(range(1, 13), ['Jan','Feb','Mar','Apr','May','Jun','Jul','Aug','Sep','Oct','Nov','Dec'])\n",
    "plt.legend(title='Yearly Accident Comparison', bbox_to_anchor = (1.05,1), loc='upper left')\n",
    "plt.grid(alpha=0.3)\n",
    "plt.show()"
   ]
  },
  {
   "cell_type": "markdown",
   "id": "e135a054-7c07-4a06-bd28-878ba7973759",
   "metadata": {},
   "source": [
    "<h3>INSIGHTS: </h3>"
   ]
  },
  {
   "cell_type": "markdown",
   "id": "db4c1a92-fc7e-4905-a12c-4aaddd47a103",
   "metadata": {},
   "source": [
    "Based on the line graph, we can see that road accidents in Wiltshire were not the same on year 2021 and 2022. In 2021, the number of accidents was a bit stable with a slight increase in July, November, and December. On the other hand,on year 2022 shows more changes, with the highest accidents happening in October. It can be noticed that 2022 had more months with higher accident numbers compared to 2021. This could mean that in 2022, more vehicles were already on the road compared to 2021, when travel might still have been affected by the pandemic era.\n",
    "<hr>"
   ]
  },
  {
   "cell_type": "markdown",
   "id": "b3d54b49-5ae3-4f87-9a2c-5eb705966405",
   "metadata": {},
   "source": [
    "<h2>QUESTION #28</h2>"
   ]
  },
  {
   "cell_type": "markdown",
   "id": "c298cb94-5a91-4dd9-9236-16ba76ac0e41",
   "metadata": {},
   "source": [
    "<h2>DEFINE THE ACCIDENTS PER-(YEAR,MONTH,DAY) IN WILTSHIRE</h2>\n",
    "<hr>\n",
    "<br>\n",
    "<img src='https://external-preview.redd.it/qay0VUK3MOSqLDJqsAg5YdnFMtHSpddlnM1k26699O0.jpg?auto=webp&s=3fb73f0b19cbca98f9c55255c0f46623c2a6703b'>\n",
    "<hr>"
   ]
  },
  {
   "cell_type": "code",
   "execution_count": 63,
   "id": "844b5a03-7a48-4d9a-88bf-62cca14fddcf",
   "metadata": {
    "scrolled": true
   },
   "outputs": [
    {
     "data": {
      "image/png": "[encoded data removed]",
      "text/plain": [
       "<Figure size 640x480 with 1 Axes>"
      ]
     },
     "metadata": {},
     "output_type": "display_data"
    },
    {
     "data": {
      "image/png": "[encoded data removed]",
      "text/plain": [
       "<Figure size 640x480 with 1 Axes>"
      ]
     },
     "metadata": {},
     "output_type": "display_data"
    },
    {
     "name": "stdout",
     "output_type": "stream",
     "text": [
      "DayOfWeek\n",
      "Monday        78\n",
      "Tuesday       79\n",
      "Wednesday     81\n",
      "Thursday     104\n",
      "Friday        95\n",
      "Saturday      90\n",
      "Sunday        86\n",
      "Name: count, dtype: int64\n"
     ]
    },
    {
     "data": {
      "image/png": "[encoded data removed]",
      "text/plain": [
       "<Figure size 640x480 with 1 Axes>"
      ]
     },
     "metadata": {},
     "output_type": "display_data"
    }
   ],
   "source": [
    "# Accidents per year\n",
    "accidents_per_year = wiltshire_accident['Year'].value_counts().sort_index()\n",
    "accidents_per_month = wiltshire_accident['Month'].value_counts().sort_index()\n",
    "accidents_per_day = wiltshire_accident['DayOfWeek'].value_counts().sort_index()\n",
    "\n",
    "\n",
    "#PER YEAR \n",
    "accidents_per_year.plot(kind='bar')\n",
    "plt.title('Accidents per Year')\n",
    "plt.xlabel('Year')\n",
    "plt.ylabel('Number of Accidents')\n",
    "plt.show()\n",
    "\n",
    "month_names = {\n",
    "    1: 'January', 2: 'February', 3: 'March', 4: 'April',\n",
    "    5: 'May', 6: 'June', 7: 'July', 8: 'August',\n",
    "    9: 'September', 10: 'October', 11: 'November', 12: 'December'\n",
    "}\n",
    "\n",
    "# Replace numerical months with their names\n",
    "accidents_per_month.index = accidents_per_month.index.map(month_names)\n",
    "\n",
    "\n",
    "accidents_per_month.plot(kind='bar')\n",
    "plt.title('Accidents per Month')\n",
    "plt.xlabel('Month')\n",
    "plt.ylabel('Number of Accidents')\n",
    "plt.show()\n",
    "\n",
    "\n",
    "#accident per day\n",
    "day_names = {\n",
    "    0: 'Monday',\n",
    "    1: 'Tuesday',\n",
    "    2: 'Wednesday',\n",
    "    3: 'Thursday',\n",
    "    4: 'Friday',\n",
    "    5: 'Saturday',\n",
    "    6: 'Sunday'\n",
    "}\n",
    "\n",
    "accidents_per_day.index = accidents_per_day.index.map(day_names)\n",
    "accidents_per_day.plot(kind='bar')\n",
    "print(accidents_per_day)"
   ]
  },
  {
   "cell_type": "markdown",
   "id": "806c4f13-cf55-47c3-ac41-62adae539f5d",
   "metadata": {},
   "source": [
    "<h3>INSIGHTS:</h3>"
   ]
  },
  {
   "cell_type": "markdown",
   "id": "debdd02d-bf51-40d4-a9ba-122667876e42",
   "metadata": {},
   "source": [
    "<b>Accidents per Year:</b>\n",
    "The bar chart shows that in 2021 there were fewer accidents compared to 2022. This means accidents increased in 2022, which could be because more people were already traveling compared to 2021 when some restrictions were still in place.\n",
    "\n",
    "<b>Accidents per Month:</b>\n",
    "Based on the given results, accidents usually increased as the year went on. The highest accidents happened in October, while the lowest were in January to March. This could mean that as more people travel during the later months, accidents also become more frequent.\n",
    "\n",
    "<b>Accidents per Day of Week:</b>\n",
    "The data shows that accidents were highest on Saturday, followed by Thursday and Tuesday. The lowest number of accidents happened on Monday. This could be because more people go out and travel during weekends, especially Saturdays, which makes accidents more likely.\n",
    "<hr>"
   ]
  },
  {
   "cell_type": "markdown",
   "id": "e92c7f09-462f-44dd-8604-0249f9c994c5",
   "metadata": {},
   "source": [
    "<h2>QUESTION #29</h2>"
   ]
  },
  {
   "cell_type": "markdown",
   "id": "b350a07d-a036-4719-89f1-d2568cdaaa63",
   "metadata": {},
   "source": [
    "<h2>DEFINE IN EACH YEAR THE WILTSHIRE SEVERITY</h2>\n",
    "<hr>\n",
    "<br>\n",
    "<img src='https://external-preview.redd.it/qay0VUK3MOSqLDJqsAg5YdnFMtHSpddlnM1k26699O0.jpg?auto=webp&s=3fb73f0b19cbca98f9c55255c0f46623c2a6703b'>\n",
    "<hr>"
   ]
  },
  {
   "cell_type": "code",
   "execution_count": 64,
   "id": "e2a9628f-c4ec-4ba1-b922-bf97ec11834a",
   "metadata": {},
   "outputs": [
    {
     "data": {
      "image/png": "[encoded data removed]",
      "text/plain": [
       "<Figure size 1000x700 with 1 Axes>"
      ]
     },
     "metadata": {},
     "output_type": "display_data"
    },
    {
     "data": {
      "image/png": "[encoded data removed]",
      "text/plain": [
       "<Figure size 1000x700 with 1 Axes>"
      ]
     },
     "metadata": {},
     "output_type": "display_data"
    }
   ],
   "source": [
    "severity_wiltshire  = wiltshire_accident['Accident_Severity'].value_counts()\n",
    "\n",
    "plt.pie(severity_wiltshire,\n",
    "        labels = severity_wiltshire.index,\n",
    "        autopct = '%1.1f%%',\n",
    "        startangle = 90)\n",
    "plt.gcf().set_size_inches(10,7)\n",
    "plt.title('Accident Severity Distribution in 2021')\n",
    "plt.show()\n",
    "\n",
    "severity_2022_wiltshire = wiltshire_accident[wiltshire_accident['Year'] == 2022]\n",
    "# severity_2022\n",
    "lsc_2022 = severity_2022_wiltshire['Accident_Severity'].value_counts()\n",
    "\n",
    "plt.pie(lsc_2022,\n",
    "        labels = lsc_2022.index,\n",
    "        autopct = '%1.1f%%',\n",
    "        startangle = 90)\n",
    "plt.gcf().set_size_inches(10,7)\n",
    "plt.title('Accident Severity Distribution in 2022')\n",
    "plt.show()"
   ]
  },
  {
   "cell_type": "markdown",
   "id": "7499b255-a004-414d-a7e2-e151615f0b42",
   "metadata": {},
   "source": [
    "<h3>INSIGHTS:</h3>"
   ]
  },
  {
   "cell_type": "markdown",
   "id": "82c0a84e-074d-49a1-b8bc-a7f282de85d5",
   "metadata": {},
   "source": [
    "When comparing 2021 and 2022, the overall distribution of accident severity did not change much. Both years had most accidents as slight, a smaller share as serious, and very few as fatal. However, the small decrease in fatal accidents in 2022 suggests a slight improvement in road safety, even though accidents still occurred.\n",
    "<hr>"
   ]
  },
  {
   "cell_type": "markdown",
   "id": "99c057c9-a09d-4ef2-8d6e-3247ba0bf701",
   "metadata": {},
   "source": [
    "<h2>QUESTION #30</h2>"
   ]
  },
  {
   "cell_type": "markdown",
   "id": "ddb69766-1303-46b8-be6e-5555f3ae7404",
   "metadata": {},
   "source": [
    "<h2>ELLESMERE PORT AND NESTON ACCIDENT HAS FATAL RECORDS</h2>\n",
    "<hr>\n",
    "<br>\n",
    "<img src='https://encrypted-tbn0.gstatic.com/images?q=tbn:ANd9GcR8_iAXIqBv1MX8qqAFBGiEe6oH9TiNBXSDhWEZq5V695rjH2HR25hyQMo-AI5mlmTKokM&usqp=CAU'>\n",
    "<hr>"
   ]
  },
  {
   "cell_type": "code",
   "execution_count": 65,
   "id": "547d2855-3506-4cda-b68c-5f2982b133a8",
   "metadata": {},
   "outputs": [],
   "source": [
    "ellesmereportandneston_accident = accident[accident['District Area']== 'Ellesmere Port and Neston']"
   ]
  },
  {
   "cell_type": "code",
   "execution_count": 66,
   "id": "1192a2ad-59a7-4db8-896f-1eccc6cceeaf",
   "metadata": {},
   "outputs": [],
   "source": [
    "ellesmereportandneston_fatal = ellesmereportandneston_accident[ellesmereportandneston_accident['Accident_Severity'] == 'Fatal']"
   ]
  },
  {
   "cell_type": "code",
   "execution_count": 67,
   "id": "2d9c697e-0115-43bc-9ab5-e65e9194a9f2",
   "metadata": {},
   "outputs": [
    {
     "data": {
      "text/html": [
       "<div style=\"width:100%;\"><div style=\"position:relative;width:100%;height:0;padding-bottom:60%;\"><span style=\"color:#565656\">Make this Notebook Trusted to load map: File -> Trust Notebook</span><iframe srcdoc=\"&lt;!DOCTYPE html&gt;\n",
       "&lt;html&gt;\n",
       "&lt;head&gt;\n",
       "    \n",
       "    &lt;meta http-equiv=&quot;content-type&quot; content=&quot;text/html; charset=UTF-8&quot; /&gt;\n",
       "    &lt;script src=&quot;https://cdn.jsdelivr.net/npm/leaflet@1.9.3/dist/leaflet.js&quot;&gt;&lt;/script&gt;\n",
       "    &lt;script src=&quot;https://code.jquery.com/jquery-3.7.1.min.js&quot;&gt;&lt;/script&gt;\n",
       "    &lt;script src=&quot;https://cdn.jsdelivr.net/npm/bootstrap@5.2.2/dist/js/bootstrap.bundle.min.js&quot;&gt;&lt;/script&gt;\n",
       "    &lt;script src=&quot;https://cdnjs.cloudflare.com/ajax/libs/Leaflet.awesome-markers/2.0.2/leaflet.awesome-markers.js&quot;&gt;&lt;/script&gt;\n",
       "    &lt;link rel=&quot;stylesheet&quot; href=&quot;https://cdn.jsdelivr.net/npm/leaflet@1.9.3/dist/leaflet.css&quot;/&gt;\n",
       "    &lt;link rel=&quot;stylesheet&quot; href=&quot;https://cdn.jsdelivr.net/npm/bootstrap@5.2.2/dist/css/bootstrap.min.css&quot;/&gt;\n",
       "    &lt;link rel=&quot;stylesheet&quot; href=&quot;https://netdna.bootstrapcdn.com/bootstrap/3.0.0/css/bootstrap-glyphicons.css&quot;/&gt;\n",
       "    &lt;link rel=&quot;stylesheet&quot; href=&quot;https://cdn.jsdelivr.net/npm/@fortawesome/fontawesome-free@6.2.0/css/all.min.css&quot;/&gt;\n",
       "    &lt;link rel=&quot;stylesheet&quot; href=&quot;https://cdnjs.cloudflare.com/ajax/libs/Leaflet.awesome-markers/2.0.2/leaflet.awesome-markers.css&quot;/&gt;\n",
       "    &lt;link rel=&quot;stylesheet&quot; href=&quot;https://cdn.jsdelivr.net/gh/python-visualization/folium/folium/templates/leaflet.awesome.rotate.min.css&quot;/&gt;\n",
       "    \n",
       "            &lt;meta name=&quot;viewport&quot; content=&quot;width=device-width,\n",
       "                initial-scale=1.0, maximum-scale=1.0, user-scalable=no&quot; /&gt;\n",
       "            &lt;style&gt;\n",
       "                #map_11eb713d948578b52570e732a8ef418d {\n",
       "                    position: relative;\n",
       "                    width: 100.0%;\n",
       "                    height: 100.0%;\n",
       "                    left: 0.0%;\n",
       "                    top: 0.0%;\n",
       "                }\n",
       "                .leaflet-container { font-size: 1rem; }\n",
       "            &lt;/style&gt;\n",
       "\n",
       "            &lt;style&gt;html, body {\n",
       "                width: 100%;\n",
       "                height: 100%;\n",
       "                margin: 0;\n",
       "                padding: 0;\n",
       "            }\n",
       "            &lt;/style&gt;\n",
       "\n",
       "            &lt;style&gt;#map {\n",
       "                position:absolute;\n",
       "                top:0;\n",
       "                bottom:0;\n",
       "                right:0;\n",
       "                left:0;\n",
       "                }\n",
       "            &lt;/style&gt;\n",
       "\n",
       "            &lt;script&gt;\n",
       "                L_NO_TOUCH = false;\n",
       "                L_DISABLE_3D = false;\n",
       "            &lt;/script&gt;\n",
       "\n",
       "        \n",
       "    &lt;script src=&quot;https://cdn.jsdelivr.net/gh/python-visualization/folium@main/folium/templates/leaflet_heat.min.js&quot;&gt;&lt;/script&gt;\n",
       "&lt;/head&gt;\n",
       "&lt;body&gt;\n",
       "    \n",
       "    \n",
       "            &lt;div class=&quot;folium-map&quot; id=&quot;map_11eb713d948578b52570e732a8ef418d&quot; &gt;&lt;/div&gt;\n",
       "        \n",
       "&lt;/body&gt;\n",
       "&lt;script&gt;\n",
       "    \n",
       "    \n",
       "            var map_11eb713d948578b52570e732a8ef418d = L.map(\n",
       "                &quot;map_11eb713d948578b52570e732a8ef418d&quot;,\n",
       "                {\n",
       "                    center: [53.2833258, -2.9712728],\n",
       "                    crs: L.CRS.EPSG3857,\n",
       "                    ...{\n",
       "  &quot;zoom&quot;: 10,\n",
       "  &quot;zoomControl&quot;: true,\n",
       "  &quot;preferCanvas&quot;: false,\n",
       "}\n",
       "\n",
       "                }\n",
       "            );\n",
       "\n",
       "            \n",
       "\n",
       "        \n",
       "    \n",
       "            var tile_layer_2cd948f9de64f903e359a4302eadfef6 = L.tileLayer(\n",
       "                &quot;https://tile.openstreetmap.org/{z}/{x}/{y}.png&quot;,\n",
       "                {\n",
       "  &quot;minZoom&quot;: 0,\n",
       "  &quot;maxZoom&quot;: 19,\n",
       "  &quot;maxNativeZoom&quot;: 19,\n",
       "  &quot;noWrap&quot;: false,\n",
       "  &quot;attribution&quot;: &quot;\\u0026copy; \\u003ca href=\\&quot;https://www.openstreetmap.org/copyright\\&quot;\\u003eOpenStreetMap\\u003c/a\\u003e contributors&quot;,\n",
       "  &quot;subdomains&quot;: &quot;abc&quot;,\n",
       "  &quot;detectRetina&quot;: false,\n",
       "  &quot;tms&quot;: false,\n",
       "  &quot;opacity&quot;: 1,\n",
       "}\n",
       "\n",
       "            );\n",
       "        \n",
       "    \n",
       "            tile_layer_2cd948f9de64f903e359a4302eadfef6.addTo(map_11eb713d948578b52570e732a8ef418d);\n",
       "        \n",
       "    \n",
       "            var heat_map_405addee480196231cc7e21cec008721 = L.heatLayer(\n",
       "                [[53.276705, -2.918679], [53.310836, -3.062751], [53.292468, -2.960275], [53.283333, -2.94477], [53.253287, -2.969889]],\n",
       "                {\n",
       "  &quot;minOpacity&quot;: 0.5,\n",
       "  &quot;maxZoom&quot;: 18,\n",
       "  &quot;radius&quot;: 25,\n",
       "  &quot;blur&quot;: 15,\n",
       "}\n",
       "            );\n",
       "        \n",
       "    \n",
       "            heat_map_405addee480196231cc7e21cec008721.addTo(map_11eb713d948578b52570e732a8ef418d);\n",
       "        \n",
       "    \n",
       "            tile_layer_2cd948f9de64f903e359a4302eadfef6.addTo(map_11eb713d948578b52570e732a8ef418d);\n",
       "        \n",
       "    \n",
       "            heat_map_405addee480196231cc7e21cec008721.addTo(map_11eb713d948578b52570e732a8ef418d);\n",
       "        \n",
       "&lt;/script&gt;\n",
       "&lt;/html&gt;\" style=\"position:absolute;width:100%;height:100%;left:0;top:0;border:none !important;\" allowfullscreen webkitallowfullscreen mozallowfullscreen></iframe></div></div>"
      ],
      "text/plain": [
       "<folium.folium.Map at 0x16bf4289180>"
      ]
     },
     "execution_count": 67,
     "metadata": {},
     "output_type": "execute_result"
    }
   ],
   "source": [
    "import folium\n",
    "from folium.plugins import HeatMap\n",
    "\n",
    "locations  = list(zip(ellesmereportandneston_fatal['Latitude'],ellesmereportandneston_fatal['Longitude']))\n",
    "\n",
    "m = folium.Map(location=[ellesmereportandneston_fatal['Latitude'].mean(), ellesmereportandneston_fatal['Longitude'].mean()], zoom_start=10)\n",
    "\n",
    "# Step 3: Add the heatmap layer\n",
    "HeatMap(locations).add_to(m)\n",
    "\n",
    "# Step 4: Save or display the map\n",
    "m.save('accident_heatmap.html')  # Save the map as an HTML file\n",
    "m  # Display the map in a Jupyter Notebook"
   ]
  },
  {
   "cell_type": "code",
   "execution_count": 68,
   "id": "f4a8acf3-828c-4670-ad75-d451b4eef234",
   "metadata": {},
   "outputs": [
    {
     "data": {
      "text/plain": [
       "[(53.276705, -2.918679),\n",
       " (53.310836, -3.062751),\n",
       " (53.292468, -2.960275),\n",
       " (53.283333, -2.94477),\n",
       " (53.253287, -2.969889)]"
      ]
     },
     "execution_count": 68,
     "metadata": {},
     "output_type": "execute_result"
    }
   ],
   "source": [
    "locations"
   ]
  },
  {
   "cell_type": "markdown",
   "id": "b7e6b1a6-8876-4b89-b332-ea4bee2529e4",
   "metadata": {},
   "source": [
    "<h3>INSIGHTS:</h3>"
   ]
  },
  {
   "cell_type": "markdown",
   "id": "c3f29b74-7c8b-45f6-a93c-f4eaa6a9910b",
   "metadata": {},
   "source": [
    "<b>THE PLACES OF FATAL RECORDS IN ELLESMERE PORT AND NESTON :</b>\n",
    "\n",
    "<b>CHESTER HIGH ROAD :</b> According to my research, that Stephen Perry died because of two-vehicle crash from November 2023 on Liverpool Road in Chester, that the suspect was an 31-year-old male driver Paul Wright from Ellesmere Port with 'causing death by dangerous driving' after a 57-year-old woman died. \n",
    "\n",
    "<b>PARKGATE ROAD :</b> On Oct 31, 2020 A man was found guilty of murdering his housemate in a vicious and sustained assault.\n",
    "Arkadiusz Kaczmarek denied stabbing 47-year-old Slawomir Kulesza to death in the home they shared in Blakemere Court, Ellesmere Port.\n",
    "\n",
    "<b>WELSH ROAD :</b> On November 25, 2021. Two 20-year-old women, Ellie Crossley and Rebecca Doughty, died in the collision because of a Neston man named Benjamin Lewis, the two girls have died because of his dangerous driving. \n",
    "\n",
    "<b>CHESTER ROAD :</b> In July 2021, two men died when a car crashed into a wall on Hill Road in Eccleston, near Chester. The driver died at the scene, and a passenger later died in the hospital.\n",
    "\n",
    "<b>SUTON WAY :</b> On May 29 2019.A 21-year-old woman was fatally struck in a hit-and-run collision on Birchmount Road in Scarborough, near Ellesmere and St. Clair Avenues. She was hit by two different vehicles whose drivers fled the scene. \n",
    "<hr>"
   ]
  },
  {
   "cell_type": "markdown",
   "id": "6f261793-0a02-403f-9120-7f340472e5fb",
   "metadata": {},
   "source": [
    "<h2>QUESTION #31</h2>"
   ]
  },
  {
   "attachments": {},
   "cell_type": "markdown",
   "id": "01315148-4a4b-4a60-9f11-c20781a2093a",
   "metadata": {},
   "source": [
    "<h2>ALLERDALE SLIGHT RECORDS</h2>\n",
    "<hr>\n",
    "<br>\n",
    "<img src='https://encrypted-tbn0.gstatic.com/images?q=tbn:ANd9GcRkYFbt6Dg5oE3xYInUXV06OQrEQQtW-J9dvQ&s'>\n",
    "<hr>"
   ]
  },
  {
   "cell_type": "code",
   "execution_count": 69,
   "id": "4c0daeb3-78d4-448a-8b36-987bc4d7e0ed",
   "metadata": {},
   "outputs": [],
   "source": [
    "allerdale_accident = accident[accident['District Area']== 'Allerdale']"
   ]
  },
  {
   "cell_type": "code",
   "execution_count": 70,
   "id": "8e28ca02-5184-4098-ac2f-47091ed91f5f",
   "metadata": {},
   "outputs": [],
   "source": [
    "allerdale_slight = allerdale_accident[allerdale_accident['Accident_Severity'] == 'Slight']"
   ]
  },
  {
   "cell_type": "code",
   "execution_count": 71,
   "id": "c97c1414-f1c9-478f-9481-5caa275899ca",
   "metadata": {},
   "outputs": [
    {
     "data": {
      "text/html": [
       "<div style=\"width:100%;\"><div style=\"position:relative;width:100%;height:0;padding-bottom:60%;\"><span style=\"color:#565656\">Make this Notebook Trusted to load map: File -> Trust Notebook</span><iframe srcdoc=\"&lt;!DOCTYPE html&gt;\n",
       "&lt;html&gt;\n",
       "&lt;head&gt;\n",
       "    \n",
       "    &lt;meta http-equiv=&quot;content-type&quot; content=&quot;text/html; charset=UTF-8&quot; /&gt;\n",
       "    &lt;script src=&quot;https://cdn.jsdelivr.net/npm/leaflet@1.9.3/dist/leaflet.js&quot;&gt;&lt;/script&gt;\n",
       "    &lt;script src=&quot;https://code.jquery.com/jquery-3.7.1.min.js&quot;&gt;&lt;/script&gt;\n",
       "    &lt;script src=&quot;https://cdn.jsdelivr.net/npm/bootstrap@5.2.2/dist/js/bootstrap.bundle.min.js&quot;&gt;&lt;/script&gt;\n",
       "    &lt;script src=&quot;https://cdnjs.cloudflare.com/ajax/libs/Leaflet.awesome-markers/2.0.2/leaflet.awesome-markers.js&quot;&gt;&lt;/script&gt;\n",
       "    &lt;link rel=&quot;stylesheet&quot; href=&quot;https://cdn.jsdelivr.net/npm/leaflet@1.9.3/dist/leaflet.css&quot;/&gt;\n",
       "    &lt;link rel=&quot;stylesheet&quot; href=&quot;https://cdn.jsdelivr.net/npm/bootstrap@5.2.2/dist/css/bootstrap.min.css&quot;/&gt;\n",
       "    &lt;link rel=&quot;stylesheet&quot; href=&quot;https://netdna.bootstrapcdn.com/bootstrap/3.0.0/css/bootstrap-glyphicons.css&quot;/&gt;\n",
       "    &lt;link rel=&quot;stylesheet&quot; href=&quot;https://cdn.jsdelivr.net/npm/@fortawesome/fontawesome-free@6.2.0/css/all.min.css&quot;/&gt;\n",
       "    &lt;link rel=&quot;stylesheet&quot; href=&quot;https://cdnjs.cloudflare.com/ajax/libs/Leaflet.awesome-markers/2.0.2/leaflet.awesome-markers.css&quot;/&gt;\n",
       "    &lt;link rel=&quot;stylesheet&quot; href=&quot;https://cdn.jsdelivr.net/gh/python-visualization/folium/folium/templates/leaflet.awesome.rotate.min.css&quot;/&gt;\n",
       "    \n",
       "            &lt;meta name=&quot;viewport&quot; content=&quot;width=device-width,\n",
       "                initial-scale=1.0, maximum-scale=1.0, user-scalable=no&quot; /&gt;\n",
       "            &lt;style&gt;\n",
       "                #map_b41f726ef7ee59b2a291bfa73d53216a {\n",
       "                    position: relative;\n",
       "                    width: 100.0%;\n",
       "                    height: 100.0%;\n",
       "                    left: 0.0%;\n",
       "                    top: 0.0%;\n",
       "                }\n",
       "                .leaflet-container { font-size: 1rem; }\n",
       "            &lt;/style&gt;\n",
       "\n",
       "            &lt;style&gt;html, body {\n",
       "                width: 100%;\n",
       "                height: 100%;\n",
       "                margin: 0;\n",
       "                padding: 0;\n",
       "            }\n",
       "            &lt;/style&gt;\n",
       "\n",
       "            &lt;style&gt;#map {\n",
       "                position:absolute;\n",
       "                top:0;\n",
       "                bottom:0;\n",
       "                right:0;\n",
       "                left:0;\n",
       "                }\n",
       "            &lt;/style&gt;\n",
       "\n",
       "            &lt;script&gt;\n",
       "                L_NO_TOUCH = false;\n",
       "                L_DISABLE_3D = false;\n",
       "            &lt;/script&gt;\n",
       "\n",
       "        \n",
       "    &lt;script src=&quot;https://cdn.jsdelivr.net/gh/python-visualization/folium@main/folium/templates/leaflet_heat.min.js&quot;&gt;&lt;/script&gt;\n",
       "&lt;/head&gt;\n",
       "&lt;body&gt;\n",
       "    \n",
       "    \n",
       "            &lt;div class=&quot;folium-map&quot; id=&quot;map_b41f726ef7ee59b2a291bfa73d53216a&quot; &gt;&lt;/div&gt;\n",
       "        \n",
       "&lt;/body&gt;\n",
       "&lt;script&gt;\n",
       "    \n",
       "    \n",
       "            var map_b41f726ef7ee59b2a291bfa73d53216a = L.map(\n",
       "                &quot;map_b41f726ef7ee59b2a291bfa73d53216a&quot;,\n",
       "                {\n",
       "                    center: [54.69686897814776, -3.365065870967742],\n",
       "                    crs: L.CRS.EPSG3857,\n",
       "                    ...{\n",
       "  &quot;zoom&quot;: 10,\n",
       "  &quot;zoomControl&quot;: true,\n",
       "  &quot;preferCanvas&quot;: false,\n",
       "}\n",
       "\n",
       "                }\n",
       "            );\n",
       "\n",
       "            \n",
       "\n",
       "        \n",
       "    \n",
       "            var tile_layer_a20d02ffc2404a5f11376ff19479d6de = L.tileLayer(\n",
       "                &quot;https://tile.openstreetmap.org/{z}/{x}/{y}.png&quot;,\n",
       "                {\n",
       "  &quot;minZoom&quot;: 0,\n",
       "  &quot;maxZoom&quot;: 19,\n",
       "  &quot;maxNativeZoom&quot;: 19,\n",
       "  &quot;noWrap&quot;: false,\n",
       "  &quot;attribution&quot;: &quot;\\u0026copy; \\u003ca href=\\&quot;https://www.openstreetmap.org/copyright\\&quot;\\u003eOpenStreetMap\\u003c/a\\u003e contributors&quot;,\n",
       "  &quot;subdomains&quot;: &quot;abc&quot;,\n",
       "  &quot;detectRetina&quot;: false,\n",
       "  &quot;tms&quot;: false,\n",
       "  &quot;opacity&quot;: 1,\n",
       "}\n",
       "\n",
       "            );\n",
       "        \n",
       "    \n",
       "            tile_layer_a20d02ffc2404a5f11376ff19479d6de.addTo(map_b41f726ef7ee59b2a291bfa73d53216a);\n",
       "        \n",
       "    \n",
       "            var heat_map_3a7b35b6dccb728956a85f311670da2f = L.heatLayer(\n",
       "                [[54.632981, -3.549949], [54.783012, -3.104105], [54.732876, -3.437275], [54.743031, -3.40672], [54.639744, -3.483574], [54.797761, -3.359775], [54.639488, -3.547097], [54.628036, -3.557042], [54.599308, -3.133493], [54.643915, -3.552379], [54.606049, -3.104265], [54.606308, -3.115264], [54.704243, -3.508121], [54.709773, -3.452756], [54.846422, -3.175296], [54.92809, -3.149742], [54.76413, -3.32896], [54.734766, -3.276433], [54.831224, -3.079577], [54.810246, -3.286281], [54.711207, -3.497358], [54.65708, -3.227491], [54.708485, -3.499431], [54.644785, -3.547608], [54.637511, -3.55415], [54.643107, -3.531117], [54.715076, -3.497035], [54.735425, -3.426959], [54.723765, -3.013835], [54.843566, -3.116036], [54.68318, -3.390533], [54.663164, -3.522879], [54.604623, -3.188446], [54.640975, -3.543279], [54.605409, -3.163079], [54.709704, -3.480694], [54.687621, -3.402941], [54.68719, -3.469635], [54.638603, -3.382504], [54.849437, -3.102959], [54.642231, -3.543482], [54.625059, -3.564828], [54.639052, -3.560097], [54.71448, -3.494374], [54.637696, -3.553692], [54.641408, -3.332701], [54.622581, -3.400237], [54.609845, -3.140754], [54.752958, -3.088215], [54.840627, -3.06301], [54.704333, -3.508125], [54.573542, -3.071208], [54.651199, -3.222509], [54.712566, -3.496477], [54.865285, -3.365318], [54.767502, -3.230831], [54.6636, -3.365677], [54.768929, -3.02942], [54.721335, -3.305512], [54.830641, -3.053874], [54.666061, -3.484998], [54.633434, -3.5636], [54.610334, -3.410036], [54.610173, -3.541185], [54.821079, -3.108256], [54.666546, -3.525487], [54.507451, -3.044149], [54.742294, -3.408248], [54.64265, -3.545822], [54.604862, -3.144949], [54.763638, -3.332829], [54.625237, -3.56499], [54.712563, -3.489491], [54.848471, -3.090473], [54.60713, -3.189448], [54.64886, -3.516764], [54.640315, -3.566654], [54.622664, -3.555442], [54.715158, -3.497659], [54.718807, -3.485994], [54.660122, -3.43331], [54.707379, -3.501719], [54.801703, -3.162019], [54.595869, -3.056626], [54.666147, -3.394603], [54.610355, -3.541037], [54.604961, -3.53402], [54.64012, -3.539838], [54.812852, -3.170898], [54.643586, -3.542913], [54.770343, -3.430675], [54.714017, -3.495444], [54.686153, -3.473631], [54.611043, -3.45636], [54.829486, -3.206874], [54.719529, -3.478413], [54.637327, -3.554453], [54.709336, -3.481457], [54.65254, -3.223169], [54.658923, -3.381798], [54.644342, -3.5541], [54.642862, -3.543351], [54.865082, -3.072068], [54.830601, -3.2122], [54.784807, -3.286717], [54.640409, -3.559374], [54.829368, -3.065828], [54.664276, -3.361514], [54.64343, -3.541048], [54.605499, -3.190794], [54.635628, -3.56074], [54.640242, -3.565411], [54.637501, -3.561897], [54.734202, -3.34522], [54.736862, -3.332261], [54.822934, -3.159827], [54.838327, -3.069023], [54.664027, -3.359645], [54.681083, -3.461814], [54.816899, -3.422982], [54.64265, -3.545822], [54.707582, -3.463077], [54.64257, -3.545044], [54.663584, -3.52522], [54.672908, -3.199589], [54.772237, -3.43012], [54.842936, -3.116174], [54.713994, -3.497306], [54.927504, -3.1452], [54.554092, -3.143991], [54.60894, -3.525034], [54.647915, -3.520449], [54.643496, -3.54291], [54.640098, -3.329249], [54.730354, -3.445262], [54.690617, -3.519718], [54.76968, -3.314529], [54.660589, -3.304493], [54.66392, -3.361192], [54.904789, -3.18963], [54.76402, -3.330821], [54.893343, -3.183679], [54.787872, -3.343891], [54.602073, -3.116387], [54.668988, -3.545582], [54.608674, -3.524715], [54.797533, -3.264566], [54.734482, -3.277822], [54.618839, -3.566293], [54.652808, -3.223332], [54.713019, -3.496183], [54.782824, -3.199575], [54.663811, -3.362893], [54.707012, -3.502326], [54.690726, -3.51817], [54.762749, -3.307155], [54.633827, -3.560981], [54.780859, -3.336039], [54.641849, -3.538199], [54.760589, -3.332263], [54.606221, -3.114952], [54.845363, -3.055815], [54.618674, -3.508517], [54.643494, -3.543065], [54.734861, -3.27597], [54.528532, -3.048705], [54.637525, -3.187701], [54.848064, -3.085789], [54.605497, -3.163236], [54.648858, -3.516919], [54.693352, -3.516562], [54.786315, -3.191903], [54.638808, -3.5511], [54.642648, -3.545977], [54.571783, -3.066831], [54.71465, -3.495157], [54.58752, -3.321037], [54.755017, -3.372482], [54.847524, -3.034379], [54.67381, -3.199306], [54.662586, -3.367969], [54.662226, -3.277414], [54.763918, -3.331906], [54.823114, -3.159832], [54.76572, -3.331499], [54.836425, -3.130163], [54.648594, -3.537833], [54.661837, -3.280192], [54.65982, -3.428493], [54.618304, -3.558993], [54.643244, -3.548634], [54.661969, -3.525005], [54.603906, -3.188271], [54.678816, -3.455994], [54.638595, -3.539625], [54.641422, -3.557553], [54.737607, -3.271242], [54.644921, -3.557997], [54.747219, -3.394281], [54.616142, -3.559375], [54.710393, -3.497794], [54.849089, -3.101703], [54.674702, -3.377371], [54.614748, -3.555915], [54.753071, -3.3777], [54.601711, -3.136037], [54.720787, -3.30627], [54.831262, -3.075219], [54.640389, -3.55395], [54.653355, -3.373549], [54.643586, -3.542913], [54.604332, -3.144006], [54.850734, -3.026829], [54.607129, -3.547263], [54.623259, -3.565069], [54.612072, -3.518957], [54.625678, -3.551685], [54.738285, -3.412924], [54.661964, -3.188414], [54.615557, -3.541853], [54.848782, -3.095932], [54.76462, -3.325245], [54.833201, -3.148133], [54.645017, -3.557536], [54.699076, -3.422579], [54.651067, -3.416096], [54.667831, -3.516231], [54.759554, -3.360669], [54.764133, -3.328649], [54.641065, -3.543283], [54.68727, -3.402153], [54.642379, -3.545967], [54.642644, -3.546287], [54.641697, -3.557099], [54.638422, -3.382652], [54.754089, -3.375093], [54.82563, -3.159905], [54.713608, -3.492169], [54.824715, -3.161591], [54.714613, -3.498105], [54.784242, -3.347036], [54.833947, -3.09662], [54.81025, -3.122897], [54.700764, -3.476799], [54.644162, -3.554093], [54.704827, -3.391739], [54.644531, -3.546359], [54.662265, -3.290748], [54.651347, -3.490197], [54.622302, -3.527393], [54.624415, -3.566042], [54.600321, -3.13089], [54.649953, -3.508435], [54.650381, -3.488301], [54.644935, -3.556913], [54.788313, -3.189784], [54.851467, -3.314384], [54.627924, -3.558741], [54.653845, -3.462231], [54.708573, -3.49959], [54.711271, -3.43263], [54.706788, -3.484003], [54.845015, -3.11483], [54.637511, -3.561122], [54.672123, -3.374958], [54.709028, -3.499141], [54.623506, -3.397946], [54.638096, -3.323296], [54.709147, -3.489521], [54.630871, -3.560248], [54.710668, -3.504634], [54.639109, -3.548632], [54.775997, -3.022603], [54.618665, -3.558852], [54.652985, -3.223648], [54.704241, -3.508277], [54.691225, -3.219368], [54.85229, -3.023442], [54.904767, -3.145178], [54.798768, -3.091001], [54.675564, -3.380657], [54.833728, -3.139897], [54.645103, -3.557849], [54.652778, -3.533961], [54.660308, -3.432851], [54.643785, -3.217948], [54.645042, -3.548548], [54.767501, -3.230987], [54.756957, -3.335562], [54.846113, -3.11268], [54.663633, -3.271876], [54.611042, -3.456515], [54.606205, -3.535151], [54.748341, -3.05127], [54.639106, -3.555915], [54.664766, -3.231754], [54.606998, -3.118379], [54.806248, -3.147214], [54.767047, -3.231439], [54.620011, -3.559058], [54.738296, -3.332618], [54.723932, -3.463666], [54.829454, -3.164062], [54.644078, -3.546651], [54.834657, -3.136653], [54.706541, -3.459936], [54.639107, -3.548787], [54.711253, -3.486339], [54.637415, -3.561584], [54.631444, -3.564608], [54.627603, -3.555786], [54.798381, -3.021924], [54.860299, -3.384936], [54.718058, -3.495748], [54.735514, -3.273661], [54.602151, -3.136978], [54.623131, -3.399327], [54.684688, -3.468459], [54.750379, -3.385222], [54.843476, -3.116033], [54.634794, -3.562723], [54.827046, -3.162125], [54.845933, -3.041814], [54.668372, -3.2483], [54.60681, -3.148101], [54.712838, -3.496332], [54.629228, -3.555228], [54.666242, -3.4174], [54.772033, -3.244805], [54.644252, -3.554097], [54.785263, -3.28611], [54.62919, -3.551199], [54.625155, -3.564367], [54.64265, -3.545822], [54.864235, -3.36279], [54.640296, -3.540154], [54.642869, -3.528629], [54.705618, -3.49141], [54.667351, -3.407049], [54.61433, -3.546452], [54.844726, -3.289246], [54.610355, -3.541037], [54.826928, -3.155739], [54.603858, -3.117829], [54.624518, -3.564962], [54.550381, -3.057923], [54.642411, -3.543489], [54.661714, -3.357552], [54.615832, -3.562461], [54.642434, -3.555732], [54.648531, -3.470565], [54.757876, -3.333728], [54.609824, -3.084393], [54.830683, -3.212981], [54.606449, -3.148245], [54.661022, -3.297685], [54.663434, -3.364431], [54.715751, -3.500631], [54.604387, -3.118927], [54.643329, -3.548948], [54.631432, -3.551594], [54.526694, -3.251391], [54.819968, -3.159898], [54.636031, -3.536275], [54.80763, -3.143674], [54.663591, -3.366452], [54.848182, -3.082677], [54.67381, -3.199306], [54.635245, -3.562585], [54.591568, -3.385089], [54.652911, -3.373069], [54.601472, -3.132779], [54.602699, -3.116713], [54.661849, -3.279107], [54.698115, -3.458081], [54.715659, -3.500783], [54.783989, -3.287625], [54.636696, -3.561556], [54.844487, -3.303255], [54.715569, -3.500779], [54.764698, -3.051228], [54.674607, -3.377833], [54.618934, -3.308426], [54.738377, -3.412772], [54.623159, -3.558869], [54.61153, -3.260805], [54.661877, -3.525156], [54.661872, -3.553839], [54.688056, -3.404197], [54.648496, -3.552554], [54.643755, -3.550823], [54.66243, -3.365793], [54.645015, -3.557691], [54.637821, -3.356291], [54.60949, -3.140279], [54.616597, -3.516493], [54.765379, -3.32154], [54.661654, -3.280496], [54.673959, -3.379517], [54.619574, -3.558112], [54.631855, -3.560596], [54.848829, -3.08067], [54.915107, -3.245161], [54.709682, -3.482556], [54.635853, -3.536113], [54.65708, -3.227491], [54.656008, -3.226839], [54.784534, -3.28702], [54.601993, -3.181713], [54.615824, -3.56308], [54.644185, -3.531158], [54.875316, -3.384205], [54.848064, -3.085789], [54.791139, -3.435297], [54.855939, -3.388993], [54.660225, -3.424632], [54.640294, -3.540309], [54.718616, -3.486919], [54.601983, -3.126137], [54.652718, -3.22333], [54.708571, -3.499745], [54.642753, -3.537768], [54.610355, -3.541037], [54.765379, -3.32154], [54.663192, -3.370005], [54.601621, -3.136035], [54.615063, -3.545396], [54.67558, -3.500235], [54.542287, -3.273046], [54.845183, -3.055811], [54.641743, -3.553536], [54.607111, -3.476813], [54.709682, -3.482556], [54.663493, -3.367224], [54.662152, -3.524702], [54.639144, -3.559945], [54.639398, -3.547094], [54.706654, -3.494863], [54.656206, -3.554088], [54.825824, -3.158354], [54.714837, -3.494543], [54.659785, -3.36927], [54.635952, -3.556569], [54.813234, -3.130605], [54.635866, -3.556256], [54.598071, -3.421068], [54.6055, -3.162927], [54.602851, -3.167341], [54.829451, -3.164373], [54.822001, -3.105791], [54.654422, -3.29298], [54.648243, -3.442191], [54.643676, -3.542917], [54.588559, -3.45757], [54.822782, -3.16636], [54.59904, -3.133331], [54.605497, -3.163236], [54.613504, -3.199235], [54.886082, -3.209189], [54.768339, -3.003291], [54.842936, -3.116174], [54.640405, -3.566657], [54.643234, -3.549409], [54.643133, -3.543206], [54.644397, -3.378826], [54.673111, -3.241932], [54.695311, -3.414068], [54.845183, -3.055811], [54.83646, -3.076914], [54.668373, -3.434841], [54.849043, -3.096874], [54.617048, -3.565759], [54.800397, -3.212852], [54.719746, -3.475315], [54.614203, -3.563327], [54.602103, -3.122889], [54.641383, -3.553523], [54.665743, -3.421569], [54.665266, -3.393022], [54.632049, -3.531322], [54.784517, -3.346578], [54.694254, -3.412169], [54.66642, -3.394302], [54.777698, -3.023424], [54.659868, -3.432061], [54.614367, -3.550635], [54.714654, -3.494846], [54.652744, -3.371978], [54.689335, -3.470644], [54.799141, -3.166768], [54.837926, -3.073683], [54.748372, -3.193585], [54.777708, -3.207975], [54.6425, -3.543492], [54.696648, -3.161343], [54.79258, -3.274055], [54.714506, -3.499498], [54.608309, -3.525166], [54.640229, -3.381784], [54.711322, -3.443498], [54.781384, -3.361557], [54.753812, -3.375705], [54.661411, -3.36855], [54.730387, -3.372892], [54.840826, -3.050402], [54.796743, -3.154411], [54.837714, -3.12693], [54.678834, -3.534633], [54.642502, -3.543337], [54.623979, -3.564941], [54.575851, -3.084419], [54.710033, -3.505077], [54.576743, -3.085216], [54.76572, -3.331499], [54.634274, -3.207438], [54.636029, -3.536429], [54.860569, -3.384946], [54.617024, -3.511089], [54.640977, -3.543124], [54.646099, -3.557267], [54.809086, -3.224627], [54.641364, -3.555071], [54.79854, -3.086328], [54.71684, -3.49974], [54.708573, -3.49959], [54.673898, -3.199463], [54.618479, -3.566279], [54.715355, -3.318204], [54.83475, -3.136344], [54.714107, -3.495447], [54.663074, -3.522876], [54.828938, -3.152216], [54.63128, -3.556391], [54.614203, -3.54939], [54.646117, -3.484271], [54.665643, -3.422496], [54.678834, -3.534633], [54.660067, -3.430362], [54.830598, -3.212512], [54.831314, -3.079579], [54.695393, -3.414692], [54.631063, -3.53113], [54.607094, -3.14656], [54.659668, -3.298262], [54.663584, -3.367072], [54.708021, -3.500656], [54.754087, -3.375248], [54.687164, -3.522692], [54.623349, -3.565072], [54.718803, -3.486305], [54.599102, -3.136274], [54.713736, -3.496365], [54.841979, -3.285577], [54.813234, -3.130605], [54.843874, -3.05126], [54.824624, -3.161744], [54.715158, -3.497659], [54.704637, -3.384749], [54.820694, -3.149646], [54.786574, -3.192999], [54.668276, -3.357461], [54.64581, -3.558806], [54.646388, -3.520392], [54.806616, -3.14629], [54.617225, -3.404854], [54.950485, -3.19457], [54.653962, -3.224762], [54.639234, -3.559949], [54.567035, -3.134299], [54.768694, -3.228536], [54.609321, -3.139191], [54.715793, -3.497217], [54.824862, -3.097464], [54.625419, -3.564842], [54.803616, -3.15943], [54.644745, -3.529474], [54.687665, -3.46748], [54.645246, -3.55367], [54.635183, -3.567386], [54.663294, -3.368923], [54.644462, -3.530548], [54.712127, -3.488389], [54.675951, -3.499318], [54.822844, -3.159825], [54.641868, -3.543778], [54.844488, -3.3031], [54.639146, -3.538716], [54.760448, -3.353084], [54.63833, -3.382804], [54.641069, -3.542973], [54.565591, -3.055533], [54.830593, -3.212979], [54.603623, -3.533196], [54.790251, -3.348169], [54.824624, -3.161744], [54.640407, -3.559529], [54.868092, -3.387229], [54.640468, -3.540781], [54.820723, -3.184044], [54.683416, -3.52767], [54.817649, -3.204186], [54.62587, -3.564704], [54.622901, -3.501083], [54.561712, -3.057134], [54.729873, -3.362625], [54.557583, -3.227903], [54.644531, -3.474295], [54.824532, -3.161897], [54.766215, -3.31908], [54.836186, -3.077374], [54.605108, -3.108884], [54.640751, -3.553808], [54.724774, -3.460902], [54.70723, -3.462444], [54.603148, -3.126479], [54.630752, -3.541498], [54.800577, -3.212857], [54.624211, -3.553952], [54.668265, -3.436388], [54.704221, -3.451006], [54.645011, -3.558], [54.756337, -3.437018], [54.708279, -3.487006], [54.575497, -3.302547], [54.715389, -3.500773], [54.599796, -3.138925], [54.666064, -3.549348], [54.644835, -3.529478], [54.705255, -3.454768], [54.673811, -3.199151], [54.661656, -3.280341], [54.788848, -3.345012], [54.784265, -3.287011], [54.627885, -3.384464], [54.663537, -3.371257], [54.908912, -3.208937], [54.637897, -3.545022], [54.897406, -3.095537], [54.666148, -3.394448], [54.624803, -3.165026], [54.822846, -3.159669], [54.84802, -3.37408], [54.662536, -3.364401], [54.673144, -3.26473], [54.653003, -3.372917], [54.611795, -3.519566], [54.7766, -3.210896], [54.874043, -3.385564], [54.732876, -3.437275], [54.643978, -3.547423], [54.638975, -3.21362], [54.777916, -3.333921], [54.541348, -3.276881], [54.776707, -3.023709], [54.75303, -3.316631], [54.601276, -3.134477], [54.605591, -3.162774], [54.516785, -3.045623], [54.668318, -3.244732], [54.553911, -3.14414], [54.737399, -3.332434], [54.674866, -3.378773], [54.763505, -3.064407], [54.662626, -3.364404], [54.601564, -3.14207], [54.804629, -3.247518], [54.642409, -3.543644], [54.67073, -3.314277], [54.809228, -3.371052], [54.628495, -3.556285], [54.798021, -3.021915], [54.780384, -3.200902], [54.644336, -3.554565], [54.690921, -3.389557], [54.622805, -3.501545], [54.70903, -3.498986], [54.824718, -3.161279], [54.684844, -3.219332], [54.660893, -3.366672], [54.689253, -3.520908], [54.63988, -3.551606], [54.581201, -3.166257], [54.642592, -3.543341], [54.822305, -3.159809], [54.664029, -3.35949], [54.623442, -3.529604], [54.663811, -3.362893], [54.683182, -3.390378], [54.741576, -3.269812], [54.752858, -3.0893], [54.738124, -3.411365], [54.738269, -3.414322], [54.599268, -3.118477], [54.708279, -3.487006], [54.663074, -3.522876], [54.649775, -3.221072], [54.909653, -3.206775], [54.614834, -3.556228], [54.644252, -3.554097], [54.79309, -3.141553], [54.846408, -3.038867], [54.645724, -3.558493], [54.604568, -3.109024], [54.666044, -3.418943], [54.816271, -3.207258], [54.72783, -3.29485], [54.78399, -3.287469], [54.662152, -3.524702], [54.766741, -3.295315], [54.642572, -3.54489], [54.66326, -3.507998], [54.641347, -3.51385], [54.692769, -3.345245], [54.806445, -3.236994], [54.604711, -3.188604], [54.619408, -3.507305], [54.821136, -3.159931], [54.649321, -3.537241], [54.901447, -3.105784], [54.665077, -3.370223], [54.609969, -3.410488], [54.627677, -3.563999], [54.66663, -3.351979], [54.703421, -3.509177], [54.662536, -3.364401], [54.659565, -3.299499], [54.659966, -3.295636], [54.648523, -3.471184], [54.595627, -3.467729], [54.629637, -3.551371], [54.694346, -3.516133], [54.657069, -3.44824], [54.843388, -3.115875], [54.620874, -3.505036], [54.807776, -3.426862], [54.741217, -3.269801], [54.632322, -3.552248], [54.708279, -3.487006], [54.63996, -3.559357], [54.762229, -3.338378], [54.682206, -3.389259], [54.615747, -3.562147], [54.61637, -3.541574], [54.797584, -3.169835], [54.648611, -3.339756], [54.61097, -3.520775], [54.694913, -3.432674], [54.664092, -3.52772], [54.713656, -3.495586], [54.708843, -3.485009], [54.760486, -3.357748], [54.753997, -3.375245], [54.614836, -3.556073], [54.833294, -3.147825], [54.807767, -3.230655], [54.666148, -3.394448], [54.620368, -3.523913], [54.586197, -3.093205], [54.625884, -3.55665], [54.708615, -3.46684], [54.824275, -3.160644], [54.637787, -3.367291], [54.629659, -3.549667], [54.640386, -3.540158], [54.795552, -3.426898], [54.706853, -3.493318], [54.618555, -3.539333], [54.64021, -3.539841], [54.803436, -3.159424], [54.848994, -3.030679], [54.704243, -3.508121], [54.866807, -3.070088], [54.830136, -3.149136], [54.662353, -3.364705], [54.648686, -3.472585], [54.601984, -3.116384], [54.640602, -3.54435], [54.648854, -3.517229], [54.76572, -3.331499], [54.677512, -3.383205], [54.848483, -3.06898], [54.698753, -3.419464], [54.644512, -3.554882], [54.590456, -3.44928], [54.745261, -3.400428], [54.768574, -3.231486], [54.644318, -3.548985], [54.753903, -3.335462], [54.834941, -3.135104], [54.686837, -3.400742], [54.614153, -3.510672], [54.708279, -3.487006], [54.629992, -3.551694], [54.686579, -3.399802], [54.793723, -3.009363], [54.8487, -3.094996], [54.640298, -3.54], [54.666242, -3.4174], [54.666483, -3.39663], [54.649639, -3.533378], [54.754223, -3.25498], [54.627755, -3.203217], [54.601945, -3.139759], [54.845793, -3.058007], [54.671184, -3.432769], [54.680689, -3.486773], [54.693882, -3.428604], [54.775997, -3.022603], [54.615842, -3.561687], [54.631438, -3.565073], [54.620939, -3.528581], [54.736466, -3.422491], [54.709729, -3.478677], [54.644829, -3.41154], [54.694913, -3.432674], [54.741127, -3.269798], [54.658788, -3.377918], [54.613722, -3.516386], [54.870171, -3.38621], [54.659094, -3.436685], [54.646123, -3.555408], [54.767047, -3.231439], [54.60867, -3.525024], [54.642654, -3.545513], [54.839575, -3.283476], [54.620939, -3.528581], [54.640751, -3.553808], [54.643413, -3.549416], [54.845277, -3.055346], [54.719145, -3.308546], [54.603812, -3.141978], [54.848414, -3.066642], [54.646444, -3.551391], [54.608893, -3.237653], [54.607641, -3.126603], [54.639005, -3.549713], [54.898457, -3.078412], [54.658922, -3.381953], [54.653267, -3.373391], [54.714193, -3.495761], [54.823024, -3.15983], [54.665734, -3.422344], [54.604853, -3.107328], [54.627904, -3.56029], [54.690253, -3.408462], [54.67451, -3.37845], [54.642411, -3.543489], [54.710142, -3.503528], [54.645015, -3.557691], [54.610089, -3.540717], [54.713019, -3.496183], [54.662653, -3.369987], [54.66785, -3.543213], [54.666366, -3.539745], [54.62452, -3.564807], [54.871684, -3.387509], [54.822758, -3.16885], [54.824806, -3.161438], [54.842844, -3.056061], [54.630621, -3.551718], [54.602739, -3.197216], [54.602504, -3.184514], [54.845839, -3.042279], [54.574534, -3.08098], [54.666413, -3.394922], [54.707746, -3.501111], [54.8083, -3.428126], [54.644252, -3.554097], [54.66785, -3.543213], [54.668623, -3.546033], [54.667257, -3.547377], [54.615435, -3.194801], [54.669351, -3.373779], [54.646678, -3.554189], [54.696226, -3.34148], [54.707208, -3.479051], [54.758083, -3.246708], [54.748637, -3.449642], [54.831228, -3.157107], [54.784207, -3.428676], [54.754404, -3.25483], [54.615798, -3.558123], [54.64266, -3.545048], [54.76462, -3.325245], [54.794955, -3.2088], [54.816533, -3.152485], [54.783327, -3.34856], [54.634449, -3.540553], [54.653694, -3.489352], [54.624184, -3.163924], [54.706457, -3.503547], [54.614213, -3.548616], [54.633631, -3.548269], [54.694913, -3.432674], [54.591659, -3.461395], [54.658647, -3.374503], [54.666825, -3.35059], [54.645189, -3.558162], [54.762948, -3.236755], [54.714526, -3.497947], [54.767229, -3.231134], [54.681131, -3.50199], [54.765661, -3.320461], [54.627814, -3.553315], [54.600602, -3.139257], [54.608612, -3.203117], [54.620784, -3.505032], [54.81647, -3.120891], [54.637237, -3.561422], [54.890133, -3.361481], [54.825449, -3.160055], [54.65623, -3.186542], [54.830807, -3.262492], [54.608501, -3.405328], [54.63971, -3.550824], [54.753629, -3.376009], [54.641671, -3.566086], [54.663598, -3.365832], [54.639234, -3.559949], [54.734529, -3.471814], [54.796963, -3.358814], [54.698161, -3.439151], [54.645046, -3.548238], [54.825101, -3.130158], [54.610404, -3.49412], [54.633746, -3.53216], [54.642894, -3.533744], [54.6403, -3.539845], [54.60186, -3.139292], [54.711504, -3.495196], [54.881859, -3.075319], [54.605503, -3.162617], [54.621747, -3.314247], [54.832004, -3.414794], [54.559338, -3.140426], [54.741396, -3.269807], [54.906629, -3.203566], [54.766579, -3.301994], [54.513169, -3.1844], [54.706396, -3.493922], [54.741611, -3.308804], [54.82776, -3.153272], [54.827521, -3.196541], [54.714615, -3.49795], [54.63131, -3.56104], [54.611143, -3.45559], [54.685774, -3.475169], [54.66873, -3.340884], [54.822686, -3.16698], [54.610935, -3.090771], [54.642498, -3.543647], [54.650237, -3.549985], [54.587942, -3.306968], [54.708619, -3.481275], [54.661997, -3.23012], [54.720477, -3.481708], [54.833727, -3.140052], [54.714654, -3.494846], [54.797071, -3.365196], [54.61053, -3.541353], [54.766747, -3.303087]],\n",
       "                {\n",
       "  &quot;minOpacity&quot;: 0.5,\n",
       "  &quot;maxZoom&quot;: 18,\n",
       "  &quot;radius&quot;: 25,\n",
       "  &quot;blur&quot;: 15,\n",
       "}\n",
       "            );\n",
       "        \n",
       "    \n",
       "            heat_map_3a7b35b6dccb728956a85f311670da2f.addTo(map_b41f726ef7ee59b2a291bfa73d53216a);\n",
       "        \n",
       "    \n",
       "            tile_layer_a20d02ffc2404a5f11376ff19479d6de.addTo(map_b41f726ef7ee59b2a291bfa73d53216a);\n",
       "        \n",
       "    \n",
       "            heat_map_3a7b35b6dccb728956a85f311670da2f.addTo(map_b41f726ef7ee59b2a291bfa73d53216a);\n",
       "        \n",
       "&lt;/script&gt;\n",
       "&lt;/html&gt;\" style=\"position:absolute;width:100%;height:100%;left:0;top:0;border:none !important;\" allowfullscreen webkitallowfullscreen mozallowfullscreen></iframe></div></div>"
      ],
      "text/plain": [
       "<folium.folium.Map at 0x16bf43ed6f0>"
      ]
     },
     "execution_count": 71,
     "metadata": {},
     "output_type": "execute_result"
    }
   ],
   "source": [
    "locations  = list(zip(allerdale_slight['Latitude'],allerdale_slight['Longitude']))\n",
    "\n",
    "m = folium.Map(location=[allerdale_slight['Latitude'].mean(), allerdale_slight['Longitude'].mean()], zoom_start=10)\n",
    "\n",
    "# Step 3: Add the heatmap layer\n",
    "HeatMap(locations).add_to(m)\n",
    "\n",
    "# Step 4: Save or display the map\n",
    "m.save('accident_heatmap.html')  # Save the map as an HTML file\n",
    "m  # Display the map in a Jupyter Notebook"
   ]
  },
  {
   "cell_type": "code",
   "execution_count": 72,
   "id": "c5900646-b110-4752-af7b-a9c733646d3f",
   "metadata": {
    "scrolled": true
   },
   "outputs": [
    {
     "data": {
      "text/plain": [
       "[(54.632981, -3.549949),\n",
       " (54.783012, -3.104105),\n",
       " (54.732876, -3.437275),\n",
       " (54.743031, -3.40672),\n",
       " (54.639744, -3.483574),\n",
       " (54.797761, -3.359775),\n",
       " (54.639488, -3.547097),\n",
       " (54.628036, -3.557042),\n",
       " (54.599308, -3.133493),\n",
       " (54.643915, -3.552379),\n",
       " (54.606049, -3.104265),\n",
       " (54.606308, -3.115264),\n",
       " (54.704243, -3.508121),\n",
       " (54.709773, -3.452756),\n",
       " (54.846422, -3.175296),\n",
       " (54.92809, -3.149742),\n",
       " (54.76413, -3.32896),\n",
       " (54.734766, -3.276433),\n",
       " (54.831224, -3.079577),\n",
       " (54.810246, -3.286281),\n",
       " (54.711207, -3.497358),\n",
       " (54.65708, -3.227491),\n",
       " (54.708485, -3.499431),\n",
       " (54.644785, -3.547608),\n",
       " (54.637511, -3.55415),\n",
       " (54.643107, -3.531117),\n",
       " (54.715076, -3.497035),\n",
       " (54.735425, -3.426959),\n",
       " (54.723765, -3.013835),\n",
       " (54.843566, -3.116036),\n",
       " (54.68318, -3.390533),\n",
       " (54.663164, -3.522879),\n",
       " (54.604623, -3.188446),\n",
       " (54.640975, -3.543279),\n",
       " (54.605409, -3.163079),\n",
       " (54.709704, -3.480694),\n",
       " (54.687621, -3.402941),\n",
       " (54.68719, -3.469635),\n",
       " (54.638603, -3.382504),\n",
       " (54.849437, -3.102959),\n",
       " (54.642231, -3.543482),\n",
       " (54.625059, -3.564828),\n",
       " (54.639052, -3.560097),\n",
       " (54.71448, -3.494374),\n",
       " (54.637696, -3.553692),\n",
       " (54.641408, -3.332701),\n",
       " (54.622581, -3.400237),\n",
       " (54.609845, -3.140754),\n",
       " (54.752958, -3.088215),\n",
       " (54.840627, -3.06301),\n",
       " (54.704333, -3.508125),\n",
       " (54.573542, -3.071208),\n",
       " (54.651199, -3.222509),\n",
       " (54.712566, -3.496477),\n",
       " (54.865285, -3.365318),\n",
       " (54.767502, -3.230831),\n",
       " (54.6636, -3.365677),\n",
       " (54.768929, -3.02942),\n",
       " (54.721335, -3.305512),\n",
       " (54.830641, -3.053874),\n",
       " (54.666061, -3.484998),\n",
       " (54.633434, -3.5636),\n",
       " (54.610334, -3.410036),\n",
       " (54.610173, -3.541185),\n",
       " (54.821079, -3.108256),\n",
       " (54.666546, -3.525487),\n",
       " (54.507451, -3.044149),\n",
       " (54.742294, -3.408248),\n",
       " (54.64265, -3.545822),\n",
       " (54.604862, -3.144949),\n",
       " (54.763638, -3.332829),\n",
       " (54.625237, -3.56499),\n",
       " (54.712563, -3.489491),\n",
       " (54.848471, -3.090473),\n",
       " (54.60713, -3.189448),\n",
       " (54.64886, -3.516764),\n",
       " (54.640315, -3.566654),\n",
       " (54.622664, -3.555442),\n",
       " (54.715158, -3.497659),\n",
       " (54.718807, -3.485994),\n",
       " (54.660122, -3.43331),\n",
       " (54.707379, -3.501719),\n",
       " (54.801703, -3.162019),\n",
       " (54.595869, -3.056626),\n",
       " (54.666147, -3.394603),\n",
       " (54.610355, -3.541037),\n",
       " (54.604961, -3.53402),\n",
       " (54.64012, -3.539838),\n",
       " (54.812852, -3.170898),\n",
       " (54.643586, -3.542913),\n",
       " (54.770343, -3.430675),\n",
       " (54.714017, -3.495444),\n",
       " (54.686153, -3.473631),\n",
       " (54.611043, -3.45636),\n",
       " (54.829486, -3.206874),\n",
       " (54.719529, -3.478413),\n",
       " (54.637327, -3.554453),\n",
       " (54.709336, -3.481457),\n",
       " (54.65254, -3.223169),\n",
       " (54.658923, -3.381798),\n",
       " (54.644342, -3.5541),\n",
       " (54.642862, -3.543351),\n",
       " (54.865082, -3.072068),\n",
       " (54.830601, -3.2122),\n",
       " (54.784807, -3.286717),\n",
       " (54.640409, -3.559374),\n",
       " (54.829368, -3.065828),\n",
       " (54.664276, -3.361514),\n",
       " (54.64343, -3.541048),\n",
       " (54.605499, -3.190794),\n",
       " (54.635628, -3.56074),\n",
       " (54.640242, -3.565411),\n",
       " (54.637501, -3.561897),\n",
       " (54.734202, -3.34522),\n",
       " (54.736862, -3.332261),\n",
       " (54.822934, -3.159827),\n",
       " (54.838327, -3.069023),\n",
       " (54.664027, -3.359645),\n",
       " (54.681083, -3.461814),\n",
       " (54.816899, -3.422982),\n",
       " (54.64265, -3.545822),\n",
       " (54.707582, -3.463077),\n",
       " (54.64257, -3.545044),\n",
       " (54.663584, -3.52522),\n",
       " (54.672908, -3.199589),\n",
       " (54.772237, -3.43012),\n",
       " (54.842936, -3.116174),\n",
       " (54.713994, -3.497306),\n",
       " (54.927504, -3.1452),\n",
       " (54.554092, -3.143991),\n",
       " (54.60894, -3.525034),\n",
       " (54.647915, -3.520449),\n",
       " (54.643496, -3.54291),\n",
       " (54.640098, -3.329249),\n",
       " (54.730354, -3.445262),\n",
       " (54.690617, -3.519718),\n",
       " (54.76968, -3.314529),\n",
       " (54.660589, -3.304493),\n",
       " (54.66392, -3.361192),\n",
       " (54.904789, -3.18963),\n",
       " (54.76402, -3.330821),\n",
       " (54.893343, -3.183679),\n",
       " (54.787872, -3.343891),\n",
       " (54.602073, -3.116387),\n",
       " (54.668988, -3.545582),\n",
       " (54.608674, -3.524715),\n",
       " (54.797533, -3.264566),\n",
       " (54.734482, -3.277822),\n",
       " (54.618839, -3.566293),\n",
       " (54.652808, -3.223332),\n",
       " (54.713019, -3.496183),\n",
       " (54.782824, -3.199575),\n",
       " (54.663811, -3.362893),\n",
       " (54.707012, -3.502326),\n",
       " (54.690726, -3.51817),\n",
       " (54.762749, -3.307155),\n",
       " (54.633827, -3.560981),\n",
       " (54.780859, -3.336039),\n",
       " (54.641849, -3.538199),\n",
       " (54.760589, -3.332263),\n",
       " (54.606221, -3.114952),\n",
       " (54.845363, -3.055815),\n",
       " (54.618674, -3.508517),\n",
       " (54.643494, -3.543065),\n",
       " (54.734861, -3.27597),\n",
       " (54.528532, -3.048705),\n",
       " (54.637525, -3.187701),\n",
       " (54.848064, -3.085789),\n",
       " (54.605497, -3.163236),\n",
       " (54.648858, -3.516919),\n",
       " (54.693352, -3.516562),\n",
       " (54.786315, -3.191903),\n",
       " (54.638808, -3.5511),\n",
       " (54.642648, -3.545977),\n",
       " (54.571783, -3.066831),\n",
       " (54.71465, -3.495157),\n",
       " (54.58752, -3.321037),\n",
       " (54.755017, -3.372482),\n",
       " (54.847524, -3.034379),\n",
       " (54.67381, -3.199306),\n",
       " (54.662586, -3.367969),\n",
       " (54.662226, -3.277414),\n",
       " (54.763918, -3.331906),\n",
       " (54.823114, -3.159832),\n",
       " (54.76572, -3.331499),\n",
       " (54.836425, -3.130163),\n",
       " (54.648594, -3.537833),\n",
       " (54.661837, -3.280192),\n",
       " (54.65982, -3.428493),\n",
       " (54.618304, -3.558993),\n",
       " (54.643244, -3.548634),\n",
       " (54.661969, -3.525005),\n",
       " (54.603906, -3.188271),\n",
       " (54.678816, -3.455994),\n",
       " (54.638595, -3.539625),\n",
       " (54.641422, -3.557553),\n",
       " (54.737607, -3.271242),\n",
       " (54.644921, -3.557997),\n",
       " (54.747219, -3.394281),\n",
       " (54.616142, -3.559375),\n",
       " (54.710393, -3.497794),\n",
       " (54.849089, -3.101703),\n",
       " (54.674702, -3.377371),\n",
       " (54.614748, -3.555915),\n",
       " (54.753071, -3.3777),\n",
       " (54.601711, -3.136037),\n",
       " (54.720787, -3.30627),\n",
       " (54.831262, -3.075219),\n",
       " (54.640389, -3.55395),\n",
       " (54.653355, -3.373549),\n",
       " (54.643586, -3.542913),\n",
       " (54.604332, -3.144006),\n",
       " (54.850734, -3.026829),\n",
       " (54.607129, -3.547263),\n",
       " (54.623259, -3.565069),\n",
       " (54.612072, -3.518957),\n",
       " (54.625678, -3.551685),\n",
       " (54.738285, -3.412924),\n",
       " (54.661964, -3.188414),\n",
       " (54.615557, -3.541853),\n",
       " (54.848782, -3.095932),\n",
       " (54.76462, -3.325245),\n",
       " (54.833201, -3.148133),\n",
       " (54.645017, -3.557536),\n",
       " (54.699076, -3.422579),\n",
       " (54.651067, -3.416096),\n",
       " (54.667831, -3.516231),\n",
       " (54.759554, -3.360669),\n",
       " (54.764133, -3.328649),\n",
       " (54.641065, -3.543283),\n",
       " (54.68727, -3.402153),\n",
       " (54.642379, -3.545967),\n",
       " (54.642644, -3.546287),\n",
       " (54.641697, -3.557099),\n",
       " (54.638422, -3.382652),\n",
       " (54.754089, -3.375093),\n",
       " (54.82563, -3.159905),\n",
       " (54.713608, -3.492169),\n",
       " (54.824715, -3.161591),\n",
       " (54.714613, -3.498105),\n",
       " (54.784242, -3.347036),\n",
       " (54.833947, -3.09662),\n",
       " (54.81025, -3.122897),\n",
       " (54.700764, -3.476799),\n",
       " (54.644162, -3.554093),\n",
       " (54.704827, -3.391739),\n",
       " (54.644531, -3.546359),\n",
       " (54.662265, -3.290748),\n",
       " (54.651347, -3.490197),\n",
       " (54.622302, -3.527393),\n",
       " (54.624415, -3.566042),\n",
       " (54.600321, -3.13089),\n",
       " (54.649953, -3.508435),\n",
       " (54.650381, -3.488301),\n",
       " (54.644935, -3.556913),\n",
       " (54.788313, -3.189784),\n",
       " (54.851467, -3.314384),\n",
       " (54.627924, -3.558741),\n",
       " (54.653845, -3.462231),\n",
       " (54.708573, -3.49959),\n",
       " (54.711271, -3.43263),\n",
       " (54.706788, -3.484003),\n",
       " (54.845015, -3.11483),\n",
       " (54.637511, -3.561122),\n",
       " (54.672123, -3.374958),\n",
       " (54.709028, -3.499141),\n",
       " (54.623506, -3.397946),\n",
       " (54.638096, -3.323296),\n",
       " (54.709147, -3.489521),\n",
       " (54.630871, -3.560248),\n",
       " (54.710668, -3.504634),\n",
       " (54.639109, -3.548632),\n",
       " (54.775997, -3.022603),\n",
       " (54.618665, -3.558852),\n",
       " (54.652985, -3.223648),\n",
       " (54.704241, -3.508277),\n",
       " (54.691225, -3.219368),\n",
       " (54.85229, -3.023442),\n",
       " (54.904767, -3.145178),\n",
       " (54.798768, -3.091001),\n",
       " (54.675564, -3.380657),\n",
       " (54.833728, -3.139897),\n",
       " (54.645103, -3.557849),\n",
       " (54.652778, -3.533961),\n",
       " (54.660308, -3.432851),\n",
       " (54.643785, -3.217948),\n",
       " (54.645042, -3.548548),\n",
       " (54.767501, -3.230987),\n",
       " (54.756957, -3.335562),\n",
       " (54.846113, -3.11268),\n",
       " (54.663633, -3.271876),\n",
       " (54.611042, -3.456515),\n",
       " (54.606205, -3.535151),\n",
       " (54.748341, -3.05127),\n",
       " (54.639106, -3.555915),\n",
       " (54.664766, -3.231754),\n",
       " (54.606998, -3.118379),\n",
       " (54.806248, -3.147214),\n",
       " (54.767047, -3.231439),\n",
       " (54.620011, -3.559058),\n",
       " (54.738296, -3.332618),\n",
       " (54.723932, -3.463666),\n",
       " (54.829454, -3.164062),\n",
       " (54.644078, -3.546651),\n",
       " (54.834657, -3.136653),\n",
       " (54.706541, -3.459936),\n",
       " (54.639107, -3.548787),\n",
       " (54.711253, -3.486339),\n",
       " (54.637415, -3.561584),\n",
       " (54.631444, -3.564608),\n",
       " (54.627603, -3.555786),\n",
       " (54.798381, -3.021924),\n",
       " (54.860299, -3.384936),\n",
       " (54.718058, -3.495748),\n",
       " (54.735514, -3.273661),\n",
       " (54.602151, -3.136978),\n",
       " (54.623131, -3.399327),\n",
       " (54.684688, -3.468459),\n",
       " (54.750379, -3.385222),\n",
       " (54.843476, -3.116033),\n",
       " (54.634794, -3.562723),\n",
       " (54.827046, -3.162125),\n",
       " (54.845933, -3.041814),\n",
       " (54.668372, -3.2483),\n",
       " (54.60681, -3.148101),\n",
       " (54.712838, -3.496332),\n",
       " (54.629228, -3.555228),\n",
       " (54.666242, -3.4174),\n",
       " (54.772033, -3.244805),\n",
       " (54.644252, -3.554097),\n",
       " (54.785263, -3.28611),\n",
       " (54.62919, -3.551199),\n",
       " (54.625155, -3.564367),\n",
       " (54.64265, -3.545822),\n",
       " (54.864235, -3.36279),\n",
       " (54.640296, -3.540154),\n",
       " (54.642869, -3.528629),\n",
       " (54.705618, -3.49141),\n",
       " (54.667351, -3.407049),\n",
       " (54.61433, -3.546452),\n",
       " (54.844726, -3.289246),\n",
       " (54.610355, -3.541037),\n",
       " (54.826928, -3.155739),\n",
       " (54.603858, -3.117829),\n",
       " (54.624518, -3.564962),\n",
       " (54.550381, -3.057923),\n",
       " (54.642411, -3.543489),\n",
       " (54.661714, -3.357552),\n",
       " (54.615832, -3.562461),\n",
       " (54.642434, -3.555732),\n",
       " (54.648531, -3.470565),\n",
       " (54.757876, -3.333728),\n",
       " (54.609824, -3.084393),\n",
       " (54.830683, -3.212981),\n",
       " (54.606449, -3.148245),\n",
       " (54.661022, -3.297685),\n",
       " (54.663434, -3.364431),\n",
       " (54.715751, -3.500631),\n",
       " (54.604387, -3.118927),\n",
       " (54.643329, -3.548948),\n",
       " (54.631432, -3.551594),\n",
       " (54.526694, -3.251391),\n",
       " (54.819968, -3.159898),\n",
       " (54.636031, -3.536275),\n",
       " (54.80763, -3.143674),\n",
       " (54.663591, -3.366452),\n",
       " (54.848182, -3.082677),\n",
       " (54.67381, -3.199306),\n",
       " (54.635245, -3.562585),\n",
       " (54.591568, -3.385089),\n",
       " (54.652911, -3.373069),\n",
       " (54.601472, -3.132779),\n",
       " (54.602699, -3.116713),\n",
       " (54.661849, -3.279107),\n",
       " (54.698115, -3.458081),\n",
       " (54.715659, -3.500783),\n",
       " (54.783989, -3.287625),\n",
       " (54.636696, -3.561556),\n",
       " (54.844487, -3.303255),\n",
       " (54.715569, -3.500779),\n",
       " (54.764698, -3.051228),\n",
       " (54.674607, -3.377833),\n",
       " (54.618934, -3.308426),\n",
       " (54.738377, -3.412772),\n",
       " (54.623159, -3.558869),\n",
       " (54.61153, -3.260805),\n",
       " (54.661877, -3.525156),\n",
       " (54.661872, -3.553839),\n",
       " (54.688056, -3.404197),\n",
       " (54.648496, -3.552554),\n",
       " (54.643755, -3.550823),\n",
       " (54.66243, -3.365793),\n",
       " (54.645015, -3.557691),\n",
       " (54.637821, -3.356291),\n",
       " (54.60949, -3.140279),\n",
       " (54.616597, -3.516493),\n",
       " (54.765379, -3.32154),\n",
       " (54.661654, -3.280496),\n",
       " (54.673959, -3.379517),\n",
       " (54.619574, -3.558112),\n",
       " (54.631855, -3.560596),\n",
       " (54.848829, -3.08067),\n",
       " (54.915107, -3.245161),\n",
       " (54.709682, -3.482556),\n",
       " (54.635853, -3.536113),\n",
       " (54.65708, -3.227491),\n",
       " (54.656008, -3.226839),\n",
       " (54.784534, -3.28702),\n",
       " (54.601993, -3.181713),\n",
       " (54.615824, -3.56308),\n",
       " (54.644185, -3.531158),\n",
       " (54.875316, -3.384205),\n",
       " (54.848064, -3.085789),\n",
       " (54.791139, -3.435297),\n",
       " (54.855939, -3.388993),\n",
       " (54.660225, -3.424632),\n",
       " (54.640294, -3.540309),\n",
       " (54.718616, -3.486919),\n",
       " (54.601983, -3.126137),\n",
       " (54.652718, -3.22333),\n",
       " (54.708571, -3.499745),\n",
       " (54.642753, -3.537768),\n",
       " (54.610355, -3.541037),\n",
       " (54.765379, -3.32154),\n",
       " (54.663192, -3.370005),\n",
       " (54.601621, -3.136035),\n",
       " (54.615063, -3.545396),\n",
       " (54.67558, -3.500235),\n",
       " (54.542287, -3.273046),\n",
       " (54.845183, -3.055811),\n",
       " (54.641743, -3.553536),\n",
       " (54.607111, -3.476813),\n",
       " (54.709682, -3.482556),\n",
       " (54.663493, -3.367224),\n",
       " (54.662152, -3.524702),\n",
       " (54.639144, -3.559945),\n",
       " (54.639398, -3.547094),\n",
       " (54.706654, -3.494863),\n",
       " (54.656206, -3.554088),\n",
       " (54.825824, -3.158354),\n",
       " (54.714837, -3.494543),\n",
       " (54.659785, -3.36927),\n",
       " (54.635952, -3.556569),\n",
       " (54.813234, -3.130605),\n",
       " (54.635866, -3.556256),\n",
       " (54.598071, -3.421068),\n",
       " (54.6055, -3.162927),\n",
       " (54.602851, -3.167341),\n",
       " (54.829451, -3.164373),\n",
       " (54.822001, -3.105791),\n",
       " (54.654422, -3.29298),\n",
       " (54.648243, -3.442191),\n",
       " (54.643676, -3.542917),\n",
       " (54.588559, -3.45757),\n",
       " (54.822782, -3.16636),\n",
       " (54.59904, -3.133331),\n",
       " (54.605497, -3.163236),\n",
       " (54.613504, -3.199235),\n",
       " (54.886082, -3.209189),\n",
       " (54.768339, -3.003291),\n",
       " (54.842936, -3.116174),\n",
       " (54.640405, -3.566657),\n",
       " (54.643234, -3.549409),\n",
       " (54.643133, -3.543206),\n",
       " (54.644397, -3.378826),\n",
       " (54.673111, -3.241932),\n",
       " (54.695311, -3.414068),\n",
       " (54.845183, -3.055811),\n",
       " (54.83646, -3.076914),\n",
       " (54.668373, -3.434841),\n",
       " (54.849043, -3.096874),\n",
       " (54.617048, -3.565759),\n",
       " (54.800397, -3.212852),\n",
       " (54.719746, -3.475315),\n",
       " (54.614203, -3.563327),\n",
       " (54.602103, -3.122889),\n",
       " (54.641383, -3.553523),\n",
       " (54.665743, -3.421569),\n",
       " (54.665266, -3.393022),\n",
       " (54.632049, -3.531322),\n",
       " (54.784517, -3.346578),\n",
       " (54.694254, -3.412169),\n",
       " (54.66642, -3.394302),\n",
       " (54.777698, -3.023424),\n",
       " (54.659868, -3.432061),\n",
       " (54.614367, -3.550635),\n",
       " (54.714654, -3.494846),\n",
       " (54.652744, -3.371978),\n",
       " (54.689335, -3.470644),\n",
       " (54.799141, -3.166768),\n",
       " (54.837926, -3.073683),\n",
       " (54.748372, -3.193585),\n",
       " (54.777708, -3.207975),\n",
       " (54.6425, -3.543492),\n",
       " (54.696648, -3.161343),\n",
       " (54.79258, -3.274055),\n",
       " (54.714506, -3.499498),\n",
       " (54.608309, -3.525166),\n",
       " (54.640229, -3.381784),\n",
       " (54.711322, -3.443498),\n",
       " (54.781384, -3.361557),\n",
       " (54.753812, -3.375705),\n",
       " (54.661411, -3.36855),\n",
       " (54.730387, -3.372892),\n",
       " (54.840826, -3.050402),\n",
       " (54.796743, -3.154411),\n",
       " (54.837714, -3.12693),\n",
       " (54.678834, -3.534633),\n",
       " (54.642502, -3.543337),\n",
       " (54.623979, -3.564941),\n",
       " (54.575851, -3.084419),\n",
       " (54.710033, -3.505077),\n",
       " (54.576743, -3.085216),\n",
       " (54.76572, -3.331499),\n",
       " (54.634274, -3.207438),\n",
       " (54.636029, -3.536429),\n",
       " (54.860569, -3.384946),\n",
       " (54.617024, -3.511089),\n",
       " (54.640977, -3.543124),\n",
       " (54.646099, -3.557267),\n",
       " (54.809086, -3.224627),\n",
       " (54.641364, -3.555071),\n",
       " (54.79854, -3.086328),\n",
       " (54.71684, -3.49974),\n",
       " (54.708573, -3.49959),\n",
       " (54.673898, -3.199463),\n",
       " (54.618479, -3.566279),\n",
       " (54.715355, -3.318204),\n",
       " (54.83475, -3.136344),\n",
       " (54.714107, -3.495447),\n",
       " (54.663074, -3.522876),\n",
       " (54.828938, -3.152216),\n",
       " (54.63128, -3.556391),\n",
       " (54.614203, -3.54939),\n",
       " (54.646117, -3.484271),\n",
       " (54.665643, -3.422496),\n",
       " (54.678834, -3.534633),\n",
       " (54.660067, -3.430362),\n",
       " (54.830598, -3.212512),\n",
       " (54.831314, -3.079579),\n",
       " (54.695393, -3.414692),\n",
       " (54.631063, -3.53113),\n",
       " (54.607094, -3.14656),\n",
       " (54.659668, -3.298262),\n",
       " (54.663584, -3.367072),\n",
       " (54.708021, -3.500656),\n",
       " (54.754087, -3.375248),\n",
       " (54.687164, -3.522692),\n",
       " (54.623349, -3.565072),\n",
       " (54.718803, -3.486305),\n",
       " (54.599102, -3.136274),\n",
       " (54.713736, -3.496365),\n",
       " (54.841979, -3.285577),\n",
       " (54.813234, -3.130605),\n",
       " (54.843874, -3.05126),\n",
       " (54.824624, -3.161744),\n",
       " (54.715158, -3.497659),\n",
       " (54.704637, -3.384749),\n",
       " (54.820694, -3.149646),\n",
       " (54.786574, -3.192999),\n",
       " (54.668276, -3.357461),\n",
       " (54.64581, -3.558806),\n",
       " (54.646388, -3.520392),\n",
       " (54.806616, -3.14629),\n",
       " (54.617225, -3.404854),\n",
       " (54.950485, -3.19457),\n",
       " (54.653962, -3.224762),\n",
       " (54.639234, -3.559949),\n",
       " (54.567035, -3.134299),\n",
       " (54.768694, -3.228536),\n",
       " (54.609321, -3.139191),\n",
       " (54.715793, -3.497217),\n",
       " (54.824862, -3.097464),\n",
       " (54.625419, -3.564842),\n",
       " (54.803616, -3.15943),\n",
       " (54.644745, -3.529474),\n",
       " (54.687665, -3.46748),\n",
       " (54.645246, -3.55367),\n",
       " (54.635183, -3.567386),\n",
       " (54.663294, -3.368923),\n",
       " (54.644462, -3.530548),\n",
       " (54.712127, -3.488389),\n",
       " (54.675951, -3.499318),\n",
       " (54.822844, -3.159825),\n",
       " (54.641868, -3.543778),\n",
       " (54.844488, -3.3031),\n",
       " (54.639146, -3.538716),\n",
       " (54.760448, -3.353084),\n",
       " (54.63833, -3.382804),\n",
       " (54.641069, -3.542973),\n",
       " (54.565591, -3.055533),\n",
       " (54.830593, -3.212979),\n",
       " (54.603623, -3.533196),\n",
       " (54.790251, -3.348169),\n",
       " (54.824624, -3.161744),\n",
       " (54.640407, -3.559529),\n",
       " (54.868092, -3.387229),\n",
       " (54.640468, -3.540781),\n",
       " (54.820723, -3.184044),\n",
       " (54.683416, -3.52767),\n",
       " (54.817649, -3.204186),\n",
       " (54.62587, -3.564704),\n",
       " (54.622901, -3.501083),\n",
       " (54.561712, -3.057134),\n",
       " (54.729873, -3.362625),\n",
       " (54.557583, -3.227903),\n",
       " (54.644531, -3.474295),\n",
       " (54.824532, -3.161897),\n",
       " (54.766215, -3.31908),\n",
       " (54.836186, -3.077374),\n",
       " (54.605108, -3.108884),\n",
       " (54.640751, -3.553808),\n",
       " (54.724774, -3.460902),\n",
       " (54.70723, -3.462444),\n",
       " (54.603148, -3.126479),\n",
       " (54.630752, -3.541498),\n",
       " (54.800577, -3.212857),\n",
       " (54.624211, -3.553952),\n",
       " (54.668265, -3.436388),\n",
       " (54.704221, -3.451006),\n",
       " (54.645011, -3.558),\n",
       " (54.756337, -3.437018),\n",
       " (54.708279, -3.487006),\n",
       " (54.575497, -3.302547),\n",
       " (54.715389, -3.500773),\n",
       " (54.599796, -3.138925),\n",
       " (54.666064, -3.549348),\n",
       " (54.644835, -3.529478),\n",
       " (54.705255, -3.454768),\n",
       " (54.673811, -3.199151),\n",
       " (54.661656, -3.280341),\n",
       " (54.788848, -3.345012),\n",
       " (54.784265, -3.287011),\n",
       " (54.627885, -3.384464),\n",
       " (54.663537, -3.371257),\n",
       " (54.908912, -3.208937),\n",
       " (54.637897, -3.545022),\n",
       " (54.897406, -3.095537),\n",
       " (54.666148, -3.394448),\n",
       " (54.624803, -3.165026),\n",
       " (54.822846, -3.159669),\n",
       " (54.84802, -3.37408),\n",
       " (54.662536, -3.364401),\n",
       " (54.673144, -3.26473),\n",
       " (54.653003, -3.372917),\n",
       " (54.611795, -3.519566),\n",
       " (54.7766, -3.210896),\n",
       " (54.874043, -3.385564),\n",
       " (54.732876, -3.437275),\n",
       " (54.643978, -3.547423),\n",
       " (54.638975, -3.21362),\n",
       " (54.777916, -3.333921),\n",
       " (54.541348, -3.276881),\n",
       " (54.776707, -3.023709),\n",
       " (54.75303, -3.316631),\n",
       " (54.601276, -3.134477),\n",
       " (54.605591, -3.162774),\n",
       " (54.516785, -3.045623),\n",
       " (54.668318, -3.244732),\n",
       " (54.553911, -3.14414),\n",
       " (54.737399, -3.332434),\n",
       " (54.674866, -3.378773),\n",
       " (54.763505, -3.064407),\n",
       " (54.662626, -3.364404),\n",
       " (54.601564, -3.14207),\n",
       " (54.804629, -3.247518),\n",
       " (54.642409, -3.543644),\n",
       " (54.67073, -3.314277),\n",
       " (54.809228, -3.371052),\n",
       " (54.628495, -3.556285),\n",
       " (54.798021, -3.021915),\n",
       " (54.780384, -3.200902),\n",
       " (54.644336, -3.554565),\n",
       " (54.690921, -3.389557),\n",
       " (54.622805, -3.501545),\n",
       " (54.70903, -3.498986),\n",
       " (54.824718, -3.161279),\n",
       " (54.684844, -3.219332),\n",
       " (54.660893, -3.366672),\n",
       " (54.689253, -3.520908),\n",
       " (54.63988, -3.551606),\n",
       " (54.581201, -3.166257),\n",
       " (54.642592, -3.543341),\n",
       " (54.822305, -3.159809),\n",
       " (54.664029, -3.35949),\n",
       " (54.623442, -3.529604),\n",
       " (54.663811, -3.362893),\n",
       " (54.683182, -3.390378),\n",
       " (54.741576, -3.269812),\n",
       " (54.752858, -3.0893),\n",
       " (54.738124, -3.411365),\n",
       " (54.738269, -3.414322),\n",
       " (54.599268, -3.118477),\n",
       " (54.708279, -3.487006),\n",
       " (54.663074, -3.522876),\n",
       " (54.649775, -3.221072),\n",
       " (54.909653, -3.206775),\n",
       " (54.614834, -3.556228),\n",
       " (54.644252, -3.554097),\n",
       " (54.79309, -3.141553),\n",
       " (54.846408, -3.038867),\n",
       " (54.645724, -3.558493),\n",
       " (54.604568, -3.109024),\n",
       " (54.666044, -3.418943),\n",
       " (54.816271, -3.207258),\n",
       " (54.72783, -3.29485),\n",
       " (54.78399, -3.287469),\n",
       " (54.662152, -3.524702),\n",
       " (54.766741, -3.295315),\n",
       " (54.642572, -3.54489),\n",
       " (54.66326, -3.507998),\n",
       " (54.641347, -3.51385),\n",
       " (54.692769, -3.345245),\n",
       " (54.806445, -3.236994),\n",
       " (54.604711, -3.188604),\n",
       " (54.619408, -3.507305),\n",
       " (54.821136, -3.159931),\n",
       " (54.649321, -3.537241),\n",
       " (54.901447, -3.105784),\n",
       " (54.665077, -3.370223),\n",
       " (54.609969, -3.410488),\n",
       " (54.627677, -3.563999),\n",
       " (54.66663, -3.351979),\n",
       " (54.703421, -3.509177),\n",
       " (54.662536, -3.364401),\n",
       " (54.659565, -3.299499),\n",
       " (54.659966, -3.295636),\n",
       " (54.648523, -3.471184),\n",
       " (54.595627, -3.467729),\n",
       " (54.629637, -3.551371),\n",
       " (54.694346, -3.516133),\n",
       " (54.657069, -3.44824),\n",
       " (54.843388, -3.115875),\n",
       " (54.620874, -3.505036),\n",
       " (54.807776, -3.426862),\n",
       " (54.741217, -3.269801),\n",
       " (54.632322, -3.552248),\n",
       " (54.708279, -3.487006),\n",
       " (54.63996, -3.559357),\n",
       " (54.762229, -3.338378),\n",
       " (54.682206, -3.389259),\n",
       " (54.615747, -3.562147),\n",
       " (54.61637, -3.541574),\n",
       " (54.797584, -3.169835),\n",
       " (54.648611, -3.339756),\n",
       " (54.61097, -3.520775),\n",
       " (54.694913, -3.432674),\n",
       " (54.664092, -3.52772),\n",
       " (54.713656, -3.495586),\n",
       " (54.708843, -3.485009),\n",
       " (54.760486, -3.357748),\n",
       " (54.753997, -3.375245),\n",
       " (54.614836, -3.556073),\n",
       " (54.833294, -3.147825),\n",
       " (54.807767, -3.230655),\n",
       " (54.666148, -3.394448),\n",
       " (54.620368, -3.523913),\n",
       " (54.586197, -3.093205),\n",
       " (54.625884, -3.55665),\n",
       " (54.708615, -3.46684),\n",
       " (54.824275, -3.160644),\n",
       " (54.637787, -3.367291),\n",
       " (54.629659, -3.549667),\n",
       " (54.640386, -3.540158),\n",
       " (54.795552, -3.426898),\n",
       " (54.706853, -3.493318),\n",
       " (54.618555, -3.539333),\n",
       " (54.64021, -3.539841),\n",
       " (54.803436, -3.159424),\n",
       " (54.848994, -3.030679),\n",
       " (54.704243, -3.508121),\n",
       " (54.866807, -3.070088),\n",
       " (54.830136, -3.149136),\n",
       " (54.662353, -3.364705),\n",
       " (54.648686, -3.472585),\n",
       " (54.601984, -3.116384),\n",
       " (54.640602, -3.54435),\n",
       " (54.648854, -3.517229),\n",
       " (54.76572, -3.331499),\n",
       " (54.677512, -3.383205),\n",
       " (54.848483, -3.06898),\n",
       " (54.698753, -3.419464),\n",
       " (54.644512, -3.554882),\n",
       " (54.590456, -3.44928),\n",
       " (54.745261, -3.400428),\n",
       " (54.768574, -3.231486),\n",
       " (54.644318, -3.548985),\n",
       " (54.753903, -3.335462),\n",
       " (54.834941, -3.135104),\n",
       " (54.686837, -3.400742),\n",
       " (54.614153, -3.510672),\n",
       " (54.708279, -3.487006),\n",
       " (54.629992, -3.551694),\n",
       " (54.686579, -3.399802),\n",
       " (54.793723, -3.009363),\n",
       " (54.8487, -3.094996),\n",
       " (54.640298, -3.54),\n",
       " (54.666242, -3.4174),\n",
       " (54.666483, -3.39663),\n",
       " (54.649639, -3.533378),\n",
       " (54.754223, -3.25498),\n",
       " (54.627755, -3.203217),\n",
       " (54.601945, -3.139759),\n",
       " (54.845793, -3.058007),\n",
       " (54.671184, -3.432769),\n",
       " (54.680689, -3.486773),\n",
       " (54.693882, -3.428604),\n",
       " (54.775997, -3.022603),\n",
       " (54.615842, -3.561687),\n",
       " (54.631438, -3.565073),\n",
       " (54.620939, -3.528581),\n",
       " (54.736466, -3.422491),\n",
       " (54.709729, -3.478677),\n",
       " (54.644829, -3.41154),\n",
       " (54.694913, -3.432674),\n",
       " (54.741127, -3.269798),\n",
       " (54.658788, -3.377918),\n",
       " (54.613722, -3.516386),\n",
       " (54.870171, -3.38621),\n",
       " (54.659094, -3.436685),\n",
       " (54.646123, -3.555408),\n",
       " (54.767047, -3.231439),\n",
       " (54.60867, -3.525024),\n",
       " (54.642654, -3.545513),\n",
       " (54.839575, -3.283476),\n",
       " (54.620939, -3.528581),\n",
       " (54.640751, -3.553808),\n",
       " (54.643413, -3.549416),\n",
       " (54.845277, -3.055346),\n",
       " (54.719145, -3.308546),\n",
       " (54.603812, -3.141978),\n",
       " (54.848414, -3.066642),\n",
       " (54.646444, -3.551391),\n",
       " (54.608893, -3.237653),\n",
       " (54.607641, -3.126603),\n",
       " (54.639005, -3.549713),\n",
       " (54.898457, -3.078412),\n",
       " (54.658922, -3.381953),\n",
       " (54.653267, -3.373391),\n",
       " (54.714193, -3.495761),\n",
       " (54.823024, -3.15983),\n",
       " (54.665734, -3.422344),\n",
       " (54.604853, -3.107328),\n",
       " (54.627904, -3.56029),\n",
       " (54.690253, -3.408462),\n",
       " (54.67451, -3.37845),\n",
       " (54.642411, -3.543489),\n",
       " (54.710142, -3.503528),\n",
       " (54.645015, -3.557691),\n",
       " (54.610089, -3.540717),\n",
       " (54.713019, -3.496183),\n",
       " (54.662653, -3.369987),\n",
       " (54.66785, -3.543213),\n",
       " (54.666366, -3.539745),\n",
       " (54.62452, -3.564807),\n",
       " (54.871684, -3.387509),\n",
       " (54.822758, -3.16885),\n",
       " (54.824806, -3.161438),\n",
       " (54.842844, -3.056061),\n",
       " (54.630621, -3.551718),\n",
       " (54.602739, -3.197216),\n",
       " (54.602504, -3.184514),\n",
       " (54.845839, -3.042279),\n",
       " (54.574534, -3.08098),\n",
       " (54.666413, -3.394922),\n",
       " (54.707746, -3.501111),\n",
       " (54.8083, -3.428126),\n",
       " (54.644252, -3.554097),\n",
       " (54.66785, -3.543213),\n",
       " (54.668623, -3.546033),\n",
       " (54.667257, -3.547377),\n",
       " (54.615435, -3.194801),\n",
       " (54.669351, -3.373779),\n",
       " (54.646678, -3.554189),\n",
       " (54.696226, -3.34148),\n",
       " (54.707208, -3.479051),\n",
       " (54.758083, -3.246708),\n",
       " (54.748637, -3.449642),\n",
       " (54.831228, -3.157107),\n",
       " (54.784207, -3.428676),\n",
       " (54.754404, -3.25483),\n",
       " (54.615798, -3.558123),\n",
       " (54.64266, -3.545048),\n",
       " (54.76462, -3.325245),\n",
       " (54.794955, -3.2088),\n",
       " (54.816533, -3.152485),\n",
       " (54.783327, -3.34856),\n",
       " (54.634449, -3.540553),\n",
       " (54.653694, -3.489352),\n",
       " (54.624184, -3.163924),\n",
       " (54.706457, -3.503547),\n",
       " (54.614213, -3.548616),\n",
       " (54.633631, -3.548269),\n",
       " (54.694913, -3.432674),\n",
       " (54.591659, -3.461395),\n",
       " (54.658647, -3.374503),\n",
       " (54.666825, -3.35059),\n",
       " (54.645189, -3.558162),\n",
       " (54.762948, -3.236755),\n",
       " (54.714526, -3.497947),\n",
       " (54.767229, -3.231134),\n",
       " (54.681131, -3.50199),\n",
       " (54.765661, -3.320461),\n",
       " (54.627814, -3.553315),\n",
       " (54.600602, -3.139257),\n",
       " (54.608612, -3.203117),\n",
       " (54.620784, -3.505032),\n",
       " (54.81647, -3.120891),\n",
       " (54.637237, -3.561422),\n",
       " (54.890133, -3.361481),\n",
       " (54.825449, -3.160055),\n",
       " (54.65623, -3.186542),\n",
       " (54.830807, -3.262492),\n",
       " (54.608501, -3.405328),\n",
       " (54.63971, -3.550824),\n",
       " (54.753629, -3.376009),\n",
       " (54.641671, -3.566086),\n",
       " (54.663598, -3.365832),\n",
       " (54.639234, -3.559949),\n",
       " (54.734529, -3.471814),\n",
       " (54.796963, -3.358814),\n",
       " (54.698161, -3.439151),\n",
       " (54.645046, -3.548238),\n",
       " (54.825101, -3.130158),\n",
       " (54.610404, -3.49412),\n",
       " (54.633746, -3.53216),\n",
       " (54.642894, -3.533744),\n",
       " (54.6403, -3.539845),\n",
       " (54.60186, -3.139292),\n",
       " (54.711504, -3.495196),\n",
       " (54.881859, -3.075319),\n",
       " (54.605503, -3.162617),\n",
       " (54.621747, -3.314247),\n",
       " (54.832004, -3.414794),\n",
       " (54.559338, -3.140426),\n",
       " (54.741396, -3.269807),\n",
       " (54.906629, -3.203566),\n",
       " (54.766579, -3.301994),\n",
       " (54.513169, -3.1844),\n",
       " (54.706396, -3.493922),\n",
       " (54.741611, -3.308804),\n",
       " (54.82776, -3.153272),\n",
       " (54.827521, -3.196541),\n",
       " (54.714615, -3.49795),\n",
       " (54.63131, -3.56104),\n",
       " (54.611143, -3.45559),\n",
       " (54.685774, -3.475169),\n",
       " (54.66873, -3.340884),\n",
       " (54.822686, -3.16698),\n",
       " (54.610935, -3.090771),\n",
       " (54.642498, -3.543647),\n",
       " (54.650237, -3.549985),\n",
       " (54.587942, -3.306968),\n",
       " (54.708619, -3.481275),\n",
       " (54.661997, -3.23012),\n",
       " (54.720477, -3.481708),\n",
       " (54.833727, -3.140052),\n",
       " (54.714654, -3.494846),\n",
       " (54.797071, -3.365196),\n",
       " (54.61053, -3.541353),\n",
       " (54.766747, -3.303087)]"
      ]
     },
     "execution_count": 72,
     "metadata": {},
     "output_type": "execute_result"
    }
   ],
   "source": [
    "locations"
   ]
  },
  {
   "cell_type": "markdown",
   "id": "c1c147d2-8f12-4e2f-825f-c826f847d9b4",
   "metadata": {},
   "source": [
    "<h2>SOUTH KESTEVEN SLIGHT RECORDS</h2>\n",
    "<hr>\n",
    "<br>\n",
    "<img src='https://encrypted-tbn0.gstatic.com/images?q=tbn:ANd9GcReD96d9smP9Dwj5vdCi1ugSq6lBtY6UFMAYxwXPY6lgR2McB3yUzFomHbs8Tce2qwXQzM&usqp=CAU'>\n",
    "<hr>"
   ]
  },
  {
   "cell_type": "code",
   "execution_count": 73,
   "id": "e1e70887-8328-4c21-a1f1-2fc4ae401ea3",
   "metadata": {},
   "outputs": [],
   "source": [
    "southkesteven_accident = accident[accident['District Area']== 'South Kesteven']"
   ]
  },
  {
   "cell_type": "code",
   "execution_count": 74,
   "id": "ca1a44fa-633c-4db4-a915-8d63410aad08",
   "metadata": {},
   "outputs": [],
   "source": [
    "southkesteven_slight = southkesteven_accident[southkesteven_accident['Accident_Severity'] == 'Slight']"
   ]
  },
  {
   "cell_type": "code",
   "execution_count": 75,
   "id": "ceb066bd-9fd3-4a30-9032-cf2b29bf7d1b",
   "metadata": {},
   "outputs": [
    {
     "data": {
      "text/html": [
       "<div style=\"width:100%;\"><div style=\"position:relative;width:100%;height:0;padding-bottom:60%;\"><span style=\"color:#565656\">Make this Notebook Trusted to load map: File -> Trust Notebook</span><iframe srcdoc=\"&lt;!DOCTYPE html&gt;\n",
       "&lt;html&gt;\n",
       "&lt;head&gt;\n",
       "    \n",
       "    &lt;meta http-equiv=&quot;content-type&quot; content=&quot;text/html; charset=UTF-8&quot; /&gt;\n",
       "    &lt;script src=&quot;https://cdn.jsdelivr.net/npm/leaflet@1.9.3/dist/leaflet.js&quot;&gt;&lt;/script&gt;\n",
       "    &lt;script src=&quot;https://code.jquery.com/jquery-3.7.1.min.js&quot;&gt;&lt;/script&gt;\n",
       "    &lt;script src=&quot;https://cdn.jsdelivr.net/npm/bootstrap@5.2.2/dist/js/bootstrap.bundle.min.js&quot;&gt;&lt;/script&gt;\n",
       "    &lt;script src=&quot;https://cdnjs.cloudflare.com/ajax/libs/Leaflet.awesome-markers/2.0.2/leaflet.awesome-markers.js&quot;&gt;&lt;/script&gt;\n",
       "    &lt;link rel=&quot;stylesheet&quot; href=&quot;https://cdn.jsdelivr.net/npm/leaflet@1.9.3/dist/leaflet.css&quot;/&gt;\n",
       "    &lt;link rel=&quot;stylesheet&quot; href=&quot;https://cdn.jsdelivr.net/npm/bootstrap@5.2.2/dist/css/bootstrap.min.css&quot;/&gt;\n",
       "    &lt;link rel=&quot;stylesheet&quot; href=&quot;https://netdna.bootstrapcdn.com/bootstrap/3.0.0/css/bootstrap-glyphicons.css&quot;/&gt;\n",
       "    &lt;link rel=&quot;stylesheet&quot; href=&quot;https://cdn.jsdelivr.net/npm/@fortawesome/fontawesome-free@6.2.0/css/all.min.css&quot;/&gt;\n",
       "    &lt;link rel=&quot;stylesheet&quot; href=&quot;https://cdnjs.cloudflare.com/ajax/libs/Leaflet.awesome-markers/2.0.2/leaflet.awesome-markers.css&quot;/&gt;\n",
       "    &lt;link rel=&quot;stylesheet&quot; href=&quot;https://cdn.jsdelivr.net/gh/python-visualization/folium/folium/templates/leaflet.awesome.rotate.min.css&quot;/&gt;\n",
       "    \n",
       "            &lt;meta name=&quot;viewport&quot; content=&quot;width=device-width,\n",
       "                initial-scale=1.0, maximum-scale=1.0, user-scalable=no&quot; /&gt;\n",
       "            &lt;style&gt;\n",
       "                #map_9b1e3046d8d33d8ab47a8cb80d6655bf {\n",
       "                    position: relative;\n",
       "                    width: 100.0%;\n",
       "                    height: 100.0%;\n",
       "                    left: 0.0%;\n",
       "                    top: 0.0%;\n",
       "                }\n",
       "                .leaflet-container { font-size: 1rem; }\n",
       "            &lt;/style&gt;\n",
       "\n",
       "            &lt;style&gt;html, body {\n",
       "                width: 100%;\n",
       "                height: 100%;\n",
       "                margin: 0;\n",
       "                padding: 0;\n",
       "            }\n",
       "            &lt;/style&gt;\n",
       "\n",
       "            &lt;style&gt;#map {\n",
       "                position:absolute;\n",
       "                top:0;\n",
       "                bottom:0;\n",
       "                right:0;\n",
       "                left:0;\n",
       "                }\n",
       "            &lt;/style&gt;\n",
       "\n",
       "            &lt;script&gt;\n",
       "                L_NO_TOUCH = false;\n",
       "                L_DISABLE_3D = false;\n",
       "            &lt;/script&gt;\n",
       "\n",
       "        \n",
       "    &lt;script src=&quot;https://cdn.jsdelivr.net/gh/python-visualization/folium@main/folium/templates/leaflet_heat.min.js&quot;&gt;&lt;/script&gt;\n",
       "&lt;/head&gt;\n",
       "&lt;body&gt;\n",
       "    \n",
       "    \n",
       "            &lt;div class=&quot;folium-map&quot; id=&quot;map_9b1e3046d8d33d8ab47a8cb80d6655bf&quot; &gt;&lt;/div&gt;\n",
       "        \n",
       "&lt;/body&gt;\n",
       "&lt;script&gt;\n",
       "    \n",
       "    \n",
       "            var map_9b1e3046d8d33d8ab47a8cb80d6655bf = L.map(\n",
       "                &quot;map_9b1e3046d8d33d8ab47a8cb80d6655bf&quot;,\n",
       "                {\n",
       "                    center: [52.84112841851568, -0.5496920535577658],\n",
       "                    crs: L.CRS.EPSG3857,\n",
       "                    ...{\n",
       "  &quot;zoom&quot;: 10,\n",
       "  &quot;zoomControl&quot;: true,\n",
       "  &quot;preferCanvas&quot;: false,\n",
       "}\n",
       "\n",
       "                }\n",
       "            );\n",
       "\n",
       "            \n",
       "\n",
       "        \n",
       "    \n",
       "            var tile_layer_03554d9f3c5b4f54c594f294371158b4 = L.tileLayer(\n",
       "                &quot;https://tile.openstreetmap.org/{z}/{x}/{y}.png&quot;,\n",
       "                {\n",
       "  &quot;minZoom&quot;: 0,\n",
       "  &quot;maxZoom&quot;: 19,\n",
       "  &quot;maxNativeZoom&quot;: 19,\n",
       "  &quot;noWrap&quot;: false,\n",
       "  &quot;attribution&quot;: &quot;\\u0026copy; \\u003ca href=\\&quot;https://www.openstreetmap.org/copyright\\&quot;\\u003eOpenStreetMap\\u003c/a\\u003e contributors&quot;,\n",
       "  &quot;subdomains&quot;: &quot;abc&quot;,\n",
       "  &quot;detectRetina&quot;: false,\n",
       "  &quot;tms&quot;: false,\n",
       "  &quot;opacity&quot;: 1,\n",
       "}\n",
       "\n",
       "            );\n",
       "        \n",
       "    \n",
       "            tile_layer_03554d9f3c5b4f54c594f294371158b4.addTo(map_9b1e3046d8d33d8ab47a8cb80d6655bf);\n",
       "        \n",
       "    \n",
       "            var heat_map_9295e4cde4f10940e60d52434c8ba9a1 = L.heatLayer(\n",
       "                [[54.632981, -3.549949], [54.783012, -3.104105], [54.732876, -3.437275], [54.743031, -3.40672], [54.639744, -3.483574], [54.797761, -3.359775], [54.639488, -3.547097], [54.628036, -3.557042], [54.599308, -3.133493], [54.643915, -3.552379], [54.606049, -3.104265], [54.606308, -3.115264], [54.704243, -3.508121], [54.709773, -3.452756], [54.846422, -3.175296], [54.92809, -3.149742], [54.76413, -3.32896], [54.734766, -3.276433], [54.831224, -3.079577], [54.810246, -3.286281], [54.711207, -3.497358], [54.65708, -3.227491], [54.708485, -3.499431], [54.644785, -3.547608], [54.637511, -3.55415], [54.643107, -3.531117], [54.715076, -3.497035], [54.735425, -3.426959], [54.723765, -3.013835], [54.843566, -3.116036], [54.68318, -3.390533], [54.663164, -3.522879], [54.604623, -3.188446], [54.640975, -3.543279], [54.605409, -3.163079], [54.709704, -3.480694], [54.687621, -3.402941], [54.68719, -3.469635], [54.638603, -3.382504], [54.849437, -3.102959], [54.642231, -3.543482], [54.625059, -3.564828], [54.639052, -3.560097], [54.71448, -3.494374], [54.637696, -3.553692], [54.641408, -3.332701], [54.622581, -3.400237], [54.609845, -3.140754], [54.752958, -3.088215], [54.840627, -3.06301], [54.704333, -3.508125], [54.573542, -3.071208], [54.651199, -3.222509], [54.712566, -3.496477], [54.865285, -3.365318], [54.767502, -3.230831], [54.6636, -3.365677], [54.768929, -3.02942], [54.721335, -3.305512], [54.830641, -3.053874], [54.666061, -3.484998], [54.633434, -3.5636], [54.610334, -3.410036], [54.610173, -3.541185], [54.821079, -3.108256], [54.666546, -3.525487], [54.507451, -3.044149], [54.742294, -3.408248], [54.64265, -3.545822], [54.604862, -3.144949], [54.763638, -3.332829], [54.625237, -3.56499], [54.712563, -3.489491], [54.848471, -3.090473], [54.60713, -3.189448], [54.64886, -3.516764], [54.640315, -3.566654], [54.622664, -3.555442], [54.715158, -3.497659], [54.718807, -3.485994], [54.660122, -3.43331], [54.707379, -3.501719], [54.801703, -3.162019], [54.595869, -3.056626], [54.666147, -3.394603], [54.610355, -3.541037], [54.604961, -3.53402], [54.64012, -3.539838], [54.812852, -3.170898], [54.643586, -3.542913], [54.770343, -3.430675], [54.714017, -3.495444], [54.686153, -3.473631], [54.611043, -3.45636], [54.829486, -3.206874], [54.719529, -3.478413], [54.637327, -3.554453], [54.709336, -3.481457], [54.65254, -3.223169], [54.658923, -3.381798], [54.644342, -3.5541], [54.642862, -3.543351], [54.865082, -3.072068], [54.830601, -3.2122], [54.784807, -3.286717], [54.640409, -3.559374], [54.829368, -3.065828], [54.664276, -3.361514], [54.64343, -3.541048], [54.605499, -3.190794], [54.635628, -3.56074], [54.640242, -3.565411], [54.637501, -3.561897], [54.734202, -3.34522], [54.736862, -3.332261], [54.822934, -3.159827], [54.838327, -3.069023], [54.664027, -3.359645], [54.681083, -3.461814], [54.816899, -3.422982], [54.64265, -3.545822], [54.707582, -3.463077], [54.64257, -3.545044], [54.663584, -3.52522], [54.672908, -3.199589], [54.772237, -3.43012], [54.842936, -3.116174], [54.713994, -3.497306], [54.927504, -3.1452], [54.554092, -3.143991], [54.60894, -3.525034], [54.647915, -3.520449], [54.643496, -3.54291], [54.640098, -3.329249], [54.730354, -3.445262], [54.690617, -3.519718], [54.76968, -3.314529], [54.660589, -3.304493], [54.66392, -3.361192], [54.904789, -3.18963], [54.76402, -3.330821], [54.893343, -3.183679], [54.787872, -3.343891], [54.602073, -3.116387], [54.668988, -3.545582], [54.608674, -3.524715], [54.797533, -3.264566], [54.734482, -3.277822], [54.618839, -3.566293], [54.652808, -3.223332], [54.713019, -3.496183], [54.782824, -3.199575], [54.663811, -3.362893], [54.707012, -3.502326], [54.690726, -3.51817], [54.762749, -3.307155], [54.633827, -3.560981], [54.780859, -3.336039], [54.641849, -3.538199], [54.760589, -3.332263], [54.606221, -3.114952], [54.845363, -3.055815], [54.618674, -3.508517], [54.643494, -3.543065], [54.734861, -3.27597], [54.528532, -3.048705], [54.637525, -3.187701], [54.848064, -3.085789], [54.605497, -3.163236], [54.648858, -3.516919], [54.693352, -3.516562], [54.786315, -3.191903], [54.638808, -3.5511], [54.642648, -3.545977], [54.571783, -3.066831], [54.71465, -3.495157], [54.58752, -3.321037], [54.755017, -3.372482], [54.847524, -3.034379], [54.67381, -3.199306], [54.662586, -3.367969], [54.662226, -3.277414], [54.763918, -3.331906], [54.823114, -3.159832], [54.76572, -3.331499], [54.836425, -3.130163], [54.648594, -3.537833], [54.661837, -3.280192], [54.65982, -3.428493], [54.618304, -3.558993], [54.643244, -3.548634], [54.661969, -3.525005], [54.603906, -3.188271], [54.678816, -3.455994], [54.638595, -3.539625], [54.641422, -3.557553], [54.737607, -3.271242], [54.644921, -3.557997], [54.747219, -3.394281], [54.616142, -3.559375], [54.710393, -3.497794], [54.849089, -3.101703], [54.674702, -3.377371], [54.614748, -3.555915], [54.753071, -3.3777], [54.601711, -3.136037], [54.720787, -3.30627], [54.831262, -3.075219], [54.640389, -3.55395], [54.653355, -3.373549], [54.643586, -3.542913], [54.604332, -3.144006], [54.850734, -3.026829], [54.607129, -3.547263], [54.623259, -3.565069], [54.612072, -3.518957], [54.625678, -3.551685], [54.738285, -3.412924], [54.661964, -3.188414], [54.615557, -3.541853], [54.848782, -3.095932], [54.76462, -3.325245], [54.833201, -3.148133], [54.645017, -3.557536], [54.699076, -3.422579], [54.651067, -3.416096], [54.667831, -3.516231], [54.759554, -3.360669], [54.764133, -3.328649], [54.641065, -3.543283], [54.68727, -3.402153], [54.642379, -3.545967], [54.642644, -3.546287], [54.641697, -3.557099], [54.638422, -3.382652], [54.754089, -3.375093], [54.82563, -3.159905], [54.713608, -3.492169], [54.824715, -3.161591], [54.714613, -3.498105], [54.784242, -3.347036], [54.833947, -3.09662], [54.81025, -3.122897], [54.700764, -3.476799], [54.644162, -3.554093], [54.704827, -3.391739], [54.644531, -3.546359], [54.662265, -3.290748], [54.651347, -3.490197], [54.622302, -3.527393], [54.624415, -3.566042], [54.600321, -3.13089], [54.649953, -3.508435], [54.650381, -3.488301], [54.644935, -3.556913], [54.788313, -3.189784], [54.851467, -3.314384], [54.627924, -3.558741], [54.653845, -3.462231], [54.708573, -3.49959], [54.711271, -3.43263], [54.706788, -3.484003], [54.845015, -3.11483], [54.637511, -3.561122], [54.672123, -3.374958], [54.709028, -3.499141], [54.623506, -3.397946], [54.638096, -3.323296], [54.709147, -3.489521], [54.630871, -3.560248], [54.710668, -3.504634], [54.639109, -3.548632], [54.775997, -3.022603], [54.618665, -3.558852], [54.652985, -3.223648], [54.704241, -3.508277], [54.691225, -3.219368], [54.85229, -3.023442], [54.904767, -3.145178], [54.798768, -3.091001], [54.675564, -3.380657], [54.833728, -3.139897], [54.645103, -3.557849], [54.652778, -3.533961], [54.660308, -3.432851], [54.643785, -3.217948], [54.645042, -3.548548], [54.767501, -3.230987], [54.756957, -3.335562], [54.846113, -3.11268], [54.663633, -3.271876], [54.611042, -3.456515], [54.606205, -3.535151], [54.748341, -3.05127], [54.639106, -3.555915], [54.664766, -3.231754], [54.606998, -3.118379], [54.806248, -3.147214], [54.767047, -3.231439], [54.620011, -3.559058], [54.738296, -3.332618], [54.723932, -3.463666], [54.829454, -3.164062], [54.644078, -3.546651], [54.834657, -3.136653], [54.706541, -3.459936], [54.639107, -3.548787], [54.711253, -3.486339], [54.637415, -3.561584], [54.631444, -3.564608], [54.627603, -3.555786], [54.798381, -3.021924], [54.860299, -3.384936], [54.718058, -3.495748], [54.735514, -3.273661], [54.602151, -3.136978], [54.623131, -3.399327], [54.684688, -3.468459], [54.750379, -3.385222], [54.843476, -3.116033], [54.634794, -3.562723], [54.827046, -3.162125], [54.845933, -3.041814], [54.668372, -3.2483], [54.60681, -3.148101], [54.712838, -3.496332], [54.629228, -3.555228], [54.666242, -3.4174], [54.772033, -3.244805], [54.644252, -3.554097], [54.785263, -3.28611], [54.62919, -3.551199], [54.625155, -3.564367], [54.64265, -3.545822], [54.864235, -3.36279], [54.640296, -3.540154], [54.642869, -3.528629], [54.705618, -3.49141], [54.667351, -3.407049], [54.61433, -3.546452], [54.844726, -3.289246], [54.610355, -3.541037], [54.826928, -3.155739], [54.603858, -3.117829], [54.624518, -3.564962], [54.550381, -3.057923], [54.642411, -3.543489], [54.661714, -3.357552], [54.615832, -3.562461], [54.642434, -3.555732], [54.648531, -3.470565], [54.757876, -3.333728], [54.609824, -3.084393], [54.830683, -3.212981], [54.606449, -3.148245], [54.661022, -3.297685], [54.663434, -3.364431], [54.715751, -3.500631], [54.604387, -3.118927], [54.643329, -3.548948], [54.631432, -3.551594], [54.526694, -3.251391], [54.819968, -3.159898], [54.636031, -3.536275], [54.80763, -3.143674], [54.663591, -3.366452], [54.848182, -3.082677], [54.67381, -3.199306], [54.635245, -3.562585], [54.591568, -3.385089], [54.652911, -3.373069], [54.601472, -3.132779], [54.602699, -3.116713], [54.661849, -3.279107], [54.698115, -3.458081], [54.715659, -3.500783], [54.783989, -3.287625], [54.636696, -3.561556], [54.844487, -3.303255], [54.715569, -3.500779], [54.764698, -3.051228], [54.674607, -3.377833], [54.618934, -3.308426], [54.738377, -3.412772], [54.623159, -3.558869], [54.61153, -3.260805], [54.661877, -3.525156], [54.661872, -3.553839], [54.688056, -3.404197], [54.648496, -3.552554], [54.643755, -3.550823], [54.66243, -3.365793], [54.645015, -3.557691], [54.637821, -3.356291], [54.60949, -3.140279], [54.616597, -3.516493], [54.765379, -3.32154], [54.661654, -3.280496], [54.673959, -3.379517], [54.619574, -3.558112], [54.631855, -3.560596], [54.848829, -3.08067], [54.915107, -3.245161], [54.709682, -3.482556], [54.635853, -3.536113], [54.65708, -3.227491], [54.656008, -3.226839], [54.784534, -3.28702], [54.601993, -3.181713], [54.615824, -3.56308], [54.644185, -3.531158], [54.875316, -3.384205], [54.848064, -3.085789], [54.791139, -3.435297], [54.855939, -3.388993], [54.660225, -3.424632], [54.640294, -3.540309], [54.718616, -3.486919], [54.601983, -3.126137], [54.652718, -3.22333], [54.708571, -3.499745], [54.642753, -3.537768], [54.610355, -3.541037], [54.765379, -3.32154], [54.663192, -3.370005], [54.601621, -3.136035], [54.615063, -3.545396], [54.67558, -3.500235], [54.542287, -3.273046], [54.845183, -3.055811], [54.641743, -3.553536], [54.607111, -3.476813], [54.709682, -3.482556], [54.663493, -3.367224], [54.662152, -3.524702], [54.639144, -3.559945], [54.639398, -3.547094], [54.706654, -3.494863], [54.656206, -3.554088], [54.825824, -3.158354], [54.714837, -3.494543], [54.659785, -3.36927], [54.635952, -3.556569], [54.813234, -3.130605], [54.635866, -3.556256], [54.598071, -3.421068], [54.6055, -3.162927], [54.602851, -3.167341], [54.829451, -3.164373], [54.822001, -3.105791], [54.654422, -3.29298], [54.648243, -3.442191], [54.643676, -3.542917], [54.588559, -3.45757], [54.822782, -3.16636], [54.59904, -3.133331], [54.605497, -3.163236], [54.613504, -3.199235], [54.886082, -3.209189], [54.768339, -3.003291], [54.842936, -3.116174], [54.640405, -3.566657], [54.643234, -3.549409], [54.643133, -3.543206], [54.644397, -3.378826], [54.673111, -3.241932], [54.695311, -3.414068], [54.845183, -3.055811], [54.83646, -3.076914], [54.668373, -3.434841], [54.849043, -3.096874], [54.617048, -3.565759], [54.800397, -3.212852], [54.719746, -3.475315], [54.614203, -3.563327], [54.602103, -3.122889], [54.641383, -3.553523], [54.665743, -3.421569], [54.665266, -3.393022], [54.632049, -3.531322], [54.784517, -3.346578], [54.694254, -3.412169], [54.66642, -3.394302], [54.777698, -3.023424], [54.659868, -3.432061], [54.614367, -3.550635], [54.714654, -3.494846], [54.652744, -3.371978], [54.689335, -3.470644], [54.799141, -3.166768], [54.837926, -3.073683], [54.748372, -3.193585], [54.777708, -3.207975], [54.6425, -3.543492], [54.696648, -3.161343], [54.79258, -3.274055], [54.714506, -3.499498], [54.608309, -3.525166], [54.640229, -3.381784], [54.711322, -3.443498], [54.781384, -3.361557], [54.753812, -3.375705], [54.661411, -3.36855], [54.730387, -3.372892], [54.840826, -3.050402], [54.796743, -3.154411], [54.837714, -3.12693], [54.678834, -3.534633], [54.642502, -3.543337], [54.623979, -3.564941], [54.575851, -3.084419], [54.710033, -3.505077], [54.576743, -3.085216], [54.76572, -3.331499], [54.634274, -3.207438], [54.636029, -3.536429], [54.860569, -3.384946], [54.617024, -3.511089], [54.640977, -3.543124], [54.646099, -3.557267], [54.809086, -3.224627], [54.641364, -3.555071], [54.79854, -3.086328], [54.71684, -3.49974], [54.708573, -3.49959], [54.673898, -3.199463], [54.618479, -3.566279], [54.715355, -3.318204], [54.83475, -3.136344], [54.714107, -3.495447], [54.663074, -3.522876], [54.828938, -3.152216], [54.63128, -3.556391], [54.614203, -3.54939], [54.646117, -3.484271], [54.665643, -3.422496], [54.678834, -3.534633], [54.660067, -3.430362], [54.830598, -3.212512], [54.831314, -3.079579], [54.695393, -3.414692], [54.631063, -3.53113], [54.607094, -3.14656], [54.659668, -3.298262], [54.663584, -3.367072], [54.708021, -3.500656], [54.754087, -3.375248], [54.687164, -3.522692], [54.623349, -3.565072], [54.718803, -3.486305], [54.599102, -3.136274], [54.713736, -3.496365], [54.841979, -3.285577], [54.813234, -3.130605], [54.843874, -3.05126], [54.824624, -3.161744], [54.715158, -3.497659], [54.704637, -3.384749], [54.820694, -3.149646], [54.786574, -3.192999], [54.668276, -3.357461], [54.64581, -3.558806], [54.646388, -3.520392], [54.806616, -3.14629], [54.617225, -3.404854], [54.950485, -3.19457], [54.653962, -3.224762], [54.639234, -3.559949], [54.567035, -3.134299], [54.768694, -3.228536], [54.609321, -3.139191], [54.715793, -3.497217], [54.824862, -3.097464], [54.625419, -3.564842], [54.803616, -3.15943], [54.644745, -3.529474], [54.687665, -3.46748], [54.645246, -3.55367], [54.635183, -3.567386], [54.663294, -3.368923], [54.644462, -3.530548], [54.712127, -3.488389], [54.675951, -3.499318], [54.822844, -3.159825], [54.641868, -3.543778], [54.844488, -3.3031], [54.639146, -3.538716], [54.760448, -3.353084], [54.63833, -3.382804], [54.641069, -3.542973], [54.565591, -3.055533], [54.830593, -3.212979], [54.603623, -3.533196], [54.790251, -3.348169], [54.824624, -3.161744], [54.640407, -3.559529], [54.868092, -3.387229], [54.640468, -3.540781], [54.820723, -3.184044], [54.683416, -3.52767], [54.817649, -3.204186], [54.62587, -3.564704], [54.622901, -3.501083], [54.561712, -3.057134], [54.729873, -3.362625], [54.557583, -3.227903], [54.644531, -3.474295], [54.824532, -3.161897], [54.766215, -3.31908], [54.836186, -3.077374], [54.605108, -3.108884], [54.640751, -3.553808], [54.724774, -3.460902], [54.70723, -3.462444], [54.603148, -3.126479], [54.630752, -3.541498], [54.800577, -3.212857], [54.624211, -3.553952], [54.668265, -3.436388], [54.704221, -3.451006], [54.645011, -3.558], [54.756337, -3.437018], [54.708279, -3.487006], [54.575497, -3.302547], [54.715389, -3.500773], [54.599796, -3.138925], [54.666064, -3.549348], [54.644835, -3.529478], [54.705255, -3.454768], [54.673811, -3.199151], [54.661656, -3.280341], [54.788848, -3.345012], [54.784265, -3.287011], [54.627885, -3.384464], [54.663537, -3.371257], [54.908912, -3.208937], [54.637897, -3.545022], [54.897406, -3.095537], [54.666148, -3.394448], [54.624803, -3.165026], [54.822846, -3.159669], [54.84802, -3.37408], [54.662536, -3.364401], [54.673144, -3.26473], [54.653003, -3.372917], [54.611795, -3.519566], [54.7766, -3.210896], [54.874043, -3.385564], [54.732876, -3.437275], [54.643978, -3.547423], [54.638975, -3.21362], [54.777916, -3.333921], [54.541348, -3.276881], [54.776707, -3.023709], [54.75303, -3.316631], [54.601276, -3.134477], [54.605591, -3.162774], [54.516785, -3.045623], [54.668318, -3.244732], [54.553911, -3.14414], [54.737399, -3.332434], [54.674866, -3.378773], [54.763505, -3.064407], [54.662626, -3.364404], [54.601564, -3.14207], [54.804629, -3.247518], [54.642409, -3.543644], [54.67073, -3.314277], [54.809228, -3.371052], [54.628495, -3.556285], [54.798021, -3.021915], [54.780384, -3.200902], [54.644336, -3.554565], [54.690921, -3.389557], [54.622805, -3.501545], [54.70903, -3.498986], [54.824718, -3.161279], [54.684844, -3.219332], [54.660893, -3.366672], [54.689253, -3.520908], [54.63988, -3.551606], [54.581201, -3.166257], [54.642592, -3.543341], [54.822305, -3.159809], [54.664029, -3.35949], [54.623442, -3.529604], [54.663811, -3.362893], [54.683182, -3.390378], [54.741576, -3.269812], [54.752858, -3.0893], [54.738124, -3.411365], [54.738269, -3.414322], [54.599268, -3.118477], [54.708279, -3.487006], [54.663074, -3.522876], [54.649775, -3.221072], [54.909653, -3.206775], [54.614834, -3.556228], [54.644252, -3.554097], [54.79309, -3.141553], [54.846408, -3.038867], [54.645724, -3.558493], [54.604568, -3.109024], [54.666044, -3.418943], [54.816271, -3.207258], [54.72783, -3.29485], [54.78399, -3.287469], [54.662152, -3.524702], [54.766741, -3.295315], [54.642572, -3.54489], [54.66326, -3.507998], [54.641347, -3.51385], [54.692769, -3.345245], [54.806445, -3.236994], [54.604711, -3.188604], [54.619408, -3.507305], [54.821136, -3.159931], [54.649321, -3.537241], [54.901447, -3.105784], [54.665077, -3.370223], [54.609969, -3.410488], [54.627677, -3.563999], [54.66663, -3.351979], [54.703421, -3.509177], [54.662536, -3.364401], [54.659565, -3.299499], [54.659966, -3.295636], [54.648523, -3.471184], [54.595627, -3.467729], [54.629637, -3.551371], [54.694346, -3.516133], [54.657069, -3.44824], [54.843388, -3.115875], [54.620874, -3.505036], [54.807776, -3.426862], [54.741217, -3.269801], [54.632322, -3.552248], [54.708279, -3.487006], [54.63996, -3.559357], [54.762229, -3.338378], [54.682206, -3.389259], [54.615747, -3.562147], [54.61637, -3.541574], [54.797584, -3.169835], [54.648611, -3.339756], [54.61097, -3.520775], [54.694913, -3.432674], [54.664092, -3.52772], [54.713656, -3.495586], [54.708843, -3.485009], [54.760486, -3.357748], [54.753997, -3.375245], [54.614836, -3.556073], [54.833294, -3.147825], [54.807767, -3.230655], [54.666148, -3.394448], [54.620368, -3.523913], [54.586197, -3.093205], [54.625884, -3.55665], [54.708615, -3.46684], [54.824275, -3.160644], [54.637787, -3.367291], [54.629659, -3.549667], [54.640386, -3.540158], [54.795552, -3.426898], [54.706853, -3.493318], [54.618555, -3.539333], [54.64021, -3.539841], [54.803436, -3.159424], [54.848994, -3.030679], [54.704243, -3.508121], [54.866807, -3.070088], [54.830136, -3.149136], [54.662353, -3.364705], [54.648686, -3.472585], [54.601984, -3.116384], [54.640602, -3.54435], [54.648854, -3.517229], [54.76572, -3.331499], [54.677512, -3.383205], [54.848483, -3.06898], [54.698753, -3.419464], [54.644512, -3.554882], [54.590456, -3.44928], [54.745261, -3.400428], [54.768574, -3.231486], [54.644318, -3.548985], [54.753903, -3.335462], [54.834941, -3.135104], [54.686837, -3.400742], [54.614153, -3.510672], [54.708279, -3.487006], [54.629992, -3.551694], [54.686579, -3.399802], [54.793723, -3.009363], [54.8487, -3.094996], [54.640298, -3.54], [54.666242, -3.4174], [54.666483, -3.39663], [54.649639, -3.533378], [54.754223, -3.25498], [54.627755, -3.203217], [54.601945, -3.139759], [54.845793, -3.058007], [54.671184, -3.432769], [54.680689, -3.486773], [54.693882, -3.428604], [54.775997, -3.022603], [54.615842, -3.561687], [54.631438, -3.565073], [54.620939, -3.528581], [54.736466, -3.422491], [54.709729, -3.478677], [54.644829, -3.41154], [54.694913, -3.432674], [54.741127, -3.269798], [54.658788, -3.377918], [54.613722, -3.516386], [54.870171, -3.38621], [54.659094, -3.436685], [54.646123, -3.555408], [54.767047, -3.231439], [54.60867, -3.525024], [54.642654, -3.545513], [54.839575, -3.283476], [54.620939, -3.528581], [54.640751, -3.553808], [54.643413, -3.549416], [54.845277, -3.055346], [54.719145, -3.308546], [54.603812, -3.141978], [54.848414, -3.066642], [54.646444, -3.551391], [54.608893, -3.237653], [54.607641, -3.126603], [54.639005, -3.549713], [54.898457, -3.078412], [54.658922, -3.381953], [54.653267, -3.373391], [54.714193, -3.495761], [54.823024, -3.15983], [54.665734, -3.422344], [54.604853, -3.107328], [54.627904, -3.56029], [54.690253, -3.408462], [54.67451, -3.37845], [54.642411, -3.543489], [54.710142, -3.503528], [54.645015, -3.557691], [54.610089, -3.540717], [54.713019, -3.496183], [54.662653, -3.369987], [54.66785, -3.543213], [54.666366, -3.539745], [54.62452, -3.564807], [54.871684, -3.387509], [54.822758, -3.16885], [54.824806, -3.161438], [54.842844, -3.056061], [54.630621, -3.551718], [54.602739, -3.197216], [54.602504, -3.184514], [54.845839, -3.042279], [54.574534, -3.08098], [54.666413, -3.394922], [54.707746, -3.501111], [54.8083, -3.428126], [54.644252, -3.554097], [54.66785, -3.543213], [54.668623, -3.546033], [54.667257, -3.547377], [54.615435, -3.194801], [54.669351, -3.373779], [54.646678, -3.554189], [54.696226, -3.34148], [54.707208, -3.479051], [54.758083, -3.246708], [54.748637, -3.449642], [54.831228, -3.157107], [54.784207, -3.428676], [54.754404, -3.25483], [54.615798, -3.558123], [54.64266, -3.545048], [54.76462, -3.325245], [54.794955, -3.2088], [54.816533, -3.152485], [54.783327, -3.34856], [54.634449, -3.540553], [54.653694, -3.489352], [54.624184, -3.163924], [54.706457, -3.503547], [54.614213, -3.548616], [54.633631, -3.548269], [54.694913, -3.432674], [54.591659, -3.461395], [54.658647, -3.374503], [54.666825, -3.35059], [54.645189, -3.558162], [54.762948, -3.236755], [54.714526, -3.497947], [54.767229, -3.231134], [54.681131, -3.50199], [54.765661, -3.320461], [54.627814, -3.553315], [54.600602, -3.139257], [54.608612, -3.203117], [54.620784, -3.505032], [54.81647, -3.120891], [54.637237, -3.561422], [54.890133, -3.361481], [54.825449, -3.160055], [54.65623, -3.186542], [54.830807, -3.262492], [54.608501, -3.405328], [54.63971, -3.550824], [54.753629, -3.376009], [54.641671, -3.566086], [54.663598, -3.365832], [54.639234, -3.559949], [54.734529, -3.471814], [54.796963, -3.358814], [54.698161, -3.439151], [54.645046, -3.548238], [54.825101, -3.130158], [54.610404, -3.49412], [54.633746, -3.53216], [54.642894, -3.533744], [54.6403, -3.539845], [54.60186, -3.139292], [54.711504, -3.495196], [54.881859, -3.075319], [54.605503, -3.162617], [54.621747, -3.314247], [54.832004, -3.414794], [54.559338, -3.140426], [54.741396, -3.269807], [54.906629, -3.203566], [54.766579, -3.301994], [54.513169, -3.1844], [54.706396, -3.493922], [54.741611, -3.308804], [54.82776, -3.153272], [54.827521, -3.196541], [54.714615, -3.49795], [54.63131, -3.56104], [54.611143, -3.45559], [54.685774, -3.475169], [54.66873, -3.340884], [54.822686, -3.16698], [54.610935, -3.090771], [54.642498, -3.543647], [54.650237, -3.549985], [54.587942, -3.306968], [54.708619, -3.481275], [54.661997, -3.23012], [54.720477, -3.481708], [54.833727, -3.140052], [54.714654, -3.494846], [54.797071, -3.365196], [54.61053, -3.541353], [54.766747, -3.303087]],\n",
       "                {\n",
       "  &quot;minOpacity&quot;: 0.5,\n",
       "  &quot;maxZoom&quot;: 18,\n",
       "  &quot;radius&quot;: 25,\n",
       "  &quot;blur&quot;: 15,\n",
       "}\n",
       "            );\n",
       "        \n",
       "    \n",
       "            heat_map_9295e4cde4f10940e60d52434c8ba9a1.addTo(map_9b1e3046d8d33d8ab47a8cb80d6655bf);\n",
       "        \n",
       "    \n",
       "            tile_layer_03554d9f3c5b4f54c594f294371158b4.addTo(map_9b1e3046d8d33d8ab47a8cb80d6655bf);\n",
       "        \n",
       "    \n",
       "            heat_map_9295e4cde4f10940e60d52434c8ba9a1.addTo(map_9b1e3046d8d33d8ab47a8cb80d6655bf);\n",
       "        \n",
       "&lt;/script&gt;\n",
       "&lt;/html&gt;\" style=\"position:absolute;width:100%;height:100%;left:0;top:0;border:none !important;\" allowfullscreen webkitallowfullscreen mozallowfullscreen></iframe></div></div>"
      ],
      "text/plain": [
       "<folium.folium.Map at 0x16bfabc3f70>"
      ]
     },
     "execution_count": 75,
     "metadata": {},
     "output_type": "execute_result"
    }
   ],
   "source": [
    "locations2  = list(zip(southkesteven_slight['Latitude'],southkesteven_slight['Longitude']))\n",
    "\n",
    "m = folium.Map(location=[southkesteven_slight['Latitude'].mean(), southkesteven_slight['Longitude'].mean()], zoom_start=10)\n",
    "\n",
    "# Step 3: Add the heatmap layer\n",
    "HeatMap(locations).add_to(m)\n",
    "\n",
    "# Step 4: Save or display the map\n",
    "m.save('accident_heatmap.html')  # Save the map as an HTML file\n",
    "m  # Display the map in a Jupyter Notebook"
   ]
  },
  {
   "cell_type": "code",
   "execution_count": 76,
   "id": "4ad940d1-0a65-423d-ad26-f69184de301c",
   "metadata": {
    "scrolled": true
   },
   "outputs": [
    {
     "data": {
      "text/plain": [
       "[(52.657003, -0.496705),\n",
       " (52.757831, -0.46493),\n",
       " (52.906876, -0.648515),\n",
       " (53.022188, -0.59929),\n",
       " (52.908207, -0.646986),\n",
       " (52.771812, -0.380533),\n",
       " (52.91045, -0.646619),\n",
       " (52.754271, -0.406375),\n",
       " (52.908117, -0.65487),\n",
       " (52.657477, -0.49861),\n",
       " (52.749565, -0.529228),\n",
       " (52.65489, -0.465138),\n",
       " (52.991542, -0.592534),\n",
       " (52.806763, -0.6129),\n",
       " (52.803502, -0.610779),\n",
       " (52.862784, -0.629386),\n",
       " (52.944396, -0.683362),\n",
       " (52.917011, -0.630797),\n",
       " (52.910075, -0.645292),\n",
       " (52.919255, -0.576882),\n",
       " (52.969146, -0.661613),\n",
       " (52.902267, -0.719431),\n",
       " (52.909155, -0.643388),\n",
       " (53.042312, -0.613405),\n",
       " (52.932723, -0.684609),\n",
       " (52.653666, -0.474791),\n",
       " (52.906326, -0.639759),\n",
       " (52.919589, -0.620453),\n",
       " (52.892781, -0.403825),\n",
       " (52.673287, -0.304309),\n",
       " (52.915417, -0.648546),\n",
       " (52.93765, -0.6669),\n",
       " (52.907054, -0.64836),\n",
       " (52.918155, -0.676126),\n",
       " (52.656207, -0.49067),\n",
       " (52.806366, -0.484881),\n",
       " (52.849809, -0.325653),\n",
       " (52.793061, -0.376184),\n",
       " (52.668682, -0.360391),\n",
       " (52.927473, -0.625855),\n",
       " (52.884645, -0.694536),\n",
       " (52.920289, -0.611059),\n",
       " (52.952127, -0.716172),\n",
       " (52.678499, -0.304107),\n",
       " (52.933891, -0.684573),\n",
       " (52.911934, -0.642706),\n",
       " (52.818779, -0.535499),\n",
       " (52.909714, -0.668948),\n",
       " (53.037644, -0.561054),\n",
       " (52.692566, -0.332417),\n",
       " (52.675184, -0.317548),\n",
       " (52.930348, -0.594967),\n",
       " (52.911837, -0.642114),\n",
       " (52.815996, -0.376814),\n",
       " (52.913557, -0.643101),\n",
       " (52.988674, -0.754419),\n",
       " (52.797475, -0.610526),\n",
       " (52.850439, -0.626953),\n",
       " (52.83065, -0.471567),\n",
       " (53.0336, -0.75223),\n",
       " (52.907764, -0.647595),\n",
       " (52.766488, -0.392292),\n",
       " (52.962964, -0.616392),\n",
       " (52.731377, -0.51266),\n",
       " (52.911425, -0.637517),\n",
       " (53.026032, -0.597376),\n",
       " (52.762629, -0.373019),\n",
       " (52.919505, -0.684414),\n",
       " (52.67518, -0.317252),\n",
       " (52.886976, -0.406714),\n",
       " (52.850617, -0.626799),\n",
       " (52.78866, -0.376497),\n",
       " (52.674461, -0.33),\n",
       " (52.898554, -0.612944),\n",
       " (52.85253, -0.605798),\n",
       " (52.829453, -0.631326),\n",
       " (52.786989, -0.628803),\n",
       " (52.679162, -0.312809),\n",
       " (52.910699, -0.676651),\n",
       " (52.73594, -0.489546),\n",
       " (52.850352, -0.486617),\n",
       " (52.782379, -0.611155),\n",
       " (52.890167, -0.714436),\n",
       " (52.917026, -0.578442),\n",
       " (52.915228, -0.624309),\n",
       " (52.653501, -0.482928),\n",
       " (52.687083, -0.326115),\n",
       " (52.654943, -0.49027),\n",
       " (52.656255, -0.480319),\n",
       " (52.685059, -0.272783),\n",
       " (52.649393, -0.471096),\n",
       " (52.786962, -0.611009),\n",
       " (52.951997, -0.616444),\n",
       " (52.663922, -0.380385),\n",
       " (52.915069, -0.665512),\n",
       " (52.878196, -0.632763),\n",
       " (52.916693, -0.658025),\n",
       " (53.016863, -0.659838),\n",
       " (52.799094, -0.610623),\n",
       " (52.951637, -0.616456),\n",
       " (52.972634, -0.776772),\n",
       " (52.731689, -0.425416),\n",
       " (52.759852, -0.653516),\n",
       " (52.909654, -0.671627),\n",
       " (52.771908, -0.31634),\n",
       " (52.767231, -0.387373),\n",
       " (52.921045, -0.606573),\n",
       " (52.653411, -0.482931),\n",
       " (52.658418, -0.473738),\n",
       " (52.909677, -0.665678),\n",
       " (52.9017, -0.651947),\n",
       " (52.904148, -0.630162),\n",
       " (52.892472, -0.341848),\n",
       " (52.653645, -0.480114),\n",
       " (52.656513, -0.479423),\n",
       " (52.771862, -0.294254),\n",
       " (52.934703, -0.684846),\n",
       " (52.87215, -0.630725),\n",
       " (52.670774, -0.29213),\n",
       " (52.909704, -0.668056),\n",
       " (52.863932, -0.604393),\n",
       " (52.91106, -0.668758),\n",
       " (52.77167, -0.376684),\n",
       " (52.899323, -0.656332),\n",
       " (52.659397, -0.466015),\n",
       " (52.895797, -0.592517),\n",
       " (52.92319, -0.692484),\n",
       " (52.652828, -0.479551),\n",
       " (52.904215, -0.635959),\n",
       " (52.652705, -0.48399),\n",
       " (52.659114, -0.514375),\n",
       " (52.705308, -0.362866),\n",
       " (52.979378, -0.538117),\n",
       " (52.647397, -0.476635),\n",
       " (52.91698, -0.643738),\n",
       " (52.910452, -0.646767),\n",
       " (52.901675, -0.649717),\n",
       " (52.825207, -0.62953),\n",
       " (53.024997, -0.65571),\n",
       " (52.949744, -0.67918),\n",
       " (52.916158, -0.626957),\n",
       " (52.85278, -0.627176),\n",
       " (52.688579, -0.317477),\n",
       " (52.912514, -0.66217),\n",
       " (52.952448, -0.616579),\n",
       " (52.676859, -0.386267),\n",
       " (52.916172, -0.545006),\n",
       " (52.652835, -0.473046),\n",
       " (52.659852, -0.487439),\n",
       " (52.916779, -0.318609),\n",
       " (52.818569, -0.615344),\n",
       " (52.654135, -0.476253),\n",
       " (52.894904, -0.342201),\n",
       " (52.82804, -0.383193),\n",
       " (52.890697, -0.594614),\n",
       " (52.91084, -0.641402),\n",
       " (52.911019, -0.633514),\n",
       " (52.929575, -0.725766),\n",
       " (52.653422, -0.469773),\n",
       " (52.904084, -0.586301),\n",
       " (52.915649, -0.645267),\n",
       " (52.919505, -0.684414),\n",
       " (52.918259, -0.677461),\n",
       " (52.651668, -0.480182),\n",
       " (52.769427, -0.377064),\n",
       " (52.651465, -0.478415),\n",
       " (52.883696, -0.698131),\n",
       " (52.915912, -0.644664),\n",
       " (52.747152, -0.41182),\n",
       " (52.789836, -0.610769),\n",
       " (52.65204, -0.481204),\n",
       " (52.939878, -0.62576),\n",
       " (52.934529, -0.629649),\n",
       " (52.918964, -0.636388),\n",
       " (52.949098, -0.677712),\n",
       " (52.915829, -0.645261),\n",
       " (52.652835, -0.473046),\n",
       " (52.997084, -0.582221),\n",
       " (52.901846, -0.648968),\n",
       " (52.768441, -0.377249),\n",
       " (53.001971, -0.762232),\n",
       " (52.901905, -0.662051),\n",
       " (52.993631, -0.764259),\n",
       " (52.879321, -0.70911),\n",
       " (52.659995, -0.491575),\n",
       " (52.932452, -0.684468),\n",
       " (52.655318, -0.49144),\n",
       " (52.765079, -0.401089),\n",
       " (52.896685, -0.591596),\n",
       " (52.932542, -0.684465),\n",
       " (52.80613, -0.612624),\n",
       " (52.6577, -0.453064),\n",
       " (52.832228, -0.532523),\n",
       " (52.826503, -0.498875),\n",
       " (52.811669, -0.402496),\n",
       " (52.896216, -0.659847),\n",
       " (52.726427, -0.428567),\n",
       " (52.922214, -0.629741),\n",
       " (52.895797, -0.592517),\n",
       " (52.896944, -0.598278),\n",
       " (52.766087, -0.369481),\n",
       " (52.663184, -0.359414),\n",
       " (52.911851, -0.581735),\n",
       " (52.919945, -0.612409),\n",
       " (52.68218, -0.316391),\n",
       " (52.678584, -0.316381),\n",
       " (52.910257, -0.645435),\n",
       " (52.908328, -0.634045),\n",
       " (52.895614, -0.670272),\n",
       " (52.916442, -0.651786),\n",
       " (52.919154, -0.606336),\n",
       " (52.866609, -0.697603),\n",
       " (52.659131, -0.487316),\n",
       " (52.91513, -0.647068),\n",
       " (52.911264, -0.555432),\n",
       " (52.670121, -0.360485),\n",
       " (52.957103, -0.686102),\n",
       " (52.888155, -0.686701),\n",
       " (52.678162, -0.305747),\n",
       " (52.682816, -0.31681),\n",
       " (52.647848, -0.476767),\n",
       " (52.904164, -0.6315),\n",
       " (52.929574, -0.725617),\n",
       " (52.934153, -0.567317),\n",
       " (52.652226, -0.426498),\n",
       " (52.652563, -0.479856),\n",
       " (52.726428, -0.428715),\n",
       " (52.90417, -0.671646),\n",
       " (52.898582, -0.532958),\n",
       " (52.972277, -0.68445),\n",
       " (52.850529, -0.62695),\n",
       " (52.793888, -0.529216),\n",
       " (52.945226, -0.621721),\n",
       " (52.907696, -0.641649),\n",
       " (52.806855, -0.613046),\n",
       " (52.663662, -0.381134),\n",
       " (52.653181, -0.471999),\n",
       " (52.924844, -0.655393),\n",
       " (52.909541, -0.645755),\n",
       " (52.916237, -0.641679),\n",
       " (52.897005, -0.634401),\n",
       " (52.768587, -0.361679),\n",
       " (52.917127, -0.680768),\n",
       " (52.912666, -0.643873),\n",
       " (52.910557, -0.648103),\n",
       " (52.91758, -0.610105),\n",
       " (52.90974, -0.663296),\n",
       " (52.909275, -0.646061),\n",
       " (52.914182, -0.66658),\n",
       " (52.772021, -0.33709),\n",
       " (52.767099, -0.611493),\n",
       " (52.907078, -0.658471),\n",
       " (52.915739, -0.645264),\n",
       " (52.910432, -0.644984),\n",
       " (52.962069, -0.616718),\n",
       " (52.912943, -0.644459),\n",
       " (52.98881, -0.750243),\n",
       " (52.919731, -0.617176),\n",
       " (52.801512, -0.363112),\n",
       " (52.744772, -0.368943),\n",
       " (52.744684, -0.369095),\n",
       " (52.848018, -0.627475),\n",
       " (52.876128, -0.63268),\n",
       " (52.905598, -0.631157),\n",
       " (52.894029, -0.52107),\n",
       " (52.803896, -0.598454),\n",
       " (52.828194, -0.631365),\n",
       " (52.763848, -0.370157),\n",
       " (52.980208, -0.561921),\n",
       " (52.793709, -0.444682),\n",
       " (52.675366, -0.317689),\n",
       " (52.653178, -0.478799),\n",
       " (52.848469, -0.627609),\n",
       " (52.828191, -0.631068),\n",
       " (52.915008, -0.644246),\n",
       " (52.893032, -0.375869),\n",
       " (52.657971, -0.509239),\n",
       " (52.64627, -0.479926),\n",
       " (52.811103, -0.518249),\n",
       " (52.86536, -0.551015),\n",
       " (52.652299, -0.480308),\n",
       " (52.769442, -0.627428),\n",
       " (52.893034, -0.376017),\n",
       " (52.917935, -0.625116),\n",
       " (52.91045, -0.646619),\n",
       " (52.690379, -0.33028),\n",
       " (52.910041, -0.658082),\n",
       " (52.657956, -0.45202),\n",
       " (52.674705, -0.315495),\n",
       " (52.987357, -0.595948),\n",
       " (52.916638, -0.606417),\n",
       " (52.927644, -0.705144),\n",
       " (52.660253, -0.490678),\n",
       " (52.919591, -0.620601),\n",
       " (52.807545, -0.499824),\n",
       " (52.676278, -0.312328),\n",
       " (52.762075, -0.612394),\n",
       " (52.901415, -0.634857),\n",
       " (53.023358, -0.599401),\n",
       " (52.653266, -0.478649),\n",
       " (52.677388, -0.289357),\n",
       " (52.923748, -0.694104),\n",
       " (52.901346, -0.652404),\n",
       " (52.930006, -0.732448),\n",
       " (52.831696, -0.630958),\n",
       " (52.77157, -0.375947),\n",
       " (52.652123, -0.48061),\n",
       " (52.660387, -0.466129),\n",
       " (52.915542, -0.651666),\n",
       " (52.89854, -0.611755),\n",
       " (52.80107, -0.430179),\n",
       " (52.900874, -0.634726),\n",
       " (52.919693, -0.685152),\n",
       " (52.64785, -0.476915),\n",
       " (52.910632, -0.646762),\n",
       " (52.917338, -0.683588),\n",
       " (52.681361, -0.315683),\n",
       " (52.994257, -0.578887),\n",
       " (52.677267, -0.325012),\n",
       " (52.773377, -0.376621),\n",
       " (52.78866, -0.376497),\n",
       " (52.894573, -0.634032),\n",
       " (52.904215, -0.635959),\n",
       " (52.81496, -0.621988),\n",
       " (52.959278, -0.616361),\n",
       " (52.917392, -0.63257),\n",
       " (52.664526, -0.378588),\n",
       " (52.989971, -0.766747),\n",
       " (52.91448, -0.669099),\n",
       " (52.926582, -0.634363),\n",
       " (52.934375, -0.70405),\n",
       " (52.651153, -0.482122),\n",
       " (52.92807, -0.711231),\n",
       " (52.666735, -0.225294),\n",
       " (52.929664, -0.725615),\n",
       " (52.918614, -0.637291),\n",
       " (52.834763, -0.381755),\n",
       " (52.759159, -0.369147),\n",
       " (52.864134, -0.629492),\n",
       " (52.768677, -0.361676),\n",
       " (52.879005, -0.632738),\n",
       " (52.919749, -0.611077),\n",
       " (52.744772, -0.368943),\n",
       " (52.783543, -0.610822),\n",
       " (52.901434, -0.652252),\n",
       " (52.910343, -0.645135),\n",
       " (52.731687, -0.425268),\n",
       " (52.864531, -0.336823),\n",
       " (52.872149, -0.393885),\n",
       " (52.710522, -0.442906),\n",
       " (52.909187, -0.646212),\n",
       " (52.884328, -0.40369),\n",
       " (52.915912, -0.644664),\n",
       " (52.653681, -0.482922),\n",
       " (52.76788, -0.369117),\n",
       " (52.908746, -0.639088),\n",
       " (52.681089, -0.315545),\n",
       " (52.91084, -0.641402),\n",
       " (52.913287, -0.64311),\n",
       " (52.826382, -0.630086),\n",
       " (52.934529, -0.629649),\n",
       " (52.659423, -0.247474),\n",
       " (52.709176, -0.443102),\n",
       " (52.652016, -0.479283),\n",
       " (52.876135, -0.722132),\n",
       " (52.969151, -0.662059),\n",
       " (52.650555, -0.47756),\n",
       " (52.896217, -0.359099),\n",
       " (52.949927, -0.679472),\n",
       " (52.981786, -0.536546),\n",
       " (53.026264, -0.664468),\n",
       " (52.802189, -0.379701),\n",
       " (52.930006, -0.732448),\n",
       " (52.916442, -0.651786),\n",
       " (52.711588, -0.355377),\n",
       " (52.906842, -0.637661),\n",
       " (52.950289, -0.616499),\n",
       " (52.709803, -0.442931),\n",
       " (52.89909, -0.537698),\n",
       " (52.882015, -0.597867),\n",
       " (52.699369, -0.26763),\n",
       " (52.893034, -0.376017),\n",
       " (52.915649, -0.645267),\n",
       " (52.670209, -0.360334),\n",
       " (52.913648, -0.643247),\n",
       " (52.863932, -0.604393),\n",
       " (52.900874, -0.634726),\n",
       " (52.979021, -0.538278),\n",
       " (52.915739, -0.645264),\n",
       " (52.696097, -0.296173),\n",
       " (52.684068, -0.361294),\n",
       " (52.916234, -0.641382),\n",
       " (52.976624, -0.737042),\n",
       " (52.801811, -0.384907),\n",
       " (52.927693, -0.637155),\n",
       " (52.958557, -0.687546),\n",
       " (52.899783, -0.756375),\n",
       " (52.900919, -0.554884),\n",
       " (52.751501, -0.518642),\n",
       " (52.909146, -0.642644),\n",
       " (52.709444, -0.442944),\n",
       " (52.904331, -0.646066),\n",
       " (52.876757, -0.343191),\n",
       " (52.934522, -0.684703),\n",
       " (52.995005, -0.642933),\n",
       " (52.897562, -0.604948),\n",
       " (52.909674, -0.67341),\n",
       " (52.911401, -0.643317),\n",
       " (52.936867, -0.685376),\n",
       " (52.677096, -0.312888),\n",
       " (52.909718, -0.645452),\n",
       " (52.675086, -0.31696),\n",
       " (52.80913, -0.540422),\n",
       " (52.911418, -0.636922),\n",
       " (52.709176, -0.443102),\n",
       " (52.970344, -0.713101),\n",
       " (52.701461, -0.344806),\n",
       " (52.804044, -0.611058),\n",
       " (52.775063, -0.28553),\n",
       " (52.911013, -0.640801),\n",
       " (52.664588, -0.256288),\n",
       " (52.835781, -0.351134),\n",
       " (52.888407, -0.340517),\n",
       " (52.658743, -0.471065),\n",
       " (52.771984, -0.309073),\n",
       " (52.983123, -0.535607),\n",
       " (52.998708, -0.530907),\n",
       " (52.91045, -0.646619),\n",
       " (52.912924, -0.642824),\n",
       " (52.676893, -0.298696),\n",
       " (52.655663, -0.469251),\n",
       " (52.715283, -0.442588),\n",
       " (52.896764, -0.598283),\n",
       " (52.917777, -0.634789),\n",
       " (52.910876, -0.644524),\n",
       " (52.835725, -0.629495),\n",
       " (52.899783, -0.756375),\n",
       " (52.653279, -0.486631),\n",
       " (52.97393, -0.728929),\n",
       " (52.917126, -0.680619),\n",
       " (53.031313, -0.731418),\n",
       " (52.788837, -0.376342),\n",
       " (52.675188, -0.330564),\n",
       " (52.742759, -0.419535),\n",
       " (52.649842, -0.478028),\n",
       " (52.698327, -0.339301),\n",
       " (52.769039, -0.381526),\n",
       " (52.91054, -0.646616),\n",
       " (52.676081, -0.304792),\n",
       " (52.726275, -0.364154),\n",
       " (52.758982, -0.369302),\n",
       " (52.891602, -0.633679),\n",
       " (52.835725, -0.629495),\n",
       " (52.908431, -0.642964),\n",
       " (52.903935, -0.635075),\n",
       " (52.765711, -0.368309),\n",
       " (52.883045, -0.342802),\n",
       " (52.97642, -0.590941),\n",
       " (52.949648, -0.703147),\n",
       " (52.861614, -0.629274),\n",
       " (52.656978, -0.398679),\n",
       " (52.892049, -0.649125),\n",
       " (52.724529, -0.322905),\n",
       " (52.897696, -0.663518),\n",
       " (52.910711, -0.653749),\n",
       " (52.919357, -0.647233),\n",
       " (52.909139, -0.657813),\n",
       " (53.019458, -0.766801),\n",
       " (52.891516, -0.344263),\n",
       " (52.675175, -0.316956),\n",
       " (52.910929, -0.633517),\n",
       " (52.674815, -0.298037),\n",
       " (52.944602, -0.622187),\n",
       " (52.652387, -0.480157),\n",
       " (52.762482, -0.362353),\n",
       " (52.804044, -0.611058),\n",
       " (52.915629, -0.643483),\n",
       " (52.912827, -0.682088),\n",
       " (52.902411, -0.643301),\n",
       " (52.918647, -0.640116),\n",
       " (52.896953, -0.591439),\n",
       " (52.768009, -0.371929),\n",
       " (52.900761, -0.664316),\n",
       " (52.911761, -0.635424),\n",
       " (52.655133, -0.46306),\n",
       " (52.659048, -0.480813),\n",
       " (52.777013, -0.629117),\n",
       " (52.908385, -0.670773),\n",
       " (52.750192, -0.500314),\n",
       " (52.653673, -0.48233),\n",
       " (52.903773, -0.660357),\n",
       " (52.802278, -0.373022),\n",
       " (52.994716, -0.764824),\n",
       " (52.860794, -0.385243),\n",
       " (52.710614, -0.443051),\n",
       " (53.030734, -0.744707),\n",
       " (52.893124, -0.376014),\n",
       " (52.99687, -0.764464),\n",
       " (52.901432, -0.652104),\n",
       " (52.916292, -0.678414),\n",
       " (52.650322, -0.487473),\n",
       " (52.969806, -0.713266),\n",
       " (52.842051, -0.534419),\n",
       " (52.932189, -0.568423),\n",
       " (52.686678, -0.361492),\n",
       " (52.90941, -0.657953),\n",
       " (52.902537, -0.662329),\n",
       " (52.919506, -0.62105),\n",
       " (52.688579, -0.317477),\n",
       " (52.911625, -0.647177),\n",
       " (52.917392, -0.640453),\n",
       " (52.976534, -0.737044),\n",
       " (52.653369, -0.486628),\n",
       " (52.911264, -0.555432),\n",
       " (52.789916, -0.376302),\n",
       " (53.02582, -0.602304),\n",
       " (52.909077, -0.660343),\n",
       " (52.65957, -0.493511),\n",
       " (52.65414, -0.476696),\n",
       " (52.91493, -0.645289),\n",
       " (52.675532, -0.297861),\n",
       " (52.910542, -0.646765),\n",
       " (52.919364, -0.608858),\n",
       " (52.654995, -0.466317),\n",
       " (52.906443, -0.657896),\n",
       " (52.863234, -0.386192),\n",
       " (52.823978, -0.382008),\n",
       " (52.909684, -0.674302),\n",
       " (52.765079, -0.401089),\n",
       " (52.928162, -0.711377),\n",
       " (52.926899, -0.607426),\n",
       " (52.681965, -0.301309),\n",
       " (52.908111, -0.662305),\n",
       " (52.835728, -0.629792),\n",
       " (52.99224, -0.590724),\n",
       " (52.91229, -0.642397),\n",
       " (52.915968, -0.64957),\n",
       " (52.909624, -0.668951),\n",
       " (52.831993, -0.409618),\n",
       " (52.69773, -0.29093),\n",
       " (52.772391, -0.376806),\n",
       " (52.835691, -0.351138),\n",
       " (52.950649, -0.679748),\n",
       " (52.671621, -0.294759),\n",
       " (52.838867, -0.6291),\n",
       " (52.971189, -0.716501),\n",
       " (52.930536, -0.580529),\n",
       " (52.91572, -0.643629),\n",
       " (52.654545, -0.508468),\n",
       " (52.91238, -0.642395),\n",
       " (52.898451, -0.611758),\n",
       " (52.911179, -0.639607),\n",
       " (52.90928, -0.646507),\n",
       " (52.660857, -0.481638),\n",
       " (52.675081, -0.316664),\n",
       " (52.921613, -0.640023),\n",
       " (52.922816, -0.650993),\n",
       " (52.908612, -0.643107),\n",
       " (52.909475, -0.639957),\n",
       " (52.761496, -0.356017),\n",
       " (52.914864, -0.647374),\n",
       " (52.652226, -0.426498),\n",
       " (52.933869, -0.666421),\n",
       " (52.896685, -0.591596),\n",
       " (52.771907, -0.291139),\n",
       " (52.670637, -0.288882),\n",
       " (52.657402, -0.478653),\n",
       " (52.654062, -0.477586),\n",
       " (52.649951, -0.472555),\n",
       " (52.850887, -0.62679),\n",
       " (52.827411, -0.633616),\n",
       " (52.904127, -0.63611),\n",
       " (52.771903, -0.309669),\n",
       " (52.651849, -0.480324),\n",
       " (52.651416, -0.474573),\n",
       " (52.876135, -0.722132),\n",
       " (52.936032, -0.66695),\n",
       " (52.654596, -0.470175),\n",
       " (52.913526, -0.640425),\n",
       " (53.042322, -0.591328),\n",
       " (52.897576, -0.717934),\n",
       " (52.652795, -0.483987),\n",
       " (52.687669, -0.361603),\n",
       " (52.976259, -0.736606),\n",
       " (52.771151, -0.378186),\n",
       " (52.890908, -0.404935),\n",
       " (52.916124, -0.67946),\n",
       " (52.915649, -0.645267),\n",
       " (52.657974, -0.392581),\n",
       " (52.808925, -0.531082),\n",
       " (52.656016, -0.468795),\n",
       " (52.916555, -0.677811),\n",
       " (52.69498, -0.350674),\n",
       " (53.006261, -0.621118),\n",
       " (52.79234, -0.376063),\n",
       " (52.934529, -0.629649),\n",
       " (52.904242, -0.630456),\n",
       " (52.675547, -0.317829),\n",
       " (52.662167, -0.478635),\n",
       " (52.909187, -0.646212),\n",
       " (52.803415, -0.611078),\n",
       " (52.91086, -0.651067),\n",
       " (52.814208, -0.377622),\n",
       " (52.977396, -0.589866),\n",
       " (52.769486, -0.381361),\n",
       " (52.911603, -0.669039),\n",
       " (52.901417, -0.658646),\n",
       " (52.973493, -0.601908),\n",
       " (52.6587, -0.386492),\n",
       " (52.902209, -0.625763),\n",
       " (52.92932, -0.727112),\n",
       " (52.653637, -0.479523),\n",
       " (52.863932, -0.604393),\n",
       " (52.680642, -0.278135),\n",
       " (52.904491, -0.636545),\n",
       " (52.674278, -0.310778),\n",
       " (52.801702, -0.610688),\n",
       " (52.769427, -0.377064),\n",
       " (52.655033, -0.490267),\n",
       " (52.921896, -0.617851),\n",
       " (52.699369, -0.26763),\n",
       " (52.909156, -0.675359),\n",
       " (52.943611, -0.677432),\n",
       " (52.915284, -0.644832),\n",
       " (52.768589, -0.361827),\n",
       " (52.80359, -0.610628),\n",
       " (52.904218, -0.636256),\n",
       " (52.887629, -0.687906),\n",
       " (52.803958, -0.611358),\n",
       " (52.904398, -0.63625),\n",
       " (52.64676, -0.476066),\n",
       " (52.845426, -0.379131),\n",
       " (52.876312, -0.72183),\n",
       " (52.650473, -0.478154),\n",
       " (53.03032, -0.722649),\n",
       " (52.91522, -0.647065),\n",
       " (52.921613, -0.640023),\n",
       " (52.802028, -0.577449),\n",
       " (52.900425, -0.63474),\n",
       " (52.799841, -0.378899),\n",
       " (52.926312, -0.658025),\n",
       " (52.744684, -0.369095),\n",
       " (52.902755, -0.641952),\n",
       " (52.755124, -0.36989),\n",
       " (52.794498, -0.449994),\n",
       " (52.911315, -0.643618),\n",
       " (52.903933, -0.634927),\n",
       " (52.961749, -0.620153),\n",
       " (52.91055, -0.65539),\n",
       " (52.910796, -0.6533),\n",
       " (52.863566, -0.573654),\n",
       " (52.897521, -0.66397),\n",
       " (52.916693, -0.658025),\n",
       " (52.771517, -0.359049),\n",
       " (52.949567, -0.679483),\n",
       " (52.936172, -0.519336),\n",
       " (52.902752, -0.587682),\n",
       " (52.908381, -0.638653),\n",
       " (52.918645, -0.639967),\n",
       " (52.955142, -0.616344),\n",
       " (52.944532, -0.728898),\n",
       " (52.919755, -0.634875),\n",
       " (52.661785, -0.428669),\n",
       " (52.914453, -0.690962),\n",
       " (52.907646, -0.568489),\n",
       " (52.674735, -0.330285),\n",
       " (52.854089, -0.381482),\n",
       " (52.942626, -0.599331),\n",
       " (52.774727, -0.376719),\n",
       " (52.928255, -0.711672),\n",
       " (52.753149, -0.535478),\n",
       " (52.649135, -0.471992),\n",
       " (52.935835, -0.521133),\n",
       " (52.943444, -0.623117),\n",
       " (52.827718, -0.439757),\n",
       " (52.898148, -0.608943),\n",
       " (52.870345, -0.630187),\n",
       " (52.834919, -0.629818),\n",
       " (52.895499, -0.660018),\n",
       " (53.023967, -0.574929),\n",
       " (52.828191, -0.631068),\n",
       " (52.661728, -0.514878),\n",
       " (52.674642, -0.31106),\n",
       " (52.758021, -0.40446),\n",
       " (52.833152, -0.38226),\n",
       " (52.879005, -0.632738),\n",
       " (52.904338, -0.631048),\n",
       " (53.033452, -0.527042),\n",
       " (52.915804, -0.351666),\n",
       " (52.916846, -0.336157),\n",
       " (53.038011, -0.576554),\n",
       " (52.876225, -0.72213),\n",
       " (52.887685, -0.660705),\n",
       " (53.038843, -0.578465),\n",
       " (52.918141, -0.674936),\n",
       " (52.766226, -0.366511),\n",
       " (52.658418, -0.473738),\n",
       " (52.750756, -0.605494),\n",
       " (52.918442, -0.532287),\n",
       " (52.90494, -0.668202),\n",
       " (52.994711, -0.764377),\n",
       " (52.710612, -0.442903),\n",
       " (53.048646, -0.688391),\n",
       " (52.901012, -0.525888),\n",
       " (52.834558, -0.629681),\n",
       " (52.827392, -0.362139),\n",
       " (52.657472, -0.484121),\n",
       " (52.91045, -0.646619),\n",
       " (52.787663, -0.436149),\n",
       " (52.686845, -0.31562),\n",
       " (52.917024, -0.578294),\n",
       " (52.680937, -0.323836),\n",
       " (52.949098, -0.677712),\n",
       " (52.980425, -0.550146),\n",
       " (52.944279, -0.672798),\n",
       " (52.898151, -0.60924),\n",
       " (52.919506, -0.62105),\n",
       " (52.910063, -0.668045),\n",
       " (52.919474, -0.633843),\n",
       " (52.932362, -0.684471),\n",
       " (52.875419, -0.633594),\n",
       " (52.912991, -0.633006),\n",
       " (52.653268, -0.478796),\n",
       " (52.910044, -0.558595),\n",
       " (52.650118, -0.485558),\n",
       " (52.904673, -0.636688),\n",
       " (52.652304, -0.480752),\n",
       " (52.943368, -0.671785),\n",
       " (52.675442, -0.297865),\n",
       " (52.669131, -0.360374),\n",
       " (52.762088, -0.359848),\n",
       " (52.806039, -0.612478),\n",
       " (52.928454, -0.632965),\n",
       " (52.674651, -0.330732),\n",
       " (53.019998, -0.766785),\n",
       " (52.655767, -0.442782),\n",
       " (52.915829, -0.645261),\n",
       " (52.913287, -0.64311),\n",
       " (52.918032, -0.673155),\n",
       " (52.835781, -0.351134),\n",
       " (52.794488, -0.449253),\n",
       " (53.011251, -0.764203),\n",
       " (52.880571, -0.635958),\n",
       " (52.654651, -0.509795),\n",
       " (52.685871, -0.329417),\n",
       " (52.876128, -0.63268),\n",
       " (52.917124, -0.541999),\n",
       " (52.919021, -0.681305),\n",
       " (52.933585, -0.730856),\n",
       " (52.766488, -0.392292),\n",
       " (52.994711, -0.764377),\n",
       " (52.657345, -0.46727),\n",
       " (52.924117, -0.694985),\n",
       " (52.657958, -0.452167),\n",
       " (52.91601, -0.645404),\n",
       " (53.015843, -0.764966),\n",
       " (53.019637, -0.766646),\n",
       " (52.806673, -0.612903),\n",
       " (52.765993, -0.362666),\n",
       " (52.731683, -0.424972),\n",
       " (52.911425, -0.637517),\n",
       " (52.806044, -0.612923),\n",
       " (52.717003, -0.363317),\n",
       " (52.717979, -0.362392),\n",
       " (52.650924, -0.478286),\n",
       " (52.993086, -0.763678),\n",
       " (52.911176, -0.555583),\n",
       " (53.035209, -0.531009),\n",
       " (52.922584, -0.622886),\n",
       " (52.911111, -0.641542),\n",
       " (52.650759, -0.486423),\n",
       " (52.75795, -0.372749),\n",
       " (52.969116, -0.666975),\n",
       " (52.900521, -0.589093),\n",
       " (52.912019, -0.642257),\n",
       " (52.944692, -0.622184),\n",
       " (52.65132, -0.481081),\n",
       " (52.901601, -0.659086),\n",
       " (52.892871, -0.403822),\n",
       " (52.898894, -0.658129),\n",
       " (52.652125, -0.480758),\n",
       " (52.911173, -0.646894),\n",
       " (52.916467, -0.677962),\n",
       " (52.919786, -0.685447),\n",
       " (52.868421, -0.344994),\n",
       " (52.805949, -0.612481),\n",
       " (52.981536, -0.751049),\n",
       " (52.674009, -0.310789),\n",
       " (52.755897, -0.380383),\n",
       " (52.910145, -0.635624),\n",
       " (52.904127, -0.63611),\n",
       " (52.909475, -0.639957),\n",
       " (52.911174, -0.555435),\n",
       " (52.768084, -0.37741),\n",
       " (52.897696, -0.663518),\n",
       " (52.683117, -0.32538),\n",
       " (52.911579, -0.643163),\n",
       " (52.741823, -0.416755),\n",
       " (52.915997, -0.644215),\n",
       " (52.662323, -0.512196),\n",
       " (52.906409, -0.63128),\n",
       " (52.853217, -0.331463),\n",
       " (52.859035, -0.541125),\n",
       " (52.660224, -0.481364),\n",
       " (52.908376, -0.638207),\n",
       " (52.925174, -0.605994),\n",
       " (52.904128, -0.636259),\n",
       " (52.971416, -0.720813),\n",
       " (52.964516, -0.722952),\n",
       " (52.698421, -0.339593),\n",
       " (52.896007, -0.356877),\n",
       " (52.76209, -0.359996),\n",
       " (53.037644, -0.561054),\n",
       " (52.655125, -0.490412),\n",
       " (52.777551, -0.379431),\n",
       " (52.651578, -0.480185),\n",
       " (52.97184, -0.685506),\n",
       " (52.654949, -0.512003),\n",
       " (52.935348, -0.761605),\n",
       " (52.908473, -0.638799),\n",
       " (52.919979, -0.686631),\n",
       " (52.967753, -0.689948),\n",
       " (52.915186, -0.644092),\n",
       " (52.901846, -0.648968),\n",
       " (52.901432, -0.652104),\n",
       " (52.658766, -0.46589),\n",
       " (52.771484, -0.350156),\n",
       " (52.903378, -0.665128),\n",
       " (52.654653, -0.509943),\n",
       " (52.805756, -0.52926),\n",
       " (52.915193, -0.644686),\n",
       " (52.908683, -0.641469),\n",
       " (52.935116, -0.633797),\n",
       " (52.93687, -0.645646),\n",
       " (52.651174, -0.483747),\n",
       " (52.910932, -0.641548),\n",
       " (52.802196, -0.380146),\n",
       " (52.816203, -0.270555),\n",
       " (52.916855, -0.680479),\n",
       " (52.875692, -0.633882),\n",
       " (52.919176, -0.623589),\n",
       " (52.918557, -0.640119),\n",
       " (52.914331, -0.640103),\n",
       " (52.885902, -0.341356),\n",
       " (52.670211, -0.360481),\n",
       " (52.944736, -0.673529),\n",
       " (52.907747, -0.638227),\n",
       " (52.919505, -0.684414),\n",
       " (52.801924, -0.380008),\n",
       " (52.658418, -0.473738),\n",
       " (52.84489, -0.652668),\n",
       " (52.654943, -0.49027),\n",
       " (52.912675, -0.629001),\n",
       " (52.903259, -0.662604),\n",
       " (52.770836, -0.381459),\n",
       " (52.734223, -0.440284),\n",
       " (52.901723, -0.669936),\n",
       " (52.960194, -0.689283),\n",
       " (53.046644, -0.646085),\n",
       " (52.919934, -0.634721),\n",
       " (52.76788, -0.369117),\n",
       " (52.87151, -0.393166),\n",
       " (52.985146, -0.598999),\n",
       " (52.887322, -0.405661),\n",
       " (52.670211, -0.360481),\n",
       " (52.653133, -0.496394),\n",
       " (52.652419, -0.48267),\n",
       " (52.989012, -0.55403),\n",
       " (52.893969, -0.567453),\n",
       " (52.906609, -0.64882),\n",
       " (52.916122, -0.679311),\n",
       " (52.902233, -0.339096),\n",
       " (52.921988, -0.617996),\n",
       " (52.681271, -0.315686),\n",
       " (52.973311, -0.601765),\n",
       " (52.965937, -0.64027),\n",
       " (52.660088, -0.48477),\n",
       " (52.91751, -0.619478),\n",
       " (52.914822, -0.62804),\n",
       " (52.875254, -0.723793),\n",
       " (52.886892, -0.341466),\n",
       " (52.731689, -0.425416),\n",
       " (52.906686, -0.647628),\n",
       " (52.797756, -0.377641),\n",
       " (52.985201, -0.757647),\n",
       " (52.994716, -0.764824),\n",
       " (52.900371, -0.561592),\n",
       " (52.824158, -0.382001),\n",
       " (52.918261, -0.67761),\n",
       " (52.97914, -0.745458),\n",
       " (52.912855, -0.628995),\n",
       " (52.934529, -0.629649),\n",
       " (52.680274, -0.315133),\n",
       " (52.811739, -0.518821),\n",
       " (52.657098, -0.455155),\n",
       " (52.903933, -0.634927),\n",
       " (52.910929, -0.633517),\n",
       " (52.68, -0.314848),\n",
       " (52.659142, -0.474157),\n",
       " (52.699016, -0.268088),\n",
       " (52.658301, -0.390203),\n",
       " (52.919473, -0.513956),\n",
       " (52.982856, -0.673702),\n",
       " (52.997901, -0.58294),\n",
       " (52.794526, -0.682998),\n",
       " (52.648557, -0.476003),\n",
       " (52.767379, -0.371952),\n",
       " (53.019771, -0.600114),\n",
       " (52.977458, -0.739401),\n",
       " (52.979171, -0.535889),\n",
       " (52.915191, -0.644538),\n",
       " (52.789278, -0.442764),\n",
       " (52.921613, -0.640023),\n",
       " (52.938293, -0.597834),\n",
       " (52.904217, -0.636107),\n",
       " (52.976176, -0.737204),\n",
       " (52.769158, -0.377074),\n",
       " (52.916519, -0.650594),\n",
       " (52.652795, -0.483987),\n",
       " (52.917927, -0.632256),\n",
       " (52.689547, -0.31596),\n",
       " (52.919505, -0.684414),\n",
       " (52.915876, -0.649424),\n",
       " (52.866222, -0.387716),\n",
       " (52.927506, -0.636566),\n",
       " (52.651592, -0.474272),\n",
       " (52.774635, -0.376574),\n",
       " (52.904263, -0.67194),\n",
       " (52.930509, -0.631859),\n",
       " (52.829361, -0.63118),\n",
       " (52.653126, -0.495803),\n",
       " (52.789573, -0.444682),\n",
       " (52.89625, -0.65494),\n",
       " (52.739278, -0.448695),\n",
       " (52.918261, -0.67761),\n",
       " (52.907445, -0.326108),\n",
       " (52.7089, -0.356071),\n",
       " (52.93774, -0.666898),\n",
       " (52.658215, -0.390502),\n",
       " (52.808705, -0.633016),\n",
       " (52.91238, -0.642395),\n",
       " (52.660045, -0.474421),\n",
       " (52.904783, -0.646349),\n",
       " (52.767739, -0.371939),\n",
       " (52.91101, -0.640504),\n",
       " (52.711607, -0.363223),\n",
       " (52.653189, -0.486635),\n",
       " (52.965971, -0.699532),\n",
       " (52.935955, -0.628563),\n",
       " (52.845273, -0.533271),\n",
       " (52.684078, -0.317058),\n",
       " (52.91697, -0.332137),\n",
       " (52.80613, -0.612624),\n",
       " (52.675152, -0.334411),\n",
       " (52.686828, -0.327161),\n",
       " (52.695921, -0.296476),\n",
       " (52.877862, -0.627127),\n",
       " (52.960272, -0.616776),\n",
       " (52.980498, -0.526907),\n",
       " (53.027863, -0.654726),\n",
       " (52.910542, -0.646765),\n",
       " (52.980618, -0.566078),\n",
       " (52.904217, -0.636107),\n",
       " (52.948858, -0.680398),\n",
       " (52.91625, -0.627103),\n",
       " (52.809383, -0.539079),\n",
       " (52.836088, -0.629781),\n",
       " (52.675278, -0.31784),\n",
       " (52.841833, -0.629006),\n",
       " (52.93067, -0.735702),\n",
       " (52.91172, -0.297984),\n",
       " (52.870208, -0.344183),\n",
       " (52.928415, -0.661084),\n",
       " (52.919269, -0.647385),\n",
       " (52.741306, -0.418403),\n",
       " (52.880808, -0.633127),\n",
       " (52.970435, -0.713247),\n",
       " (52.926582, -0.634363),\n",
       " (52.906964, -0.648363),\n",
       " (52.715923, -0.343814),\n",
       " (52.703859, -0.349156),\n",
       " (52.796665, -0.610404),\n",
       " (52.946758, -0.60664),\n",
       " (52.908964, -0.63462),\n",
       " (52.911234, -0.644364),\n",
       " (52.90403, -0.65916),\n",
       " (52.758622, -0.369315),\n",
       " (52.771823, -0.297813),\n",
       " (52.926861, -0.61189),\n",
       " (53.041965, -0.54674),\n",
       " (52.845273, -0.533271),\n",
       " (52.994799, -0.764225),\n",
       " (52.712487, -0.388061),\n",
       " (52.738818, -0.367536),\n",
       " (52.906865, -0.655504),\n",
       " (52.687847, -0.361448),\n",
       " (52.863147, -0.629671),\n",
       " (52.850887, -0.62679),\n",
       " (52.915598, -0.356284),\n",
       " (52.90248, -0.587542),\n",
       " ...]"
      ]
     },
     "execution_count": 76,
     "metadata": {},
     "output_type": "execute_result"
    }
   ],
   "source": [
    "locations2"
   ]
  },
  {
   "cell_type": "markdown",
   "id": "da0855d1-b0db-443d-8a08-5a331c30ad38",
   "metadata": {},
   "source": [
    "<h3>INSIGHTS:</h3>"
   ]
  },
  {
   "cell_type": "markdown",
   "id": "ac4759db-2285-4c0a-8a5e-424ed087c36f",
   "metadata": {},
   "source": [
    "Based on the heat map that the town who got an highest number of records in slight accident was the South Kesteven and the lowest number of records was the town of Allerdale.\n",
    "<hr>"
   ]
  },
  {
   "cell_type": "code",
   "execution_count": null,
   "id": "ce3936e6-de14-4fe1-88bc-31b511fb2bee",
   "metadata": {},
   "outputs": [],
   "source": []
  }
 ],
 "metadata": {
  "kernelspec": {
   "display_name": "Python 3 (ipykernel)",
   "language": "python",
   "name": "python3"
  },
  "language_info": {
   "codemirror_mode": {
    "name": "ipython",
    "version": 3
   },
   "file_extension": ".py",
   "mimetype": "text/x-python",
   "name": "python",
   "nbconvert_exporter": "python",
   "pygments_lexer": "ipython3",
   "version": "3.10.0"
  }
 },
 "nbformat": 4,
 "nbformat_minor": 5
}
